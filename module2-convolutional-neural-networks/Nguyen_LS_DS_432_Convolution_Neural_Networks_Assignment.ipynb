{
  "nbformat": 4,
  "nbformat_minor": 0,
  "metadata": {
    "kernelspec": {
      "display_name": "U4-S2-NNF-DS10",
      "language": "python",
      "name": "u4-s2-nnf-ds10"
    },
    "language_info": {
      "codemirror_mode": {
        "name": "ipython",
        "version": 3
      },
      "file_extension": ".py",
      "mimetype": "text/x-python",
      "name": "python",
      "nbconvert_exporter": "python",
      "pygments_lexer": "ipython3",
      "version": "3.7.6"
    },
    "colab": {
      "name": "Nguyen_LS_DS_432_Convolution_Neural_Networks_Assignment.ipynb",
      "provenance": [],
      "collapsed_sections": [],
      "include_colab_link": true
    },
    "accelerator": "GPU"
  },
  "cells": [
    {
      "cell_type": "markdown",
      "metadata": {
        "id": "view-in-github",
        "colab_type": "text"
      },
      "source": [
        "<a href=\"https://colab.research.google.com/github/JonNData/DS-Unit-4-Sprint-3-Deep-Learning/blob/master/module2-convolutional-neural-networks/Nguyen_LS_DS_432_Convolution_Neural_Networks_Assignment.ipynb\" target=\"_parent\"><img src=\"https://colab.research.google.com/assets/colab-badge.svg\" alt=\"Open In Colab\"/></a>"
      ]
    },
    {
      "cell_type": "markdown",
      "metadata": {
        "id": "FJc2YmH-Ij3E",
        "colab_type": "text"
      },
      "source": [
        "<img align=\"left\" src=\"https://lever-client-logos.s3.amazonaws.com/864372b1-534c-480e-acd5-9711f850815c-1524247202159.png\" width=200>\n",
        "<br></br>\n",
        "<br></br>\n",
        "\n",
        "## *Data Science Unit 4 Sprint 3 Assignment 2*\n",
        "# Convolutional Neural Networks (CNNs)"
      ]
    },
    {
      "cell_type": "markdown",
      "metadata": {
        "colab_type": "text",
        "id": "0lfZdD_cp1t5"
      },
      "source": [
        "# Assignment\n",
        "\n",
        "- <a href=\"#p1\">Part 1:</a> Pre-Trained Model\n",
        "- <a href=\"#p2\">Part 2:</a> Custom CNN Model\n",
        "- <a href=\"#p3\">Part 3:</a> CNN with Data Augmentation\n",
        "\n",
        "\n",
        "You will apply three different CNN models to a binary image classification model using Keras. Classify images of Mountains (`./data/train/mountain/*`) and images of forests (`./data/train/forest/*`). Treat mountains as the positive class (1) and the forest images as the negative (zero). \n",
        "\n",
        "|Mountain (+)|Forest (-)|\n",
        "|---|---|\n",
        "|![](./data/train/mountain/art1131.jpg)|![](./data/validation/forest/cdmc317.jpg)|\n",
        "\n",
        "The problem is relatively difficult given that the sample is tiny: there are about 350 observations per class. This sample size might be something that you can expect with prototyping an image classification problem/solution at work. Get accustomed to evaluating several different possible models."
      ]
    },
    {
      "cell_type": "markdown",
      "metadata": {
        "colab_type": "text",
        "id": "nuqCJXMFIj3F"
      },
      "source": [
        "# Pre - Trained Model\n",
        "<a id=\"p1\"></a>\n",
        "\n",
        "Load a pretrained network from Keras, [ResNet50](https://tfhub.dev/google/imagenet/resnet_v1_50/classification/1) - a 50 layer deep network trained to recognize [1000 objects](https://storage.googleapis.com/download.tensorflow.org/data/ImageNetLabels.txt). Starting usage:\n",
        "\n",
        "```python\n",
        "import numpy as np\n",
        "\n",
        "from tensorflow.keras.applications.resnet50 import ResNet50\n",
        "from tensorflow.keras.preprocessing import image\n",
        "from tensorflow.keras.applications.resnet50 import preprocess_input, decode_predictions\n",
        "\n",
        "from tensorflow.keras.layers import Dense, GlobalAveragePooling2D\n",
        "from tensorflow.keras.models import Model # This is the functional API\n",
        "\n",
        "resnet = ResNet50(weights='imagenet', include_top=False)\n",
        "\n",
        "```\n",
        "\n",
        "The `include_top` parameter in `ResNet50` will remove the full connected layers from the ResNet model. The next step is to turn off the training of the ResNet layers. We want to use the learned parameters without updating them in future training passes. \n",
        "\n",
        "```python\n",
        "for layer in resnet.layers:\n",
        "    layer.trainable = False\n",
        "```\n",
        "\n",
        "Using the Keras functional API, we will need to additional additional full connected layers to our model. We we removed the top layers, we removed all preivous fully connected layers. In other words, we kept only the feature processing portions of our network. You can expert with additional layers beyond what's listed here. The `GlobalAveragePooling2D` layer functions as a really fancy flatten function by taking the average of each of the last convolutional layer outputs (which is two dimensional still). \n",
        "\n",
        "```python\n",
        "x = resnet.output\n",
        "x = GlobalAveragePooling2D()(x) # This layer is a really fancy flatten\n",
        "x = Dense(1024, activation='relu')(x)\n",
        "predictions = Dense(1, activation='sigmoid')(x)\n",
        "model = Model(resnet.input, predictions)\n",
        "```\n",
        "\n",
        "Your assignment is to apply the transfer learning above to classify images of Mountains (`./data/train/mountain/*`) and images of forests (`./data/train/forest/*`). Treat mountains as the positive class (1) and the forest images as the negative (zero). \n",
        "\n",
        "Steps to complete assignment: \n",
        "1. Load in Image Data into numpy arrays (`X`) \n",
        "2. Create a `y` for the labels\n",
        "3. Train your model with pre-trained layers from resnet\n",
        "4. Report your model's accuracy"
      ]
    },
    {
      "cell_type": "markdown",
      "metadata": {
        "id": "_JBT44HpIj3G",
        "colab_type": "text"
      },
      "source": [
        "## Load in Data\n",
        "\n",
        "This surprisingly more difficult than it seems, because you are working with directories of images instead of a single file. This boiler plate will help you download a zipped version of the directory of images. The directory is organized into \"train\" and \"validation\" which you can use inside an `ImageGenerator` class to stream batches of images thru your model.  \n"
      ]
    },
    {
      "cell_type": "markdown",
      "metadata": {
        "id": "S7UtTrt1Ij3G",
        "colab_type": "text"
      },
      "source": [
        "### Download & Summarize the Data\n",
        "\n",
        "This step is completed for you. Just run the cells and review the results. "
      ]
    },
    {
      "cell_type": "code",
      "metadata": {
        "id": "YtNtdjxhIj3H",
        "colab_type": "code",
        "colab": {
          "base_uri": "https://localhost:8080/",
          "height": 51
        },
        "outputId": "eb395972-64a6-433c-fd5c-605ea22805cf"
      },
      "source": [
        "import tensorflow as tf\n",
        "import os\n",
        "\n",
        "_URL = 'https://github.com/LambdaSchool/DS-Unit-4-Sprint-3-Deep-Learning/blob/master/module2-convolutional-neural-networks/data.zip?raw=true'\n",
        "\n",
        "path_to_zip = tf.keras.utils.get_file('./data.zip', origin=_URL, extract=True)\n",
        "PATH = os.path.join(os.path.dirname(path_to_zip), 'data')"
      ],
      "execution_count": 4,
      "outputs": [
        {
          "output_type": "stream",
          "text": [
            "Downloading data from https://github.com/LambdaSchool/DS-Unit-4-Sprint-3-Deep-Learning/blob/master/module2-convolutional-neural-networks/data.zip?raw=true\n",
            "42172416/42170838 [==============================] - 0s 0us/step\n"
          ],
          "name": "stdout"
        }
      ]
    },
    {
      "cell_type": "code",
      "metadata": {
        "id": "wnOdgJJwIj3K",
        "colab_type": "code",
        "colab": {}
      },
      "source": [
        "train_dir = os.path.join(PATH, 'train')\n",
        "validation_dir = os.path.join(PATH, 'validation')"
      ],
      "execution_count": 0,
      "outputs": []
    },
    {
      "cell_type": "code",
      "metadata": {
        "id": "FNUZGOjHIj3N",
        "colab_type": "code",
        "colab": {}
      },
      "source": [
        "train_mountain_dir = os.path.join(train_dir, 'mountain')  # directory with our training cat pictures\n",
        "train_forest_dir = os.path.join(train_dir, 'forest')  # directory with our training dog pictures\n",
        "validation_mountain_dir = os.path.join(validation_dir, 'mountain')  # directory with our validation cat pictures\n",
        "validation_forest_dir = os.path.join(validation_dir, 'forest')  # directory with our validation dog pictures"
      ],
      "execution_count": 0,
      "outputs": []
    },
    {
      "cell_type": "code",
      "metadata": {
        "id": "DAo3YvhGIj3P",
        "colab_type": "code",
        "colab": {}
      },
      "source": [
        "num_mountain_tr = len(os.listdir(train_mountain_dir))\n",
        "num_forest_tr = len(os.listdir(train_forest_dir))\n",
        "\n",
        "num_mountain_val = len(os.listdir(validation_mountain_dir))\n",
        "num_forest_val = len(os.listdir(validation_forest_dir))\n",
        "\n",
        "total_train = num_mountain_tr + num_forest_tr\n",
        "total_val = num_mountain_val + num_forest_val"
      ],
      "execution_count": 0,
      "outputs": []
    },
    {
      "cell_type": "code",
      "metadata": {
        "id": "8OssE-i8Ij3S",
        "colab_type": "code",
        "colab": {
          "base_uri": "https://localhost:8080/",
          "height": 136
        },
        "outputId": "c6829e67-94e1-4f67-c2fd-71af2393a635"
      },
      "source": [
        "print('total training mountain images:', num_mountain_tr)\n",
        "print('total training forest images:', num_forest_tr)\n",
        "\n",
        "print('total validation mountain images:', num_mountain_val)\n",
        "print('total validation forest images:', num_forest_val)\n",
        "print(\"--\")\n",
        "print(\"Total training images:\", total_train)\n",
        "print(\"Total validation images:\", total_val)"
      ],
      "execution_count": 8,
      "outputs": [
        {
          "output_type": "stream",
          "text": [
            "total training mountain images: 254\n",
            "total training forest images: 270\n",
            "total validation mountain images: 125\n",
            "total validation forest images: 62\n",
            "--\n",
            "Total training images: 524\n",
            "Total validation images: 187\n"
          ],
          "name": "stdout"
        }
      ]
    },
    {
      "cell_type": "markdown",
      "metadata": {
        "id": "5HD-aiV2Ij3U",
        "colab_type": "text"
      },
      "source": [
        "### Keras `ImageGenerator` to Process the Data\n",
        "\n",
        "This step is completed for you, but please review the code. The `ImageGenerator` class reads in batches of data from a directory and pass them to the model one batch at a time. Just like large text files, this method is advantageous, because it stifles the need to load a bunch of images into memory. \n",
        "\n",
        "Check out the documentation for this class method: [Keras `ImageGenerator` Class](https://keras.io/preprocessing/image/#imagedatagenerator-class). You'll expand it's use in the third assignment objective."
      ]
    },
    {
      "cell_type": "code",
      "metadata": {
        "id": "DWuC_UKqIj3V",
        "colab_type": "code",
        "colab": {}
      },
      "source": [
        "batch_size = 16\n",
        "epochs = 50\n",
        "IMG_HEIGHT = 224\n",
        "IMG_WIDTH = 224\n",
        "CHNLS = 3"
      ],
      "execution_count": 0,
      "outputs": []
    },
    {
      "cell_type": "code",
      "metadata": {
        "id": "JnreYZlRIj3Y",
        "colab_type": "code",
        "colab": {}
      },
      "source": [
        "from tensorflow.keras.preprocessing.image import ImageDataGenerator\n",
        "\n",
        "train_image_generator = ImageDataGenerator(rescale=1./255) # Generator for our training data\n",
        "validation_image_generator = ImageDataGenerator(rescale=1./255) # Generator for our validation data"
      ],
      "execution_count": 0,
      "outputs": []
    },
    {
      "cell_type": "code",
      "metadata": {
        "id": "k6XFzyVeIj3a",
        "colab_type": "code",
        "colab": {
          "base_uri": "https://localhost:8080/",
          "height": 34
        },
        "outputId": "9d332f47-c0ce-48a7-b203-7926fe12c5b6"
      },
      "source": [
        "train_data_gen = train_image_generator.flow_from_directory(batch_size=batch_size,\n",
        "                                                           directory=train_dir,\n",
        "                                                           shuffle=True,\n",
        "                                                           target_size=(IMG_HEIGHT, IMG_WIDTH),\n",
        "                                                           class_mode='binary')"
      ],
      "execution_count": 11,
      "outputs": [
        {
          "output_type": "stream",
          "text": [
            "Found 533 images belonging to 2 classes.\n"
          ],
          "name": "stdout"
        }
      ]
    },
    {
      "cell_type": "code",
      "metadata": {
        "id": "mW9Z7pxkIj3c",
        "colab_type": "code",
        "colab": {
          "base_uri": "https://localhost:8080/",
          "height": 34
        },
        "outputId": "b5503cca-a4e2-482e-af46-afcf12e2e804"
      },
      "source": [
        "val_data_gen = validation_image_generator.flow_from_directory(batch_size=batch_size,\n",
        "                                                              directory=validation_dir,\n",
        "                                                              target_size=(IMG_HEIGHT, IMG_WIDTH),\n",
        "                                                              class_mode='binary')"
      ],
      "execution_count": 12,
      "outputs": [
        {
          "output_type": "stream",
          "text": [
            "Found 195 images belonging to 2 classes.\n"
          ],
          "name": "stdout"
        }
      ]
    },
    {
      "cell_type": "markdown",
      "metadata": {
        "id": "PSpjHAXEIj3f",
        "colab_type": "text"
      },
      "source": [
        "## Instatiate Model"
      ]
    },
    {
      "cell_type": "code",
      "metadata": {
        "id": "4GdbUR2bIj3f",
        "colab_type": "code",
        "colab": {
          "base_uri": "https://localhost:8080/",
          "height": 51
        },
        "outputId": "d5dc1cbb-afd6-4793-8cce-fad9e548f0ff"
      },
      "source": [
        "import numpy as np\n",
        "\n",
        "from tensorflow.keras import Sequential\n",
        "from tensorflow.keras.applications.resnet50 import ResNet50\n",
        "from tensorflow.keras.preprocessing import image\n",
        "from tensorflow.keras.applications.resnet50 import preprocess_input, decode_predictions\n",
        " \n",
        "from tensorflow.keras.layers import Dense, GlobalAveragePooling2D\n",
        "from tensorflow.keras.models import Model # This is the functional API\n",
        " \n",
        "resnet = ResNet50(weights='imagenet', include_top=False)\n",
        " "
      ],
      "execution_count": 1,
      "outputs": [
        {
          "output_type": "stream",
          "text": [
            "Downloading data from https://storage.googleapis.com/tensorflow/keras-applications/resnet/resnet50_weights_tf_dim_ordering_tf_kernels_notop.h5\n",
            "94773248/94765736 [==============================] - 1s 0us/step\n"
          ],
          "name": "stdout"
        }
      ]
    },
    {
      "cell_type": "code",
      "metadata": {
        "id": "XjCSRe-9vRMa",
        "colab_type": "code",
        "colab": {}
      },
      "source": [
        "for layer in resnet.layers:\n",
        "    layer.trainable = False"
      ],
      "execution_count": 0,
      "outputs": []
    },
    {
      "cell_type": "code",
      "metadata": {
        "id": "W0OnlZ8kvR0x",
        "colab_type": "code",
        "colab": {}
      },
      "source": [
        "x = resnet.output\n",
        "x = GlobalAveragePooling2D()(x) # This layer is a really fancy flatten\n",
        "x = Dense(1024, activation='relu')(x)\n",
        "predictions = Dense(1, activation='sigmoid')(x)\n",
        "# This Model is an API wrapper\n",
        "model = Model(resnet.input, predictions)"
      ],
      "execution_count": 0,
      "outputs": []
    },
    {
      "cell_type": "code",
      "metadata": {
        "id": "bdTLDhhdvVnU",
        "colab_type": "code",
        "colab": {}
      },
      "source": [
        "# Must compile before fit... though not in usage\n",
        "model.compile(optimizer='nadam',\n",
        "              loss='sparse_categorical_crossentropy',\n",
        "              metrics=['accuracy'])"
      ],
      "execution_count": 0,
      "outputs": []
    },
    {
      "cell_type": "markdown",
      "metadata": {
        "id": "I4LVnnGrIj3i",
        "colab_type": "text"
      },
      "source": [
        "## Fit Model"
      ]
    },
    {
      "cell_type": "code",
      "metadata": {
        "id": "FZZCmZxfIj3i",
        "colab_type": "code",
        "colab": {
          "base_uri": "https://localhost:8080/",
          "height": 1000
        },
        "outputId": "041f2593-2b4a-424d-ee15-57f0eadec063"
      },
      "source": [
        "history = model.fit(\n",
        "    train_data_gen,\n",
        "    steps_per_epoch=total_train // batch_size,\n",
        "    epochs=epochs,\n",
        "    validation_data=val_data_gen,\n",
        "    validation_steps=total_val // batch_size\n",
        ")"
      ],
      "execution_count": 24,
      "outputs": [
        {
          "output_type": "stream",
          "text": [
            "Epoch 1/50\n",
            "32/32 [==============================] - 3s 107ms/step - loss: nan - accuracy: 0.5332 - val_loss: nan - val_accuracy: 0.3409\n",
            "Epoch 2/50\n",
            "32/32 [==============================] - 3s 100ms/step - loss: nan - accuracy: 0.5090 - val_loss: nan - val_accuracy: 0.3129\n",
            "Epoch 3/50\n",
            "32/32 [==============================] - 3s 78ms/step - loss: nan - accuracy: 0.5130 - val_loss: nan - val_accuracy: 0.3497\n",
            "Epoch 4/50\n",
            "32/32 [==============================] - 2s 78ms/step - loss: nan - accuracy: 0.5329 - val_loss: nan - val_accuracy: 0.3558\n",
            "Epoch 5/50\n",
            "32/32 [==============================] - 3s 79ms/step - loss: nan - accuracy: 0.5150 - val_loss: nan - val_accuracy: 0.3374\n",
            "Epoch 6/50\n",
            "32/32 [==============================] - 3s 79ms/step - loss: nan - accuracy: 0.5010 - val_loss: nan - val_accuracy: 0.3374\n",
            "Epoch 7/50\n",
            "32/32 [==============================] - 2s 78ms/step - loss: nan - accuracy: 0.5309 - val_loss: nan - val_accuracy: 0.3436\n",
            "Epoch 8/50\n",
            "32/32 [==============================] - 2s 78ms/step - loss: nan - accuracy: 0.5030 - val_loss: nan - val_accuracy: 0.3436\n",
            "Epoch 9/50\n",
            "32/32 [==============================] - 3s 79ms/step - loss: nan - accuracy: 0.5329 - val_loss: nan - val_accuracy: 0.3313\n",
            "Epoch 10/50\n",
            "32/32 [==============================] - 2s 78ms/step - loss: nan - accuracy: 0.5070 - val_loss: nan - val_accuracy: 0.3558\n",
            "Epoch 11/50\n",
            "32/32 [==============================] - 3s 78ms/step - loss: nan - accuracy: 0.5230 - val_loss: nan - val_accuracy: 0.3436\n",
            "Epoch 12/50\n",
            "32/32 [==============================] - 3s 79ms/step - loss: nan - accuracy: 0.5010 - val_loss: nan - val_accuracy: 0.3497\n",
            "Epoch 13/50\n",
            "32/32 [==============================] - 3s 79ms/step - loss: nan - accuracy: 0.5250 - val_loss: nan - val_accuracy: 0.3523\n",
            "Epoch 14/50\n",
            "32/32 [==============================] - 3s 79ms/step - loss: nan - accuracy: 0.5210 - val_loss: nan - val_accuracy: 0.3409\n",
            "Epoch 15/50\n",
            "32/32 [==============================] - 2s 77ms/step - loss: nan - accuracy: 0.4950 - val_loss: nan - val_accuracy: 0.3436\n",
            "Epoch 16/50\n",
            "32/32 [==============================] - 2s 77ms/step - loss: nan - accuracy: 0.5309 - val_loss: nan - val_accuracy: 0.3681\n",
            "Epoch 17/50\n",
            "32/32 [==============================] - 2s 78ms/step - loss: nan - accuracy: 0.5130 - val_loss: nan - val_accuracy: 0.3313\n",
            "Epoch 18/50\n",
            "32/32 [==============================] - 2s 78ms/step - loss: nan - accuracy: 0.5195 - val_loss: nan - val_accuracy: 0.3374\n",
            "Epoch 19/50\n",
            "32/32 [==============================] - 2s 77ms/step - loss: nan - accuracy: 0.5130 - val_loss: nan - val_accuracy: 0.3436\n",
            "Epoch 20/50\n",
            "32/32 [==============================] - 2s 77ms/step - loss: nan - accuracy: 0.5210 - val_loss: nan - val_accuracy: 0.3313\n",
            "Epoch 21/50\n",
            "32/32 [==============================] - 2s 77ms/step - loss: nan - accuracy: 0.5070 - val_loss: nan - val_accuracy: 0.3742\n",
            "Epoch 22/50\n",
            "32/32 [==============================] - 2s 78ms/step - loss: nan - accuracy: 0.4970 - val_loss: nan - val_accuracy: 0.3313\n",
            "Epoch 23/50\n",
            "32/32 [==============================] - 2s 78ms/step - loss: nan - accuracy: 0.5489 - val_loss: nan - val_accuracy: 0.2945\n",
            "Epoch 24/50\n",
            "32/32 [==============================] - 2s 77ms/step - loss: nan - accuracy: 0.5030 - val_loss: nan - val_accuracy: 0.3374\n",
            "Epoch 25/50\n",
            "32/32 [==============================] - 2s 78ms/step - loss: nan - accuracy: 0.5230 - val_loss: nan - val_accuracy: 0.3681\n",
            "Epoch 26/50\n",
            "32/32 [==============================] - 3s 78ms/step - loss: nan - accuracy: 0.5090 - val_loss: nan - val_accuracy: 0.3409\n",
            "Epoch 27/50\n",
            "32/32 [==============================] - 3s 78ms/step - loss: nan - accuracy: 0.5090 - val_loss: nan - val_accuracy: 0.3523\n",
            "Epoch 28/50\n",
            "32/32 [==============================] - 2s 78ms/step - loss: nan - accuracy: 0.5429 - val_loss: nan - val_accuracy: 0.3252\n",
            "Epoch 29/50\n",
            "32/32 [==============================] - 2s 78ms/step - loss: nan - accuracy: 0.5050 - val_loss: nan - val_accuracy: 0.3313\n",
            "Epoch 30/50\n",
            "32/32 [==============================] - 2s 77ms/step - loss: nan - accuracy: 0.5070 - val_loss: nan - val_accuracy: 0.3558\n",
            "Epoch 31/50\n",
            "32/32 [==============================] - 2s 78ms/step - loss: nan - accuracy: 0.5110 - val_loss: nan - val_accuracy: 0.3497\n",
            "Epoch 32/50\n",
            "32/32 [==============================] - 2s 77ms/step - loss: nan - accuracy: 0.5150 - val_loss: nan - val_accuracy: 0.3313\n",
            "Epoch 33/50\n",
            "32/32 [==============================] - 2s 77ms/step - loss: nan - accuracy: 0.5210 - val_loss: nan - val_accuracy: 0.3865\n",
            "Epoch 34/50\n",
            "32/32 [==============================] - 2s 77ms/step - loss: nan - accuracy: 0.5190 - val_loss: nan - val_accuracy: 0.3620\n",
            "Epoch 35/50\n",
            "32/32 [==============================] - 2s 78ms/step - loss: nan - accuracy: 0.5176 - val_loss: nan - val_accuracy: 0.3436\n",
            "Epoch 36/50\n",
            "32/32 [==============================] - 2s 77ms/step - loss: nan - accuracy: 0.5269 - val_loss: nan - val_accuracy: 0.2883\n",
            "Epoch 37/50\n",
            "32/32 [==============================] - 2s 77ms/step - loss: nan - accuracy: 0.4870 - val_loss: nan - val_accuracy: 0.3620\n",
            "Epoch 38/50\n",
            "32/32 [==============================] - 2s 78ms/step - loss: nan - accuracy: 0.5230 - val_loss: nan - val_accuracy: 0.3436\n",
            "Epoch 39/50\n",
            "32/32 [==============================] - 2s 78ms/step - loss: nan - accuracy: 0.5190 - val_loss: nan - val_accuracy: 0.3352\n",
            "Epoch 40/50\n",
            "32/32 [==============================] - 2s 78ms/step - loss: nan - accuracy: 0.5050 - val_loss: nan - val_accuracy: 0.3409\n",
            "Epoch 41/50\n",
            "32/32 [==============================] - 2s 76ms/step - loss: nan - accuracy: 0.5369 - val_loss: nan - val_accuracy: 0.3620\n",
            "Epoch 42/50\n",
            "32/32 [==============================] - 2s 77ms/step - loss: nan - accuracy: 0.5409 - val_loss: nan - val_accuracy: 0.3129\n",
            "Epoch 43/50\n",
            "32/32 [==============================] - 2s 78ms/step - loss: nan - accuracy: 0.5130 - val_loss: nan - val_accuracy: 0.3497\n",
            "Epoch 44/50\n",
            "32/32 [==============================] - 2s 78ms/step - loss: nan - accuracy: 0.4870 - val_loss: nan - val_accuracy: 0.2822\n",
            "Epoch 45/50\n",
            "32/32 [==============================] - 2s 77ms/step - loss: nan - accuracy: 0.5269 - val_loss: nan - val_accuracy: 0.3620\n",
            "Epoch 46/50\n",
            "32/32 [==============================] - 2s 78ms/step - loss: nan - accuracy: 0.4930 - val_loss: nan - val_accuracy: 0.3926\n",
            "Epoch 47/50\n",
            "32/32 [==============================] - 2s 77ms/step - loss: nan - accuracy: 0.5349 - val_loss: nan - val_accuracy: 0.3374\n",
            "Epoch 48/50\n",
            "32/32 [==============================] - 2s 77ms/step - loss: nan - accuracy: 0.5150 - val_loss: nan - val_accuracy: 0.3129\n",
            "Epoch 49/50\n",
            "32/32 [==============================] - 2s 77ms/step - loss: nan - accuracy: 0.5050 - val_loss: nan - val_accuracy: 0.3620\n",
            "Epoch 50/50\n",
            "32/32 [==============================] - 3s 79ms/step - loss: nan - accuracy: 0.5190 - val_loss: nan - val_accuracy: 0.3681\n"
          ],
          "name": "stdout"
        }
      ]
    },
    {
      "cell_type": "code",
      "metadata": {
        "id": "hH9Z-XZ81QHs",
        "colab_type": "code",
        "colab": {
          "base_uri": "https://localhost:8080/",
          "height": 1000
        },
        "outputId": "536475d4-4da0-4696-9b63-6799656f9b11"
      },
      "source": [
        "train_data_gen[0]"
      ],
      "execution_count": 27,
      "outputs": [
        {
          "output_type": "execute_result",
          "data": {
            "text/plain": [
              "(array([[[[0.41960788, 0.5686275 , 0.72156864],\n",
              "          [0.4156863 , 0.5647059 , 0.7176471 ],\n",
              "          [0.41960788, 0.5686275 , 0.72156864],\n",
              "          ...,\n",
              "          [0.43529415, 0.6156863 , 0.7568628 ],\n",
              "          [0.43921572, 0.6117647 , 0.7568628 ],\n",
              "          [0.4431373 , 0.60784316, 0.7568628 ]],\n",
              " \n",
              "         [[0.4156863 , 0.5647059 , 0.7176471 ],\n",
              "          [0.4156863 , 0.5647059 , 0.7176471 ],\n",
              "          [0.4156863 , 0.5647059 , 0.7176471 ],\n",
              "          ...,\n",
              "          [0.43921572, 0.61960787, 0.7607844 ],\n",
              "          [0.4431373 , 0.6156863 , 0.7607844 ],\n",
              "          [0.4431373 , 0.6156863 , 0.7607844 ]],\n",
              " \n",
              "         [[0.4156863 , 0.5647059 , 0.70980394],\n",
              "          [0.4156863 , 0.5647059 , 0.70980394],\n",
              "          [0.4156863 , 0.5647059 , 0.70980394],\n",
              "          ...,\n",
              "          [0.4431373 , 0.62352943, 0.76470596],\n",
              "          [0.4431373 , 0.62352943, 0.76470596],\n",
              "          [0.43921572, 0.61960787, 0.7607844 ]],\n",
              " \n",
              "         ...,\n",
              " \n",
              "         [[0.15294118, 0.21960786, 0.18039216],\n",
              "          [0.14509805, 0.20784315, 0.16862746],\n",
              "          [0.14117648, 0.20392159, 0.16470589],\n",
              "          ...,\n",
              "          [0.5882353 , 0.6627451 , 0.654902  ],\n",
              "          [0.60784316, 0.6862745 , 0.6784314 ],\n",
              "          [0.59607846, 0.6745098 , 0.67058825]],\n",
              " \n",
              "         [[0.20000002, 0.28627452, 0.2392157 ],\n",
              "          [0.19607845, 0.27450982, 0.23137257],\n",
              "          [0.19215688, 0.27058825, 0.23529413],\n",
              "          ...,\n",
              "          [0.62352943, 0.7019608 , 0.69411767],\n",
              "          [0.6313726 , 0.70980394, 0.7058824 ],\n",
              "          [0.61960787, 0.69411767, 0.70980394]],\n",
              " \n",
              "         [[0.23137257, 0.3372549 , 0.2784314 ],\n",
              "          [0.23137257, 0.33333334, 0.2901961 ],\n",
              "          [0.23137257, 0.32156864, 0.2901961 ],\n",
              "          ...,\n",
              "          [0.6156863 , 0.69411767, 0.6901961 ],\n",
              "          [0.60784316, 0.6862745 , 0.6901961 ],\n",
              "          [0.6       , 0.6666667 , 0.69411767]]],\n",
              " \n",
              " \n",
              "        [[[0.30980393, 0.5019608 , 0.6627451 ],\n",
              "          [0.3137255 , 0.5058824 , 0.6666667 ],\n",
              "          [0.30980393, 0.5019608 , 0.6627451 ],\n",
              "          ...,\n",
              "          [0.3019608 , 0.5058824 , 0.65882355],\n",
              "          [0.30980393, 0.5019608 , 0.65882355],\n",
              "          [0.3019608 , 0.49411768, 0.654902  ]],\n",
              " \n",
              "         [[0.30980393, 0.5019608 , 0.6627451 ],\n",
              "          [0.30980393, 0.5019608 , 0.6627451 ],\n",
              "          [0.30980393, 0.5019608 , 0.6627451 ],\n",
              "          ...,\n",
              "          [0.30980393, 0.5019608 , 0.65882355],\n",
              "          [0.30980393, 0.5019608 , 0.6627451 ],\n",
              "          [0.30588236, 0.49803925, 0.65882355]],\n",
              " \n",
              "         [[0.30588236, 0.49803925, 0.654902  ],\n",
              "          [0.3019608 , 0.49411768, 0.654902  ],\n",
              "          [0.3019608 , 0.49411768, 0.654902  ],\n",
              "          ...,\n",
              "          [0.30980393, 0.49411768, 0.65882355],\n",
              "          [0.30588236, 0.49803925, 0.65882355],\n",
              "          [0.30588236, 0.49803925, 0.65882355]],\n",
              " \n",
              "         ...,\n",
              " \n",
              "         [[0.18039216, 0.2627451 , 0.227451  ],\n",
              "          [0.18039216, 0.25490198, 0.2392157 ],\n",
              "          [0.20784315, 0.27058825, 0.27058825],\n",
              "          ...,\n",
              "          [0.25882354, 0.38431376, 0.43529415],\n",
              "          [0.2784314 , 0.41176474, 0.45882356],\n",
              "          [0.2627451 , 0.39607847, 0.4431373 ]],\n",
              " \n",
              "         [[0.19215688, 0.27058825, 0.227451  ],\n",
              "          [0.18823531, 0.25490198, 0.23137257],\n",
              "          [0.21960786, 0.27450982, 0.2784314 ],\n",
              "          ...,\n",
              "          [0.27058825, 0.4039216 , 0.45098042],\n",
              "          [0.25490198, 0.38823533, 0.43529415],\n",
              "          [0.2627451 , 0.38823533, 0.43921572]],\n",
              " \n",
              "         [[0.19215688, 0.27058825, 0.227451  ],\n",
              "          [0.20000002, 0.25882354, 0.2392157 ],\n",
              "          [0.20784315, 0.25490198, 0.25490198],\n",
              "          ...,\n",
              "          [0.22352943, 0.35686275, 0.4039216 ],\n",
              "          [0.23529413, 0.36862746, 0.4156863 ],\n",
              "          [0.31764707, 0.4431373 , 0.49411768]]],\n",
              " \n",
              " \n",
              "        [[[0.3019608 , 0.41176474, 0.49803925],\n",
              "          [0.29803923, 0.4156863 , 0.50980395],\n",
              "          [0.29411766, 0.41960788, 0.50980395],\n",
              "          ...,\n",
              "          [0.44705886, 0.5176471 , 0.6039216 ],\n",
              "          [0.44705886, 0.5058824 , 0.59607846],\n",
              "          [0.47450984, 0.5176471 , 0.6039216 ]],\n",
              " \n",
              "         [[0.29411766, 0.4039216 , 0.49803925],\n",
              "          [0.2901961 , 0.40784317, 0.5019608 ],\n",
              "          [0.28627452, 0.41176474, 0.5019608 ],\n",
              "          ...,\n",
              "          [0.45098042, 0.52156866, 0.60784316],\n",
              "          [0.45098042, 0.50980395, 0.6       ],\n",
              "          [0.47450984, 0.5176471 , 0.6039216 ]],\n",
              " \n",
              "         [[0.2901961 , 0.40000004, 0.49411768],\n",
              "          [0.28627452, 0.4039216 , 0.49803925],\n",
              "          [0.28235295, 0.40784317, 0.49803925],\n",
              "          ...,\n",
              "          [0.45098042, 0.52156866, 0.60784316],\n",
              "          [0.45098042, 0.50980395, 0.6       ],\n",
              "          [0.47058827, 0.5176471 , 0.6039216 ]],\n",
              " \n",
              "         ...,\n",
              " \n",
              "         [[0.74509805, 0.70980394, 0.72156864],\n",
              "          [0.74509805, 0.70980394, 0.72156864],\n",
              "          [0.7411765 , 0.7058824 , 0.7176471 ],\n",
              "          ...,\n",
              "          [0.6784314 , 0.68235296, 0.6901961 ],\n",
              "          [0.52156866, 0.5372549 , 0.53333336],\n",
              "          [0.47450984, 0.4901961 , 0.48627454]],\n",
              " \n",
              "         [[0.7411765 , 0.7058824 , 0.7176471 ],\n",
              "          [0.7372549 , 0.7019608 , 0.7137255 ],\n",
              "          [0.73333335, 0.69803923, 0.70980394],\n",
              "          ...,\n",
              "          [0.5411765 , 0.54509807, 0.5529412 ],\n",
              "          [0.53333336, 0.54901963, 0.54509807],\n",
              "          [0.5254902 , 0.5411765 , 0.5372549 ]],\n",
              " \n",
              "         [[0.7411765 , 0.7058824 , 0.7176471 ],\n",
              "          [0.73333335, 0.69803923, 0.70980394],\n",
              "          [0.7294118 , 0.69411767, 0.7058824 ],\n",
              "          ...,\n",
              "          [0.5137255 , 0.5176471 , 0.5254902 ],\n",
              "          [0.5686275 , 0.58431375, 0.5803922 ],\n",
              "          [0.46274513, 0.4784314 , 0.47450984]]],\n",
              " \n",
              " \n",
              "        ...,\n",
              " \n",
              " \n",
              "        [[[0.16470589, 0.18823531, 0.07843138],\n",
              "          [0.29803923, 0.32156864, 0.21960786],\n",
              "          [0.36078432, 0.3803922 , 0.2901961 ],\n",
              "          ...,\n",
              "          [0.        , 0.05490196, 0.14509805],\n",
              "          [0.00784314, 0.0627451 , 0.16470589],\n",
              "          [0.00784314, 0.0627451 , 0.16862746]],\n",
              " \n",
              "         [[0.2392157 , 0.27450982, 0.16078432],\n",
              "          [0.3372549 , 0.36078432, 0.25882354],\n",
              "          [0.30588236, 0.32941177, 0.227451  ],\n",
              "          ...,\n",
              "          [0.00784314, 0.06666667, 0.14901961],\n",
              "          [0.01960784, 0.07843138, 0.16862746],\n",
              "          [0.03921569, 0.08627451, 0.18039216]],\n",
              " \n",
              "         [[0.32941177, 0.3647059 , 0.24313727],\n",
              "          [0.31764707, 0.34117648, 0.23137257],\n",
              "          [0.31764707, 0.33333334, 0.227451  ],\n",
              "          ...,\n",
              "          [0.01568628, 0.0627451 , 0.1254902 ],\n",
              "          [0.01176471, 0.05882353, 0.12156864],\n",
              "          [0.0509804 , 0.09803922, 0.16078432]],\n",
              " \n",
              "         ...,\n",
              " \n",
              "         [[0.26666668, 0.38823533, 0.16470589],\n",
              "          [0.20000002, 0.32156864, 0.09803922],\n",
              "          [0.24313727, 0.3647059 , 0.13333334],\n",
              "          ...,\n",
              "          [0.4431373 , 0.48627454, 0.26666668],\n",
              "          [0.0509804 , 0.08627451, 0.        ],\n",
              "          [0.97647065, 1.        , 1.        ]],\n",
              " \n",
              "         [[0.3372549 , 0.454902  , 0.24313727],\n",
              "          [0.24705884, 0.37647063, 0.15294118],\n",
              "          [0.2392157 , 0.37254903, 0.13725491],\n",
              "          ...,\n",
              "          [0.48235297, 0.5254902 , 0.30588236],\n",
              "          [0.0509804 , 0.07058824, 0.        ],\n",
              "          [0.9960785 , 0.9960785 , 1.        ]],\n",
              " \n",
              "         [[0.2627451 , 0.38431376, 0.16078432],\n",
              "          [0.26666668, 0.39607847, 0.17254902],\n",
              "          [0.2509804 , 0.3803922 , 0.15686275],\n",
              "          ...,\n",
              "          [0.43137258, 0.47058827, 0.2627451 ],\n",
              "          [0.01176471, 0.03137255, 0.        ],\n",
              "          [1.        , 0.9921569 , 1.        ]]],\n",
              " \n",
              " \n",
              "        [[[0.        , 0.11764707, 0.3137255 ],\n",
              "          [0.        , 0.11764707, 0.3137255 ],\n",
              "          [0.        , 0.1137255 , 0.30980393],\n",
              "          ...,\n",
              "          [0.00784314, 0.11764707, 0.30588236],\n",
              "          [0.        , 0.10980393, 0.29803923],\n",
              "          [0.00392157, 0.1137255 , 0.3019608 ]],\n",
              " \n",
              "         [[0.        , 0.1137255 , 0.30980393],\n",
              "          [0.        , 0.11764707, 0.3137255 ],\n",
              "          [0.        , 0.1137255 , 0.30980393],\n",
              "          ...,\n",
              "          [0.00392157, 0.1137255 , 0.30980393],\n",
              "          [0.        , 0.10980393, 0.30588236],\n",
              "          [0.00392157, 0.1137255 , 0.30980393]],\n",
              " \n",
              "         [[0.        , 0.11764707, 0.3137255 ],\n",
              "          [0.        , 0.1137255 , 0.30980393],\n",
              "          [0.        , 0.1137255 , 0.30980393],\n",
              "          ...,\n",
              "          [0.        , 0.1137255 , 0.30980393],\n",
              "          [0.        , 0.1137255 , 0.30980393],\n",
              "          [0.        , 0.11764707, 0.3137255 ]],\n",
              " \n",
              "         ...,\n",
              " \n",
              "         [[0.30588236, 0.3372549 , 0.34509805],\n",
              "          [0.5294118 , 0.56078434, 0.57254905],\n",
              "          [0.4666667 , 0.49803925, 0.5058824 ],\n",
              "          ...,\n",
              "          [0.18039216, 0.227451  , 0.3137255 ],\n",
              "          [0.21176472, 0.2509804 , 0.34901962],\n",
              "          [0.20000002, 0.2392157 , 0.3372549 ]],\n",
              " \n",
              "         [[0.5372549 , 0.57254905, 0.5686275 ],\n",
              "          [0.5019608 , 0.5254902 , 0.5254902 ],\n",
              "          [0.38431376, 0.40784317, 0.40784317],\n",
              "          ...,\n",
              "          [0.15294118, 0.19607845, 0.26666668],\n",
              "          [0.13333334, 0.1764706 , 0.24705884],\n",
              "          [0.10588236, 0.13725491, 0.21960786]],\n",
              " \n",
              "         [[0.41960788, 0.4431373 , 0.43529415],\n",
              "          [0.21960786, 0.24313727, 0.23529413],\n",
              "          [0.2901961 , 0.3137255 , 0.30588236],\n",
              "          ...,\n",
              "          [0.01960784, 0.05490196, 0.1137255 ],\n",
              "          [0.0627451 , 0.09803922, 0.16470589],\n",
              "          [0.13333334, 0.16470589, 0.2392157 ]]],\n",
              " \n",
              " \n",
              "        [[[0.5803922 , 0.69411767, 0.70980394],\n",
              "          [0.58431375, 0.69803923, 0.7137255 ],\n",
              "          [0.58431375, 0.7019608 , 0.70980394],\n",
              "          ...,\n",
              "          [0.72156864, 0.81568635, 0.7607844 ],\n",
              "          [0.7372549 , 0.8313726 , 0.77647066],\n",
              "          [0.7686275 , 0.86274517, 0.8117648 ]],\n",
              " \n",
              "         [[0.5686275 , 0.6901961 , 0.7019608 ],\n",
              "          [0.5686275 , 0.6901961 , 0.70980394],\n",
              "          [0.57254905, 0.69411767, 0.7137255 ],\n",
              "          ...,\n",
              "          [0.72156864, 0.8078432 , 0.7568628 ],\n",
              "          [0.7372549 , 0.8235295 , 0.7725491 ],\n",
              "          [0.75294125, 0.83921576, 0.79215693]],\n",
              " \n",
              "         [[0.5647059 , 0.6862745 , 0.69411767],\n",
              "          [0.56078434, 0.68235296, 0.7019608 ],\n",
              "          [0.56078434, 0.6784314 , 0.7176471 ],\n",
              "          ...,\n",
              "          [0.72156864, 0.81568635, 0.7607844 ],\n",
              "          [0.7411765 , 0.82745105, 0.77647066],\n",
              "          [0.7568628 , 0.8352942 , 0.78823537]],\n",
              " \n",
              "         ...,\n",
              " \n",
              "         [[0.25490198, 0.2901961 , 0.22352943],\n",
              "          [0.25882354, 0.29411766, 0.227451  ],\n",
              "          [0.27450982, 0.3019608 , 0.2392157 ],\n",
              "          ...,\n",
              "          [0.2392157 , 0.28235295, 0.21568629],\n",
              "          [0.2509804 , 0.29411766, 0.227451  ],\n",
              "          [0.27450982, 0.32156864, 0.24313727]],\n",
              " \n",
              "         [[0.24705884, 0.28235295, 0.20784315],\n",
              "          [0.2509804 , 0.28627452, 0.21176472],\n",
              "          [0.2627451 , 0.29803923, 0.22352943],\n",
              "          ...,\n",
              "          [0.24313727, 0.2901961 , 0.21176472],\n",
              "          [0.25882354, 0.30588236, 0.227451  ],\n",
              "          [0.25882354, 0.30588236, 0.227451  ]],\n",
              " \n",
              "         [[0.2627451 , 0.30980393, 0.23137257],\n",
              "          [0.26666668, 0.3019608 , 0.227451  ],\n",
              "          [0.26666668, 0.3019608 , 0.227451  ],\n",
              "          ...,\n",
              "          [0.30980393, 0.35686275, 0.2784314 ],\n",
              "          [0.3372549 , 0.38431376, 0.30588236],\n",
              "          [0.33333334, 0.3803922 , 0.29411766]]]], dtype=float32),\n",
              " array([1., 1., 1., 1., 0., 0., 0., 1., 0., 0., 0., 1., 1., 0., 1., 1.],\n",
              "       dtype=float32))"
            ]
          },
          "metadata": {
            "tags": []
          },
          "execution_count": 27
        }
      ]
    },
    {
      "cell_type": "markdown",
      "metadata": {
        "id": "qS_W7efQIj3k",
        "colab_type": "text"
      },
      "source": [
        "\n",
        "# Custom CNN Model\n",
        "\n",
        "In this step, write and train your own convolutional neural network using Keras. You can use any architecture that suits you as long as it has at least one convolutional and one pooling layer at the beginning of the network - you can add more if you want. "
      ]
    },
    {
      "cell_type": "code",
      "metadata": {
        "id": "ocGNUpXVIj3l",
        "colab_type": "code",
        "colab": {
          "base_uri": "https://localhost:8080/",
          "height": 459
        },
        "outputId": "42ce1120-c180-4fde-e718-cc04d18c2b97"
      },
      "source": [
        "from tensorflow.keras.models import Sequential, Model \n",
        "from tensorflow.keras.layers import Dense, Conv2D, MaxPooling2D, Flatten, Dropout\n",
        "\n",
        "# Define the Model\n",
        "custom_cnn = Sequential()\n",
        "\n",
        "custom_cnn.add(Conv2D(32, (3,3), activation='selu', input_shape=(32,32,3)))\n",
        "custom_cnn.add(MaxPooling2D((2,2)))\n",
        "custom_cnn.add(Conv2D(64, (3,3), activation='selu'))\n",
        "custom_cnn.add(MaxPooling2D((2,2)))\n",
        "custom_cnn.add(Conv2D(64, (3,3), activation='selu'))\n",
        "custom_cnn.add(GlobalAveragePooling2D())\n",
        "\n",
        "custom_cnn.add(Dense(64, activation='relu'))\n",
        "custom_cnn.add(Dropout(0.07))\n",
        "custom_cnn.add(Dense(10, activation='softmax'))\n",
        "\n",
        "custom_cnn.summary()\n"
      ],
      "execution_count": 33,
      "outputs": [
        {
          "output_type": "stream",
          "text": [
            "Model: \"sequential_6\"\n",
            "_________________________________________________________________\n",
            "Layer (type)                 Output Shape              Param #   \n",
            "=================================================================\n",
            "conv2d_15 (Conv2D)           (None, 30, 30, 32)        896       \n",
            "_________________________________________________________________\n",
            "max_pooling2d_10 (MaxPooling (None, 15, 15, 32)        0         \n",
            "_________________________________________________________________\n",
            "conv2d_16 (Conv2D)           (None, 13, 13, 64)        18496     \n",
            "_________________________________________________________________\n",
            "max_pooling2d_11 (MaxPooling (None, 6, 6, 64)          0         \n",
            "_________________________________________________________________\n",
            "conv2d_17 (Conv2D)           (None, 4, 4, 64)          36928     \n",
            "_________________________________________________________________\n",
            "global_average_pooling2d_6 ( (None, 64)                0         \n",
            "_________________________________________________________________\n",
            "dense_6 (Dense)              (None, 64)                4160      \n",
            "_________________________________________________________________\n",
            "dropout (Dropout)            (None, 64)                0         \n",
            "_________________________________________________________________\n",
            "dense_7 (Dense)              (None, 10)                650       \n",
            "=================================================================\n",
            "Total params: 61,130\n",
            "Trainable params: 61,130\n",
            "Non-trainable params: 0\n",
            "_________________________________________________________________\n"
          ],
          "name": "stdout"
        }
      ]
    },
    {
      "cell_type": "code",
      "metadata": {
        "id": "4GqqgarmIj3n",
        "colab_type": "code",
        "colab": {}
      },
      "source": [
        "# Compile Model\n",
        "custom_cnn.compile(loss='sparse_categorical_crossentropy', optimizer='nadam',\n",
        "                   metrics=['accuracy'])"
      ],
      "execution_count": 0,
      "outputs": []
    },
    {
      "cell_type": "code",
      "metadata": {
        "id": "FBXTNgJqIj3p",
        "colab_type": "code",
        "colab": {
          "base_uri": "https://localhost:8080/",
          "height": 1000
        },
        "outputId": "9a07886f-9e2a-429e-b447-31bb49d62a5e"
      },
      "source": [
        "# Fit Model\n",
        "history_custom = custom_cnn.fit(\n",
        "    train_data_gen,\n",
        "    steps_per_epoch=total_train // batch_size,\n",
        "    epochs=epochs,\n",
        "    validation_data=val_data_gen,\n",
        "    validation_steps=total_val // batch_size\n",
        ")\n",
        "\n",
        "# Much better results on custom cnn"
      ],
      "execution_count": 38,
      "outputs": [
        {
          "output_type": "stream",
          "text": [
            "Epoch 1/50\n",
            "32/32 [==============================] - 2s 71ms/step - loss: 0.6277 - accuracy: 0.7465 - val_loss: 0.5651 - val_accuracy: 0.7730\n",
            "Epoch 2/50\n",
            "32/32 [==============================] - 2s 62ms/step - loss: 0.2909 - accuracy: 0.8942 - val_loss: 0.2596 - val_accuracy: 0.9091\n",
            "Epoch 3/50\n",
            "32/32 [==============================] - 2s 64ms/step - loss: 0.2176 - accuracy: 0.9258 - val_loss: 0.4010 - val_accuracy: 0.8409\n",
            "Epoch 4/50\n",
            "32/32 [==============================] - 2s 61ms/step - loss: 0.2077 - accuracy: 0.9321 - val_loss: 0.1697 - val_accuracy: 0.9387\n",
            "Epoch 5/50\n",
            "32/32 [==============================] - 2s 61ms/step - loss: 0.1975 - accuracy: 0.9242 - val_loss: 0.6525 - val_accuracy: 0.7975\n",
            "Epoch 6/50\n",
            "32/32 [==============================] - 2s 62ms/step - loss: 0.2076 - accuracy: 0.9202 - val_loss: 0.2952 - val_accuracy: 0.8896\n",
            "Epoch 7/50\n",
            "32/32 [==============================] - 2s 61ms/step - loss: 0.1885 - accuracy: 0.9321 - val_loss: 0.4177 - val_accuracy: 0.8466\n",
            "Epoch 8/50\n",
            "32/32 [==============================] - 2s 61ms/step - loss: 0.2136 - accuracy: 0.9401 - val_loss: 0.3614 - val_accuracy: 0.8466\n",
            "Epoch 9/50\n",
            "32/32 [==============================] - 2s 62ms/step - loss: 0.1954 - accuracy: 0.9301 - val_loss: 0.2653 - val_accuracy: 0.9141\n",
            "Epoch 10/50\n",
            "32/32 [==============================] - 2s 61ms/step - loss: 0.1628 - accuracy: 0.9441 - val_loss: 0.2935 - val_accuracy: 0.8957\n",
            "Epoch 11/50\n",
            "32/32 [==============================] - 2s 61ms/step - loss: 0.1239 - accuracy: 0.9561 - val_loss: 0.2049 - val_accuracy: 0.9202\n",
            "Epoch 12/50\n",
            "32/32 [==============================] - 2s 60ms/step - loss: 0.1897 - accuracy: 0.9261 - val_loss: 0.1738 - val_accuracy: 0.9387\n",
            "Epoch 13/50\n",
            "32/32 [==============================] - 2s 60ms/step - loss: 0.1320 - accuracy: 0.9541 - val_loss: 0.3308 - val_accuracy: 0.8896\n",
            "Epoch 14/50\n",
            "32/32 [==============================] - 2s 60ms/step - loss: 0.1862 - accuracy: 0.9281 - val_loss: 0.1866 - val_accuracy: 0.9202\n",
            "Epoch 15/50\n",
            "32/32 [==============================] - 2s 60ms/step - loss: 0.1669 - accuracy: 0.9441 - val_loss: 0.2510 - val_accuracy: 0.9091\n",
            "Epoch 16/50\n",
            "32/32 [==============================] - 2s 62ms/step - loss: 0.1863 - accuracy: 0.9401 - val_loss: 0.1997 - val_accuracy: 0.9375\n",
            "Epoch 17/50\n",
            "32/32 [==============================] - 2s 60ms/step - loss: 0.1806 - accuracy: 0.9341 - val_loss: 0.2608 - val_accuracy: 0.9141\n",
            "Epoch 18/50\n",
            "32/32 [==============================] - 2s 61ms/step - loss: 0.1263 - accuracy: 0.9581 - val_loss: 0.1711 - val_accuracy: 0.9387\n",
            "Epoch 19/50\n",
            "32/32 [==============================] - 2s 60ms/step - loss: 0.1365 - accuracy: 0.9461 - val_loss: 0.2906 - val_accuracy: 0.9018\n",
            "Epoch 20/50\n",
            "32/32 [==============================] - 2s 61ms/step - loss: 0.1540 - accuracy: 0.9434 - val_loss: 0.2037 - val_accuracy: 0.9325\n",
            "Epoch 21/50\n",
            "32/32 [==============================] - 2s 61ms/step - loss: 0.1492 - accuracy: 0.9401 - val_loss: 0.2249 - val_accuracy: 0.9325\n",
            "Epoch 22/50\n",
            "32/32 [==============================] - 2s 61ms/step - loss: 0.1380 - accuracy: 0.9461 - val_loss: 0.1904 - val_accuracy: 0.9264\n",
            "Epoch 23/50\n",
            "32/32 [==============================] - 2s 62ms/step - loss: 0.1459 - accuracy: 0.9401 - val_loss: 0.1699 - val_accuracy: 0.9387\n",
            "Epoch 24/50\n",
            "32/32 [==============================] - 2s 61ms/step - loss: 0.1271 - accuracy: 0.9481 - val_loss: 0.3898 - val_accuracy: 0.9018\n",
            "Epoch 25/50\n",
            "32/32 [==============================] - 2s 61ms/step - loss: 0.1205 - accuracy: 0.9561 - val_loss: 0.3388 - val_accuracy: 0.8834\n",
            "Epoch 26/50\n",
            "32/32 [==============================] - 2s 60ms/step - loss: 0.1483 - accuracy: 0.9501 - val_loss: 0.2139 - val_accuracy: 0.9571\n",
            "Epoch 27/50\n",
            "32/32 [==============================] - 2s 62ms/step - loss: 0.1190 - accuracy: 0.9541 - val_loss: 0.2068 - val_accuracy: 0.9264\n",
            "Epoch 28/50\n",
            "32/32 [==============================] - 2s 61ms/step - loss: 0.1202 - accuracy: 0.9581 - val_loss: 0.2392 - val_accuracy: 0.9205\n",
            "Epoch 29/50\n",
            "32/32 [==============================] - 2s 62ms/step - loss: 0.1593 - accuracy: 0.9521 - val_loss: 0.2256 - val_accuracy: 0.9318\n",
            "Epoch 30/50\n",
            "32/32 [==============================] - 2s 60ms/step - loss: 0.0971 - accuracy: 0.9661 - val_loss: 0.3050 - val_accuracy: 0.9141\n",
            "Epoch 31/50\n",
            "32/32 [==============================] - 2s 61ms/step - loss: 0.1266 - accuracy: 0.9461 - val_loss: 0.2619 - val_accuracy: 0.9264\n",
            "Epoch 32/50\n",
            "32/32 [==============================] - 2s 62ms/step - loss: 0.1718 - accuracy: 0.9281 - val_loss: 0.1385 - val_accuracy: 0.9387\n",
            "Epoch 33/50\n",
            "32/32 [==============================] - 2s 61ms/step - loss: 0.1533 - accuracy: 0.9421 - val_loss: 0.4490 - val_accuracy: 0.8466\n",
            "Epoch 34/50\n",
            "32/32 [==============================] - 2s 61ms/step - loss: 0.1308 - accuracy: 0.9521 - val_loss: 0.2173 - val_accuracy: 0.9264\n",
            "Epoch 35/50\n",
            "32/32 [==============================] - 2s 61ms/step - loss: 0.1310 - accuracy: 0.9461 - val_loss: 0.2261 - val_accuracy: 0.9202\n",
            "Epoch 36/50\n",
            "32/32 [==============================] - 2s 61ms/step - loss: 0.0932 - accuracy: 0.9701 - val_loss: 0.4166 - val_accuracy: 0.9018\n",
            "Epoch 37/50\n",
            "32/32 [==============================] - 2s 61ms/step - loss: 0.1036 - accuracy: 0.9648 - val_loss: 0.3833 - val_accuracy: 0.9141\n",
            "Epoch 38/50\n",
            "32/32 [==============================] - 2s 61ms/step - loss: 0.0927 - accuracy: 0.9621 - val_loss: 0.1796 - val_accuracy: 0.9387\n",
            "Epoch 39/50\n",
            "32/32 [==============================] - 2s 60ms/step - loss: 0.1434 - accuracy: 0.9441 - val_loss: 0.4485 - val_accuracy: 0.9018\n",
            "Epoch 40/50\n",
            "32/32 [==============================] - 2s 61ms/step - loss: 0.1118 - accuracy: 0.9641 - val_loss: 0.3034 - val_accuracy: 0.9387\n",
            "Epoch 41/50\n",
            "32/32 [==============================] - 2s 61ms/step - loss: 0.1038 - accuracy: 0.9641 - val_loss: 0.2088 - val_accuracy: 0.9205\n",
            "Epoch 42/50\n",
            "32/32 [==============================] - 2s 62ms/step - loss: 0.1101 - accuracy: 0.9561 - val_loss: 0.3380 - val_accuracy: 0.9091\n",
            "Epoch 43/50\n",
            "32/32 [==============================] - 2s 61ms/step - loss: 0.0692 - accuracy: 0.9760 - val_loss: 0.3186 - val_accuracy: 0.9202\n",
            "Epoch 44/50\n",
            "32/32 [==============================] - 2s 61ms/step - loss: 0.1250 - accuracy: 0.9421 - val_loss: 0.1789 - val_accuracy: 0.9509\n",
            "Epoch 45/50\n",
            "32/32 [==============================] - 2s 62ms/step - loss: 0.0704 - accuracy: 0.9741 - val_loss: 0.2371 - val_accuracy: 0.9141\n",
            "Epoch 46/50\n",
            "32/32 [==============================] - 2s 61ms/step - loss: 0.0834 - accuracy: 0.9721 - val_loss: 0.2222 - val_accuracy: 0.9325\n",
            "Epoch 47/50\n",
            "32/32 [==============================] - 2s 61ms/step - loss: 0.1100 - accuracy: 0.9661 - val_loss: 0.1715 - val_accuracy: 0.9387\n",
            "Epoch 48/50\n",
            "32/32 [==============================] - 2s 61ms/step - loss: 0.0884 - accuracy: 0.9661 - val_loss: 0.1539 - val_accuracy: 0.9571\n",
            "Epoch 49/50\n",
            "32/32 [==============================] - 2s 61ms/step - loss: 0.0974 - accuracy: 0.9661 - val_loss: 0.3242 - val_accuracy: 0.9080\n",
            "Epoch 50/50\n",
            "32/32 [==============================] - 2s 61ms/step - loss: 0.0684 - accuracy: 0.9780 - val_loss: 0.2841 - val_accuracy: 0.9325\n"
          ],
          "name": "stdout"
        }
      ]
    },
    {
      "cell_type": "markdown",
      "metadata": {
        "id": "9BqDLIgMIj3r",
        "colab_type": "text"
      },
      "source": [
        "# Custom CNN Model with Image Manipulations\n",
        "\n",
        "To simulate an increase in a sample of image, you can apply image manipulation techniques: cropping, rotation, stretching, etc. Luckily Keras has some handy functions for us to apply these techniques to our mountain and forest example. Simply, you should be able to modify our image generator for the problem. Check out these resources to help you get started: \n",
        "\n",
        "1. [Keras `ImageGenerator` Class](https://keras.io/preprocessing/image/#imagedatagenerator-class)\n",
        "2. [Building a powerful image classifier with very little data](https://blog.keras.io/building-powerful-image-classification-models-using-very-little-data.html)\n",
        " "
      ]
    },
    {
      "cell_type": "code",
      "metadata": {
        "id": "_6vy2ZXhIj3s",
        "colab_type": "code",
        "colab": {}
      },
      "source": [
        "# State Code for Image Manipulation Here\n"
      ],
      "execution_count": 0,
      "outputs": []
    },
    {
      "cell_type": "markdown",
      "metadata": {
        "colab_type": "text",
        "id": "uT3UV3gap9H6"
      },
      "source": [
        "# Resources and Stretch Goals\n",
        "\n",
        "Stretch goals\n",
        "- Enhance your code to use classes/functions and accept terms to search and classes to look for in recognizing the downloaded images (e.g. download images of parties, recognize all that contain balloons)\n",
        "- Check out [other available pretrained networks](https://tfhub.dev), try some and compare\n",
        "- Image recognition/classification is somewhat solved, but *relationships* between entities and describing an image is not - check out some of the extended resources (e.g. [Visual Genome](https://visualgenome.org/)) on the topic\n",
        "- Transfer learning - using images you source yourself, [retrain a classifier](https://www.tensorflow.org/hub/tutorials/image_retraining) with a new category\n",
        "- (Not CNN related) Use [piexif](https://pypi.org/project/piexif/) to check out the metadata of images passed in to your system - see if they're from a national park! (Note - many images lack GPS metadata, so this won't work in most cases, but still cool)\n",
        "\n",
        "Resources\n",
        "- [Deep Residual Learning for Image Recognition](https://arxiv.org/abs/1512.03385) - influential paper (introduced ResNet)\n",
        "- [YOLO: Real-Time Object Detection](https://pjreddie.com/darknet/yolo/) - an influential convolution based object detection system, focused on inference speed (for applications to e.g. self driving vehicles)\n",
        "- [R-CNN, Fast R-CNN, Faster R-CNN, YOLO](https://towardsdatascience.com/r-cnn-fast-r-cnn-faster-r-cnn-yolo-object-detection-algorithms-36d53571365e) - comparison of object detection systems\n",
        "- [Common Objects in Context](http://cocodataset.org/) - a large-scale object detection, segmentation, and captioning dataset\n",
        "- [Visual Genome](https://visualgenome.org/) - a dataset, a knowledge base, an ongoing effort to connect structured image concepts to language"
      ]
    }
  ]
}