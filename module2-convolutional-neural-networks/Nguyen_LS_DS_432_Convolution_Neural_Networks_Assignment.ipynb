{
  "nbformat": 4,
  "nbformat_minor": 0,
  "metadata": {
    "kernelspec": {
      "display_name": "U4-S2-NNF-DS10",
      "language": "python",
      "name": "u4-s2-nnf-ds10"
    },
    "language_info": {
      "codemirror_mode": {
        "name": "ipython",
        "version": 3
      },
      "file_extension": ".py",
      "mimetype": "text/x-python",
      "name": "python",
      "nbconvert_exporter": "python",
      "pygments_lexer": "ipython3",
      "version": "3.7.6"
    },
    "colab": {
      "name": "Nguyen_LS_DS_432_Convolution_Neural_Networks_Assignment.ipynb",
      "provenance": [],
      "collapsed_sections": [],
      "include_colab_link": true
    },
    "accelerator": "GPU"
  },
  "cells": [
    {
      "cell_type": "markdown",
      "metadata": {
        "id": "view-in-github",
        "colab_type": "text"
      },
      "source": [
        "<a href=\"https://colab.research.google.com/github/JonNData/DS-Unit-4-Sprint-3-Deep-Learning/blob/master/module2-convolutional-neural-networks/Nguyen_LS_DS_432_Convolution_Neural_Networks_Assignment.ipynb\" target=\"_parent\"><img src=\"https://colab.research.google.com/assets/colab-badge.svg\" alt=\"Open In Colab\"/></a>"
      ]
    },
    {
      "cell_type": "markdown",
      "metadata": {
        "id": "FJc2YmH-Ij3E",
        "colab_type": "text"
      },
      "source": [
        "<img align=\"left\" src=\"https://lever-client-logos.s3.amazonaws.com/864372b1-534c-480e-acd5-9711f850815c-1524247202159.png\" width=200>\n",
        "<br></br>\n",
        "<br></br>\n",
        "\n",
        "## *Data Science Unit 4 Sprint 3 Assignment 2*\n",
        "# Convolutional Neural Networks (CNNs)"
      ]
    },
    {
      "cell_type": "markdown",
      "metadata": {
        "colab_type": "text",
        "id": "0lfZdD_cp1t5"
      },
      "source": [
        "# Assignment\n",
        "\n",
        "- <a href=\"#p1\">Part 1:</a> Pre-Trained Model\n",
        "- <a href=\"#p2\">Part 2:</a> Custom CNN Model\n",
        "- <a href=\"#p3\">Part 3:</a> CNN with Data Augmentation\n",
        "\n",
        "\n",
        "You will apply three different CNN models to a binary image classification model using Keras. Classify images of Mountains (`./data/train/mountain/*`) and images of forests (`./data/train/forest/*`). Treat mountains as the positive class (1) and the forest images as the negative (zero). \n",
        "\n",
        "|Mountain (+)|Forest (-)|\n",
        "|---|---|\n",
        "|![](./data/train/mountain/art1131.jpg)|![](./data/validation/forest/cdmc317.jpg)|\n",
        "\n",
        "The problem is relatively difficult given that the sample is tiny: there are about 350 observations per class. This sample size might be something that you can expect with prototyping an image classification problem/solution at work. Get accustomed to evaluating several different possible models."
      ]
    },
    {
      "cell_type": "markdown",
      "metadata": {
        "colab_type": "text",
        "id": "nuqCJXMFIj3F"
      },
      "source": [
        "# Pre - Trained Model\n",
        "<a id=\"p1\"></a>\n",
        "\n",
        "Load a pretrained network from Keras, [ResNet50](https://tfhub.dev/google/imagenet/resnet_v1_50/classification/1) - a 50 layer deep network trained to recognize [1000 objects](https://storage.googleapis.com/download.tensorflow.org/data/ImageNetLabels.txt). Starting usage:\n",
        "\n",
        "```python\n",
        "import numpy as np\n",
        "\n",
        "from tensorflow.keras.applications.resnet50 import ResNet50\n",
        "from tensorflow.keras.preprocessing import image\n",
        "from tensorflow.keras.applications.resnet50 import preprocess_input, decode_predictions\n",
        "\n",
        "from tensorflow.keras.layers import Dense, GlobalAveragePooling2D\n",
        "from tensorflow.keras.models import Model # This is the functional API\n",
        "\n",
        "resnet = ResNet50(weights='imagenet', include_top=False)\n",
        "\n",
        "```\n",
        "\n",
        "The `include_top` parameter in `ResNet50` will remove the full connected layers from the ResNet model. The next step is to turn off the training of the ResNet layers. We want to use the learned parameters without updating them in future training passes. \n",
        "\n",
        "```python\n",
        "for layer in resnet.layers:\n",
        "    layer.trainable = False\n",
        "```\n",
        "\n",
        "Using the Keras functional API, we will need to additional additional full connected layers to our model. We we removed the top layers, we removed all preivous fully connected layers. In other words, we kept only the feature processing portions of our network. You can expert with additional layers beyond what's listed here. The `GlobalAveragePooling2D` layer functions as a really fancy flatten function by taking the average of each of the last convolutional layer outputs (which is two dimensional still). \n",
        "\n",
        "```python\n",
        "x = resnet.output\n",
        "x = GlobalAveragePooling2D()(x) # This layer is a really fancy flatten\n",
        "x = Dense(1024, activation='relu')(x)\n",
        "predictions = Dense(1, activation='sigmoid')(x)\n",
        "model = Model(resnet.input, predictions)\n",
        "```\n",
        "\n",
        "Your assignment is to apply the transfer learning above to classify images of Mountains (`./data/train/mountain/*`) and images of forests (`./data/train/forest/*`). Treat mountains as the positive class (1) and the forest images as the negative (zero). \n",
        "\n",
        "Steps to complete assignment: \n",
        "1. Load in Image Data into numpy arrays (`X`) \n",
        "2. Create a `y` for the labels\n",
        "3. Train your model with pre-trained layers from resnet\n",
        "4. Report your model's accuracy"
      ]
    },
    {
      "cell_type": "markdown",
      "metadata": {
        "id": "_JBT44HpIj3G",
        "colab_type": "text"
      },
      "source": [
        "## Load in Data\n",
        "\n",
        "This surprisingly more difficult than it seems, because you are working with directories of images instead of a single file. This boiler plate will help you download a zipped version of the directory of images. The directory is organized into \"train\" and \"validation\" which you can use inside an `ImageGenerator` class to stream batches of images thru your model.  \n"
      ]
    },
    {
      "cell_type": "markdown",
      "metadata": {
        "id": "S7UtTrt1Ij3G",
        "colab_type": "text"
      },
      "source": [
        "### Download & Summarize the Data\n",
        "\n",
        "This step is completed for you. Just run the cells and review the results. "
      ]
    },
    {
      "cell_type": "code",
      "metadata": {
        "id": "YtNtdjxhIj3H",
        "colab_type": "code",
        "colab": {
          "base_uri": "https://localhost:8080/",
          "height": 51
        },
        "outputId": "eb395972-64a6-433c-fd5c-605ea22805cf"
      },
      "source": [
        "import tensorflow as tf\n",
        "import os\n",
        "\n",
        "_URL = 'https://github.com/LambdaSchool/DS-Unit-4-Sprint-3-Deep-Learning/blob/master/module2-convolutional-neural-networks/data.zip?raw=true'\n",
        "\n",
        "path_to_zip = tf.keras.utils.get_file('./data.zip', origin=_URL, extract=True)\n",
        "PATH = os.path.join(os.path.dirname(path_to_zip), 'data')"
      ],
      "execution_count": 4,
      "outputs": [
        {
          "output_type": "stream",
          "text": [
            "Downloading data from https://github.com/LambdaSchool/DS-Unit-4-Sprint-3-Deep-Learning/blob/master/module2-convolutional-neural-networks/data.zip?raw=true\n",
            "42172416/42170838 [==============================] - 0s 0us/step\n"
          ],
          "name": "stdout"
        }
      ]
    },
    {
      "cell_type": "code",
      "metadata": {
        "id": "wnOdgJJwIj3K",
        "colab_type": "code",
        "colab": {}
      },
      "source": [
        "train_dir = os.path.join(PATH, 'train')\n",
        "validation_dir = os.path.join(PATH, 'validation')"
      ],
      "execution_count": 0,
      "outputs": []
    },
    {
      "cell_type": "code",
      "metadata": {
        "id": "FNUZGOjHIj3N",
        "colab_type": "code",
        "colab": {}
      },
      "source": [
        "train_mountain_dir = os.path.join(train_dir, 'mountain')  # directory with our training cat pictures\n",
        "train_forest_dir = os.path.join(train_dir, 'forest')  # directory with our training dog pictures\n",
        "validation_mountain_dir = os.path.join(validation_dir, 'mountain')  # directory with our validation cat pictures\n",
        "validation_forest_dir = os.path.join(validation_dir, 'forest')  # directory with our validation dog pictures"
      ],
      "execution_count": 0,
      "outputs": []
    },
    {
      "cell_type": "code",
      "metadata": {
        "id": "DAo3YvhGIj3P",
        "colab_type": "code",
        "colab": {}
      },
      "source": [
        "num_mountain_tr = len(os.listdir(train_mountain_dir))\n",
        "num_forest_tr = len(os.listdir(train_forest_dir))\n",
        "\n",
        "num_mountain_val = len(os.listdir(validation_mountain_dir))\n",
        "num_forest_val = len(os.listdir(validation_forest_dir))\n",
        "\n",
        "total_train = num_mountain_tr + num_forest_tr\n",
        "total_val = num_mountain_val + num_forest_val"
      ],
      "execution_count": 0,
      "outputs": []
    },
    {
      "cell_type": "code",
      "metadata": {
        "id": "8OssE-i8Ij3S",
        "colab_type": "code",
        "colab": {
          "base_uri": "https://localhost:8080/",
          "height": 136
        },
        "outputId": "c6829e67-94e1-4f67-c2fd-71af2393a635"
      },
      "source": [
        "print('total training mountain images:', num_mountain_tr)\n",
        "print('total training forest images:', num_forest_tr)\n",
        "\n",
        "print('total validation mountain images:', num_mountain_val)\n",
        "print('total validation forest images:', num_forest_val)\n",
        "print(\"--\")\n",
        "print(\"Total training images:\", total_train)\n",
        "print(\"Total validation images:\", total_val)"
      ],
      "execution_count": 8,
      "outputs": [
        {
          "output_type": "stream",
          "text": [
            "total training mountain images: 254\n",
            "total training forest images: 270\n",
            "total validation mountain images: 125\n",
            "total validation forest images: 62\n",
            "--\n",
            "Total training images: 524\n",
            "Total validation images: 187\n"
          ],
          "name": "stdout"
        }
      ]
    },
    {
      "cell_type": "markdown",
      "metadata": {
        "id": "5HD-aiV2Ij3U",
        "colab_type": "text"
      },
      "source": [
        "### Keras `ImageGenerator` to Process the Data\n",
        "\n",
        "This step is completed for you, but please review the code. The `ImageGenerator` class reads in batches of data from a directory and pass them to the model one batch at a time. Just like large text files, this method is advantageous, because it stifles the need to load a bunch of images into memory. \n",
        "\n",
        "Check out the documentation for this class method: [Keras `ImageGenerator` Class](https://keras.io/preprocessing/image/#imagedatagenerator-class). You'll expand it's use in the third assignment objective."
      ]
    },
    {
      "cell_type": "code",
      "metadata": {
        "id": "DWuC_UKqIj3V",
        "colab_type": "code",
        "colab": {}
      },
      "source": [
        "batch_size = 16\n",
        "epochs = 50\n",
        "IMG_HEIGHT = 224\n",
        "IMG_WIDTH = 224\n",
        "CHNLS = 3"
      ],
      "execution_count": 0,
      "outputs": []
    },
    {
      "cell_type": "code",
      "metadata": {
        "id": "JnreYZlRIj3Y",
        "colab_type": "code",
        "colab": {}
      },
      "source": [
        "from tensorflow.keras.preprocessing.image import ImageDataGenerator\n",
        "\n",
        "train_image_generator = ImageDataGenerator(rescale=1./255) # Generator for our training data\n",
        "validation_image_generator = ImageDataGenerator(rescale=1./255) # Generator for our validation data"
      ],
      "execution_count": 0,
      "outputs": []
    },
    {
      "cell_type": "code",
      "metadata": {
        "id": "k6XFzyVeIj3a",
        "colab_type": "code",
        "colab": {
          "base_uri": "https://localhost:8080/",
          "height": 34
        },
        "outputId": "9d332f47-c0ce-48a7-b203-7926fe12c5b6"
      },
      "source": [
        "train_data_gen = train_image_generator.flow_from_directory(batch_size=batch_size,\n",
        "                                                           directory=train_dir,\n",
        "                                                           shuffle=True,\n",
        "                                                           target_size=(IMG_HEIGHT, IMG_WIDTH),\n",
        "                                                           class_mode='binary')"
      ],
      "execution_count": 11,
      "outputs": [
        {
          "output_type": "stream",
          "text": [
            "Found 533 images belonging to 2 classes.\n"
          ],
          "name": "stdout"
        }
      ]
    },
    {
      "cell_type": "code",
      "metadata": {
        "id": "RWlOK4oCNQI6",
        "colab_type": "code",
        "colab": {
          "base_uri": "https://localhost:8080/",
          "height": 34
        },
        "outputId": "c46486d7-52f6-489d-f132-e0e0ea3948be"
      },
      "source": [
        "train_data_gen.image_shape"
      ],
      "execution_count": 89,
      "outputs": [
        {
          "output_type": "execute_result",
          "data": {
            "text/plain": [
              "(224, 224, 3)"
            ]
          },
          "metadata": {
            "tags": []
          },
          "execution_count": 89
        }
      ]
    },
    {
      "cell_type": "code",
      "metadata": {
        "id": "mW9Z7pxkIj3c",
        "colab_type": "code",
        "colab": {
          "base_uri": "https://localhost:8080/",
          "height": 34
        },
        "outputId": "b5503cca-a4e2-482e-af46-afcf12e2e804"
      },
      "source": [
        "val_data_gen = validation_image_generator.flow_from_directory(batch_size=batch_size,\n",
        "                                                              directory=validation_dir,\n",
        "                                                              target_size=(IMG_HEIGHT, IMG_WIDTH),\n",
        "                                                              class_mode='binary')"
      ],
      "execution_count": 12,
      "outputs": [
        {
          "output_type": "stream",
          "text": [
            "Found 195 images belonging to 2 classes.\n"
          ],
          "name": "stdout"
        }
      ]
    },
    {
      "cell_type": "markdown",
      "metadata": {
        "id": "PSpjHAXEIj3f",
        "colab_type": "text"
      },
      "source": [
        "## Instatiate Model"
      ]
    },
    {
      "cell_type": "code",
      "metadata": {
        "id": "4GdbUR2bIj3f",
        "colab_type": "code",
        "colab": {
          "base_uri": "https://localhost:8080/",
          "height": 51
        },
        "outputId": "d5dc1cbb-afd6-4793-8cce-fad9e548f0ff"
      },
      "source": [
        "import numpy as np\n",
        "\n",
        "from tensorflow.keras import Sequential\n",
        "from tensorflow.keras.applications.resnet50 import ResNet50\n",
        "from tensorflow.keras.preprocessing import image\n",
        "from tensorflow.keras.applications.resnet50 import preprocess_input, decode_predictions\n",
        " \n",
        "from tensorflow.keras.layers import Dense, GlobalAveragePooling2D\n",
        "from tensorflow.keras.models import Model # This is the functional API\n",
        " \n",
        "resnet = ResNet50(weights='imagenet', include_top=False)\n",
        " "
      ],
      "execution_count": 1,
      "outputs": [
        {
          "output_type": "stream",
          "text": [
            "Downloading data from https://storage.googleapis.com/tensorflow/keras-applications/resnet/resnet50_weights_tf_dim_ordering_tf_kernels_notop.h5\n",
            "94773248/94765736 [==============================] - 1s 0us/step\n"
          ],
          "name": "stdout"
        }
      ]
    },
    {
      "cell_type": "code",
      "metadata": {
        "id": "XjCSRe-9vRMa",
        "colab_type": "code",
        "colab": {}
      },
      "source": [
        "for layer in resnet.layers:\n",
        "    layer.trainable = False"
      ],
      "execution_count": 0,
      "outputs": []
    },
    {
      "cell_type": "code",
      "metadata": {
        "id": "W0OnlZ8kvR0x",
        "colab_type": "code",
        "colab": {}
      },
      "source": [
        "x = resnet.output\n",
        "x = GlobalAveragePooling2D()(x) # This layer is a really fancy flatten\n",
        "x = Dense(1024, activation='relu')(x)\n",
        "predictions = Dense(1, activation='sigmoid')(x)\n",
        "# This Model is an API wrapper\n",
        "model = Model(resnet.input, predictions)"
      ],
      "execution_count": 0,
      "outputs": []
    },
    {
      "cell_type": "code",
      "metadata": {
        "id": "bdTLDhhdvVnU",
        "colab_type": "code",
        "colab": {}
      },
      "source": [
        "# Must compile before fit... though not in usage\n",
        "model.compile(optimizer='nadam',\n",
        "              loss='binary_crossentropy',\n",
        "              metrics=['accuracy'])"
      ],
      "execution_count": 0,
      "outputs": []
    },
    {
      "cell_type": "markdown",
      "metadata": {
        "id": "I4LVnnGrIj3i",
        "colab_type": "text"
      },
      "source": [
        "## Fit Model"
      ]
    },
    {
      "cell_type": "code",
      "metadata": {
        "id": "FZZCmZxfIj3i",
        "colab_type": "code",
        "colab": {
          "base_uri": "https://localhost:8080/",
          "height": 1000
        },
        "outputId": "b581ea94-64fa-4197-9153-95d9e0599975"
      },
      "source": [
        "history = model.fit(\n",
        "    train_data_gen,\n",
        "    steps_per_epoch=total_train // batch_size,\n",
        "    epochs=epochs,\n",
        "    validation_data=val_data_gen,\n",
        "    validation_steps=total_val // batch_size\n",
        ")"
      ],
      "execution_count": 40,
      "outputs": [
        {
          "output_type": "stream",
          "text": [
            "Epoch 1/50\n",
            "32/32 [==============================] - 3s 104ms/step - loss: nan - accuracy: 0.5070 - val_loss: nan - val_accuracy: 0.3497\n",
            "Epoch 2/50\n",
            "32/32 [==============================] - 3s 79ms/step - loss: nan - accuracy: 0.5130 - val_loss: nan - val_accuracy: 0.3497\n",
            "Epoch 3/50\n",
            "32/32 [==============================] - 3s 79ms/step - loss: nan - accuracy: 0.5269 - val_loss: nan - val_accuracy: 0.3252\n",
            "Epoch 4/50\n",
            "32/32 [==============================] - 3s 80ms/step - loss: nan - accuracy: 0.5117 - val_loss: nan - val_accuracy: 0.3352\n",
            "Epoch 5/50\n",
            "32/32 [==============================] - 3s 80ms/step - loss: nan - accuracy: 0.5250 - val_loss: nan - val_accuracy: 0.3523\n",
            "Epoch 6/50\n",
            "32/32 [==============================] - 2s 77ms/step - loss: nan - accuracy: 0.5030 - val_loss: nan - val_accuracy: 0.3558\n",
            "Epoch 7/50\n",
            "32/32 [==============================] - 2s 78ms/step - loss: nan - accuracy: 0.5269 - val_loss: nan - val_accuracy: 0.3497\n",
            "Epoch 8/50\n",
            "32/32 [==============================] - 3s 78ms/step - loss: nan - accuracy: 0.4890 - val_loss: nan - val_accuracy: 0.3067\n",
            "Epoch 9/50\n",
            "32/32 [==============================] - 3s 78ms/step - loss: nan - accuracy: 0.5369 - val_loss: nan - val_accuracy: 0.3742\n",
            "Epoch 10/50\n",
            "32/32 [==============================] - 3s 79ms/step - loss: nan - accuracy: 0.5269 - val_loss: nan - val_accuracy: 0.3436\n",
            "Epoch 11/50\n",
            "32/32 [==============================] - 3s 78ms/step - loss: nan - accuracy: 0.4990 - val_loss: nan - val_accuracy: 0.3190\n",
            "Epoch 12/50\n",
            "32/32 [==============================] - 3s 78ms/step - loss: nan - accuracy: 0.5150 - val_loss: nan - val_accuracy: 0.3742\n",
            "Epoch 13/50\n",
            "32/32 [==============================] - 3s 78ms/step - loss: nan - accuracy: 0.5329 - val_loss: nan - val_accuracy: 0.3006\n",
            "Epoch 14/50\n",
            "32/32 [==============================] - 2s 78ms/step - loss: nan - accuracy: 0.5030 - val_loss: nan - val_accuracy: 0.3926\n",
            "Epoch 15/50\n",
            "32/32 [==============================] - 3s 78ms/step - loss: nan - accuracy: 0.5309 - val_loss: nan - val_accuracy: 0.3436\n",
            "Epoch 16/50\n",
            "32/32 [==============================] - 2s 78ms/step - loss: nan - accuracy: 0.4990 - val_loss: nan - val_accuracy: 0.3436\n",
            "Epoch 17/50\n",
            "32/32 [==============================] - 3s 78ms/step - loss: nan - accuracy: 0.5090 - val_loss: nan - val_accuracy: 0.3352\n",
            "Epoch 18/50\n",
            "32/32 [==============================] - 3s 79ms/step - loss: nan - accuracy: 0.5269 - val_loss: nan - val_accuracy: 0.3523\n",
            "Epoch 19/50\n",
            "32/32 [==============================] - 2s 76ms/step - loss: nan - accuracy: 0.5130 - val_loss: nan - val_accuracy: 0.3865\n",
            "Epoch 20/50\n",
            "32/32 [==============================] - 2s 77ms/step - loss: nan - accuracy: 0.5170 - val_loss: nan - val_accuracy: 0.3620\n",
            "Epoch 21/50\n",
            "32/32 [==============================] - 2s 78ms/step - loss: nan - accuracy: 0.5215 - val_loss: nan - val_accuracy: 0.3374\n",
            "Epoch 22/50\n",
            "32/32 [==============================] - 3s 78ms/step - loss: nan - accuracy: 0.5110 - val_loss: nan - val_accuracy: 0.3129\n",
            "Epoch 23/50\n",
            "32/32 [==============================] - 2s 78ms/step - loss: nan - accuracy: 0.5210 - val_loss: nan - val_accuracy: 0.3558\n",
            "Epoch 24/50\n",
            "32/32 [==============================] - 2s 77ms/step - loss: nan - accuracy: 0.5130 - val_loss: nan - val_accuracy: 0.3558\n",
            "Epoch 25/50\n",
            "32/32 [==============================] - 2s 78ms/step - loss: nan - accuracy: 0.5130 - val_loss: nan - val_accuracy: 0.3742\n",
            "Epoch 26/50\n",
            "32/32 [==============================] - 2s 78ms/step - loss: nan - accuracy: 0.5130 - val_loss: nan - val_accuracy: 0.3313\n",
            "Epoch 27/50\n",
            "32/32 [==============================] - 2s 78ms/step - loss: nan - accuracy: 0.5170 - val_loss: nan - val_accuracy: 0.3436\n",
            "Epoch 28/50\n",
            "32/32 [==============================] - 2s 78ms/step - loss: nan - accuracy: 0.5369 - val_loss: nan - val_accuracy: 0.3742\n",
            "Epoch 29/50\n",
            "32/32 [==============================] - 2s 77ms/step - loss: nan - accuracy: 0.5050 - val_loss: nan - val_accuracy: 0.3436\n",
            "Epoch 30/50\n",
            "32/32 [==============================] - 2s 78ms/step - loss: nan - accuracy: 0.5130 - val_loss: nan - val_accuracy: 0.3352\n",
            "Epoch 31/50\n",
            "32/32 [==============================] - 2s 78ms/step - loss: nan - accuracy: 0.5190 - val_loss: nan - val_accuracy: 0.3295\n",
            "Epoch 32/50\n",
            "32/32 [==============================] - 2s 76ms/step - loss: nan - accuracy: 0.5110 - val_loss: nan - val_accuracy: 0.3497\n",
            "Epoch 33/50\n",
            "32/32 [==============================] - 2s 77ms/step - loss: nan - accuracy: 0.5289 - val_loss: nan - val_accuracy: 0.3313\n",
            "Epoch 34/50\n",
            "32/32 [==============================] - 2s 77ms/step - loss: nan - accuracy: 0.5010 - val_loss: nan - val_accuracy: 0.3497\n",
            "Epoch 35/50\n",
            "32/32 [==============================] - 2s 77ms/step - loss: nan - accuracy: 0.5190 - val_loss: nan - val_accuracy: 0.3129\n",
            "Epoch 36/50\n",
            "32/32 [==============================] - 2s 77ms/step - loss: nan - accuracy: 0.5170 - val_loss: nan - val_accuracy: 0.3742\n",
            "Epoch 37/50\n",
            "32/32 [==============================] - 2s 77ms/step - loss: nan - accuracy: 0.5030 - val_loss: nan - val_accuracy: 0.3497\n",
            "Epoch 38/50\n",
            "32/32 [==============================] - 2s 77ms/step - loss: nan - accuracy: 0.5234 - val_loss: nan - val_accuracy: 0.3436\n",
            "Epoch 39/50\n",
            "32/32 [==============================] - 3s 78ms/step - loss: nan - accuracy: 0.5289 - val_loss: nan - val_accuracy: 0.3006\n",
            "Epoch 40/50\n",
            "32/32 [==============================] - 3s 78ms/step - loss: nan - accuracy: 0.5070 - val_loss: nan - val_accuracy: 0.3681\n",
            "Epoch 41/50\n",
            "32/32 [==============================] - 2s 78ms/step - loss: nan - accuracy: 0.5050 - val_loss: nan - val_accuracy: 0.3252\n",
            "Epoch 42/50\n",
            "32/32 [==============================] - 3s 78ms/step - loss: nan - accuracy: 0.5190 - val_loss: nan - val_accuracy: 0.3374\n",
            "Epoch 43/50\n",
            "32/32 [==============================] - 3s 78ms/step - loss: nan - accuracy: 0.5250 - val_loss: nan - val_accuracy: 0.3466\n",
            "Epoch 44/50\n",
            "32/32 [==============================] - 2s 78ms/step - loss: nan - accuracy: 0.5190 - val_loss: nan - val_accuracy: 0.3523\n",
            "Epoch 45/50\n",
            "32/32 [==============================] - 2s 76ms/step - loss: nan - accuracy: 0.5190 - val_loss: nan - val_accuracy: 0.3497\n",
            "Epoch 46/50\n",
            "32/32 [==============================] - 2s 77ms/step - loss: nan - accuracy: 0.5090 - val_loss: nan - val_accuracy: 0.3313\n",
            "Epoch 47/50\n",
            "32/32 [==============================] - 2s 77ms/step - loss: nan - accuracy: 0.5130 - val_loss: nan - val_accuracy: 0.3190\n",
            "Epoch 48/50\n",
            "32/32 [==============================] - 2s 77ms/step - loss: nan - accuracy: 0.5090 - val_loss: nan - val_accuracy: 0.3620\n",
            "Epoch 49/50\n",
            "32/32 [==============================] - 2s 78ms/step - loss: nan - accuracy: 0.5190 - val_loss: nan - val_accuracy: 0.3374\n",
            "Epoch 50/50\n",
            "32/32 [==============================] - 2s 76ms/step - loss: nan - accuracy: 0.5309 - val_loss: nan - val_accuracy: 0.3190\n"
          ],
          "name": "stdout"
        }
      ]
    },
    {
      "cell_type": "code",
      "metadata": {
        "id": "hH9Z-XZ81QHs",
        "colab_type": "code",
        "colab": {}
      },
      "source": [
        "train_data_gen[0]"
      ],
      "execution_count": 0,
      "outputs": []
    },
    {
      "cell_type": "markdown",
      "metadata": {
        "id": "qS_W7efQIj3k",
        "colab_type": "text"
      },
      "source": [
        "\n",
        "# Custom CNN Model\n",
        "\n",
        "In this step, write and train your own convolutional neural network using Keras. You can use any architecture that suits you as long as it has at least one convolutional and one pooling layer at the beginning of the network - you can add more if you want. "
      ]
    },
    {
      "cell_type": "code",
      "metadata": {
        "id": "ocGNUpXVIj3l",
        "colab_type": "code",
        "colab": {
          "base_uri": "https://localhost:8080/",
          "height": 459
        },
        "outputId": "c98ca9b3-33ef-4053-8ec9-3aaae00a3090"
      },
      "source": [
        "from tensorflow.keras.models import Sequential, Model \n",
        "from tensorflow.keras.layers import Dense, Conv2D, MaxPooling2D, Flatten, Dropout\n",
        "\n",
        "# Define the Model\n",
        "custom_cnn = Sequential()\n",
        "# Check pixels on input images for their shape\n",
        "custom_cnn.add(Conv2D(32, (3,3), activation='selu', input_shape=(256,256,3)))\n",
        "custom_cnn.add(MaxPooling2D((2,2)))\n",
        "custom_cnn.add(Conv2D(64, (3,3), activation='selu'))\n",
        "custom_cnn.add(MaxPooling2D((2,2)))\n",
        "custom_cnn.add(Conv2D(64, (3,3), activation='selu'))\n",
        "custom_cnn.add(GlobalAveragePooling2D())\n",
        "\n",
        "custom_cnn.add(Dense(64, activation='relu'))\n",
        "custom_cnn.add(Dropout(0.07))\n",
        "custom_cnn.add(Dense(10, activation='softmax'))\n",
        "\n",
        "custom_cnn.summary()\n"
      ],
      "execution_count": 78,
      "outputs": [
        {
          "output_type": "stream",
          "text": [
            "Model: \"sequential_17\"\n",
            "_________________________________________________________________\n",
            "Layer (type)                 Output Shape              Param #   \n",
            "=================================================================\n",
            "conv2d_48 (Conv2D)           (None, 222, 222, 32)      896       \n",
            "_________________________________________________________________\n",
            "max_pooling2d_32 (MaxPooling (None, 111, 111, 32)      0         \n",
            "_________________________________________________________________\n",
            "conv2d_49 (Conv2D)           (None, 109, 109, 64)      18496     \n",
            "_________________________________________________________________\n",
            "max_pooling2d_33 (MaxPooling (None, 54, 54, 64)        0         \n",
            "_________________________________________________________________\n",
            "conv2d_50 (Conv2D)           (None, 52, 52, 64)        36928     \n",
            "_________________________________________________________________\n",
            "global_average_pooling2d_15  (None, 64)                0         \n",
            "_________________________________________________________________\n",
            "dense_28 (Dense)             (None, 64)                4160      \n",
            "_________________________________________________________________\n",
            "dropout_10 (Dropout)         (None, 64)                0         \n",
            "_________________________________________________________________\n",
            "dense_29 (Dense)             (None, 10)                650       \n",
            "=================================================================\n",
            "Total params: 61,130\n",
            "Trainable params: 61,130\n",
            "Non-trainable params: 0\n",
            "_________________________________________________________________\n"
          ],
          "name": "stdout"
        }
      ]
    },
    {
      "cell_type": "code",
      "metadata": {
        "id": "4GqqgarmIj3n",
        "colab_type": "code",
        "colab": {}
      },
      "source": [
        "# Compile Model\n",
        "custom_cnn.compile(loss='sparse_categorical_crossentropy', optimizer='nadam',\n",
        "                   metrics=['accuracy'])"
      ],
      "execution_count": 0,
      "outputs": []
    },
    {
      "cell_type": "code",
      "metadata": {
        "id": "FBXTNgJqIj3p",
        "colab_type": "code",
        "colab": {
          "base_uri": "https://localhost:8080/",
          "height": 1000
        },
        "outputId": "4a8fff5b-c15b-4d1a-d9bc-39f57002e4f8"
      },
      "source": [
        "# Fit Model\n",
        "history_custom = custom_cnn.fit(\n",
        "    train_data_gen,\n",
        "    steps_per_epoch=total_train // batch_size,\n",
        "    epochs=epochs,\n",
        "    validation_data=val_data_gen,\n",
        "    validation_steps=total_val // batch_size\n",
        ")\n",
        "\n",
        "# Much better results on custom cnn\n",
        "# Question, even though i used sparse_categorical_crossentropy with softmax, \n",
        "#got much better results than the proper binary_cross with sigmoid"
      ],
      "execution_count": 80,
      "outputs": [
        {
          "output_type": "stream",
          "text": [
            "Epoch 1/50\n",
            "32/32 [==============================] - 2s 62ms/step - loss: 0.8137 - accuracy: 0.6926 - val_loss: 0.3633 - val_accuracy: 0.8282\n",
            "Epoch 2/50\n",
            "32/32 [==============================] - 2s 59ms/step - loss: 0.3159 - accuracy: 0.8862 - val_loss: 0.2431 - val_accuracy: 0.9034\n",
            "Epoch 3/50\n",
            "32/32 [==============================] - 2s 60ms/step - loss: 0.2591 - accuracy: 0.8982 - val_loss: 0.3459 - val_accuracy: 0.8523\n",
            "Epoch 4/50\n",
            "32/32 [==============================] - 2s 58ms/step - loss: 0.2505 - accuracy: 0.8962 - val_loss: 0.2835 - val_accuracy: 0.8712\n",
            "Epoch 5/50\n",
            "32/32 [==============================] - 2s 60ms/step - loss: 0.1705 - accuracy: 0.9361 - val_loss: 0.2136 - val_accuracy: 0.9264\n",
            "Epoch 6/50\n",
            "32/32 [==============================] - 2s 60ms/step - loss: 0.2231 - accuracy: 0.9202 - val_loss: 0.2144 - val_accuracy: 0.9141\n",
            "Epoch 7/50\n",
            "32/32 [==============================] - 2s 59ms/step - loss: 0.2047 - accuracy: 0.9222 - val_loss: 0.4736 - val_accuracy: 0.8405\n",
            "Epoch 8/50\n",
            "32/32 [==============================] - 2s 61ms/step - loss: 0.1509 - accuracy: 0.9461 - val_loss: 0.1293 - val_accuracy: 0.9571\n",
            "Epoch 9/50\n",
            "32/32 [==============================] - 2s 61ms/step - loss: 0.1771 - accuracy: 0.9381 - val_loss: 0.3166 - val_accuracy: 0.8896\n",
            "Epoch 10/50\n",
            "32/32 [==============================] - 2s 61ms/step - loss: 0.2013 - accuracy: 0.9219 - val_loss: 0.1325 - val_accuracy: 0.9632\n",
            "Epoch 11/50\n",
            "32/32 [==============================] - 2s 63ms/step - loss: 0.1900 - accuracy: 0.9321 - val_loss: 0.4259 - val_accuracy: 0.8712\n",
            "Epoch 12/50\n",
            "32/32 [==============================] - 2s 60ms/step - loss: 0.1716 - accuracy: 0.9281 - val_loss: 0.2082 - val_accuracy: 0.9264\n",
            "Epoch 13/50\n",
            "32/32 [==============================] - 2s 59ms/step - loss: 0.1738 - accuracy: 0.9381 - val_loss: 0.2549 - val_accuracy: 0.9202\n",
            "Epoch 14/50\n",
            "32/32 [==============================] - 2s 60ms/step - loss: 0.1635 - accuracy: 0.9361 - val_loss: 0.2444 - val_accuracy: 0.9202\n",
            "Epoch 15/50\n",
            "32/32 [==============================] - 2s 60ms/step - loss: 0.1787 - accuracy: 0.9261 - val_loss: 0.2599 - val_accuracy: 0.9148\n",
            "Epoch 16/50\n",
            "32/32 [==============================] - 2s 60ms/step - loss: 0.1622 - accuracy: 0.9421 - val_loss: 0.2197 - val_accuracy: 0.9091\n",
            "Epoch 17/50\n",
            "32/32 [==============================] - 2s 60ms/step - loss: 0.1407 - accuracy: 0.9441 - val_loss: 0.2567 - val_accuracy: 0.9141\n",
            "Epoch 18/50\n",
            "32/32 [==============================] - 2s 58ms/step - loss: 0.2068 - accuracy: 0.9281 - val_loss: 0.2013 - val_accuracy: 0.9018\n",
            "Epoch 19/50\n",
            "32/32 [==============================] - 2s 59ms/step - loss: 0.1509 - accuracy: 0.9381 - val_loss: 0.2261 - val_accuracy: 0.9202\n",
            "Epoch 20/50\n",
            "32/32 [==============================] - 2s 60ms/step - loss: 0.1615 - accuracy: 0.9421 - val_loss: 0.1587 - val_accuracy: 0.9509\n",
            "Epoch 21/50\n",
            "32/32 [==============================] - 2s 60ms/step - loss: 0.1406 - accuracy: 0.9381 - val_loss: 0.2544 - val_accuracy: 0.8896\n",
            "Epoch 22/50\n",
            "32/32 [==============================] - 2s 60ms/step - loss: 0.1267 - accuracy: 0.9561 - val_loss: 0.2264 - val_accuracy: 0.9264\n",
            "Epoch 23/50\n",
            "32/32 [==============================] - 2s 61ms/step - loss: 0.1392 - accuracy: 0.9601 - val_loss: 0.2744 - val_accuracy: 0.9080\n",
            "Epoch 24/50\n",
            "32/32 [==============================] - 2s 67ms/step - loss: 0.1199 - accuracy: 0.9561 - val_loss: 0.2481 - val_accuracy: 0.9141\n",
            "Epoch 25/50\n",
            "32/32 [==============================] - 2s 63ms/step - loss: 0.1521 - accuracy: 0.9441 - val_loss: 0.2917 - val_accuracy: 0.9264\n",
            "Epoch 26/50\n",
            "32/32 [==============================] - 2s 62ms/step - loss: 0.1217 - accuracy: 0.9561 - val_loss: 0.2031 - val_accuracy: 0.9325\n",
            "Epoch 27/50\n",
            "32/32 [==============================] - 2s 64ms/step - loss: 0.1151 - accuracy: 0.9629 - val_loss: 0.2430 - val_accuracy: 0.9141\n",
            "Epoch 28/50\n",
            "32/32 [==============================] - 2s 65ms/step - loss: 0.1917 - accuracy: 0.9301 - val_loss: 0.3097 - val_accuracy: 0.9148\n",
            "Epoch 29/50\n",
            "32/32 [==============================] - 2s 65ms/step - loss: 0.1270 - accuracy: 0.9541 - val_loss: 0.2600 - val_accuracy: 0.9205\n",
            "Epoch 30/50\n",
            "32/32 [==============================] - 2s 60ms/step - loss: 0.1234 - accuracy: 0.9541 - val_loss: 0.2709 - val_accuracy: 0.9202\n",
            "Epoch 31/50\n",
            "32/32 [==============================] - 2s 60ms/step - loss: 0.1054 - accuracy: 0.9621 - val_loss: 0.2430 - val_accuracy: 0.9141\n",
            "Epoch 32/50\n",
            "32/32 [==============================] - 2s 63ms/step - loss: 0.1057 - accuracy: 0.9601 - val_loss: 0.4104 - val_accuracy: 0.8712\n",
            "Epoch 33/50\n",
            "32/32 [==============================] - 2s 63ms/step - loss: 0.1059 - accuracy: 0.9601 - val_loss: 0.2082 - val_accuracy: 0.9264\n",
            "Epoch 34/50\n",
            "32/32 [==============================] - 2s 61ms/step - loss: 0.1099 - accuracy: 0.9581 - val_loss: 0.2400 - val_accuracy: 0.9202\n",
            "Epoch 35/50\n",
            "32/32 [==============================] - 2s 61ms/step - loss: 0.1153 - accuracy: 0.9521 - val_loss: 0.1907 - val_accuracy: 0.9509\n",
            "Epoch 36/50\n",
            "32/32 [==============================] - 2s 64ms/step - loss: 0.1401 - accuracy: 0.9601 - val_loss: 0.1945 - val_accuracy: 0.9387\n",
            "Epoch 37/50\n",
            "32/32 [==============================] - 2s 62ms/step - loss: 0.1269 - accuracy: 0.9521 - val_loss: 0.2391 - val_accuracy: 0.9141\n",
            "Epoch 38/50\n",
            "32/32 [==============================] - 2s 62ms/step - loss: 0.1043 - accuracy: 0.9561 - val_loss: 0.6536 - val_accuracy: 0.8528\n",
            "Epoch 39/50\n",
            "32/32 [==============================] - 2s 63ms/step - loss: 0.0956 - accuracy: 0.9641 - val_loss: 0.2717 - val_accuracy: 0.9141\n",
            "Epoch 40/50\n",
            "32/32 [==============================] - 2s 61ms/step - loss: 0.1690 - accuracy: 0.9421 - val_loss: 0.2280 - val_accuracy: 0.9202\n",
            "Epoch 41/50\n",
            "32/32 [==============================] - 2s 62ms/step - loss: 0.1068 - accuracy: 0.9701 - val_loss: 0.2812 - val_accuracy: 0.9205\n",
            "Epoch 42/50\n",
            "32/32 [==============================] - 2s 64ms/step - loss: 0.0870 - accuracy: 0.9661 - val_loss: 0.2469 - val_accuracy: 0.9261\n",
            "Epoch 43/50\n",
            "32/32 [==============================] - 2s 63ms/step - loss: 0.1229 - accuracy: 0.9541 - val_loss: 0.4570 - val_accuracy: 0.8773\n",
            "Epoch 44/50\n",
            "32/32 [==============================] - 2s 63ms/step - loss: 0.0833 - accuracy: 0.9629 - val_loss: 0.2714 - val_accuracy: 0.9202\n",
            "Epoch 45/50\n",
            "32/32 [==============================] - 2s 65ms/step - loss: 0.0912 - accuracy: 0.9641 - val_loss: 0.2152 - val_accuracy: 0.9387\n",
            "Epoch 46/50\n",
            "32/32 [==============================] - 2s 63ms/step - loss: 0.0673 - accuracy: 0.9780 - val_loss: 0.2073 - val_accuracy: 0.9387\n",
            "Epoch 47/50\n",
            "32/32 [==============================] - 2s 62ms/step - loss: 0.1275 - accuracy: 0.9541 - val_loss: 0.4364 - val_accuracy: 0.9202\n",
            "Epoch 48/50\n",
            "32/32 [==============================] - 2s 62ms/step - loss: 0.0850 - accuracy: 0.9701 - val_loss: 0.2102 - val_accuracy: 0.9325\n",
            "Epoch 49/50\n",
            "32/32 [==============================] - 2s 63ms/step - loss: 0.0824 - accuracy: 0.9780 - val_loss: 0.3241 - val_accuracy: 0.9141\n",
            "Epoch 50/50\n",
            "32/32 [==============================] - 2s 62ms/step - loss: 0.1127 - accuracy: 0.9561 - val_loss: 0.2017 - val_accuracy: 0.9202\n"
          ],
          "name": "stdout"
        }
      ]
    },
    {
      "cell_type": "code",
      "metadata": {
        "id": "VlSoKggaJXB6",
        "colab_type": "code",
        "colab": {
          "base_uri": "https://localhost:8080/",
          "height": 459
        },
        "outputId": "969a5444-7a22-4885-de5e-d9f5f3560769"
      },
      "source": [
        "# Try with more proper settings \n",
        "model_2 = Sequential()\n",
        "model_2.add(Conv2D(32, (3,3), activation='selu', input_shape=(256,256,3)))\n",
        "model_2.add(MaxPooling2D((2,2)))\n",
        "model_2.add(Conv2D(64, (3,3), activation='selu'))\n",
        "model_2.add(MaxPooling2D((2,2)))\n",
        "model_2.add(Conv2D(64, (3,3), activation='selu'))\n",
        "\n",
        "model_2.add(GlobalAveragePooling2D())\n",
        "model_2.add(Dense(64, activation='relu'))\n",
        "model_2.add(Dropout(0.15))\n",
        "model_2.add(Dense(1, activation='sigmoid'))\n",
        "\n",
        "model_2.summary()"
      ],
      "execution_count": 84,
      "outputs": [
        {
          "output_type": "stream",
          "text": [
            "Model: \"sequential_19\"\n",
            "_________________________________________________________________\n",
            "Layer (type)                 Output Shape              Param #   \n",
            "=================================================================\n",
            "conv2d_54 (Conv2D)           (None, 254, 254, 32)      896       \n",
            "_________________________________________________________________\n",
            "max_pooling2d_36 (MaxPooling (None, 127, 127, 32)      0         \n",
            "_________________________________________________________________\n",
            "conv2d_55 (Conv2D)           (None, 125, 125, 64)      18496     \n",
            "_________________________________________________________________\n",
            "max_pooling2d_37 (MaxPooling (None, 62, 62, 64)        0         \n",
            "_________________________________________________________________\n",
            "conv2d_56 (Conv2D)           (None, 60, 60, 64)        36928     \n",
            "_________________________________________________________________\n",
            "global_average_pooling2d_17  (None, 64)                0         \n",
            "_________________________________________________________________\n",
            "dense_32 (Dense)             (None, 64)                4160      \n",
            "_________________________________________________________________\n",
            "dropout_12 (Dropout)         (None, 64)                0         \n",
            "_________________________________________________________________\n",
            "dense_33 (Dense)             (None, 1)                 65        \n",
            "=================================================================\n",
            "Total params: 60,545\n",
            "Trainable params: 60,545\n",
            "Non-trainable params: 0\n",
            "_________________________________________________________________\n"
          ],
          "name": "stdout"
        }
      ]
    },
    {
      "cell_type": "code",
      "metadata": {
        "id": "paWl0-QhJd0N",
        "colab_type": "code",
        "colab": {}
      },
      "source": [
        "# Compile Model\n",
        "model_2.compile(optimizer='adam',\n",
        "              loss='binary_crossentropy',\n",
        "              metrics=['accuracy'])"
      ],
      "execution_count": 0,
      "outputs": []
    },
    {
      "cell_type": "code",
      "metadata": {
        "id": "p-uLyxWfJh6d",
        "colab_type": "code",
        "colab": {
          "base_uri": "https://localhost:8080/",
          "height": 1000
        },
        "outputId": "8d6ae012-6ed8-424c-ac00-00dfce2af484"
      },
      "source": [
        "history = model_2.fit(\n",
        "    train_data_gen,\n",
        "    steps_per_epoch=total_train // batch_size,\n",
        "    epochs=epochs,\n",
        "    validation_data=val_data_gen,\n",
        "    validation_steps=total_val // batch_size\n",
        ")"
      ],
      "execution_count": 86,
      "outputs": [
        {
          "output_type": "stream",
          "text": [
            "Epoch 1/50\n",
            "32/32 [==============================] - 2s 63ms/step - loss: 0.3497 - accuracy: 0.8463 - val_loss: 0.2918 - val_accuracy: 0.8773\n",
            "Epoch 2/50\n",
            "32/32 [==============================] - 2s 58ms/step - loss: 0.2258 - accuracy: 0.9222 - val_loss: 0.2080 - val_accuracy: 0.9264\n",
            "Epoch 3/50\n",
            "32/32 [==============================] - 2s 60ms/step - loss: 0.1555 - accuracy: 0.9421 - val_loss: 0.3737 - val_accuracy: 0.8528\n",
            "Epoch 4/50\n",
            "32/32 [==============================] - 2s 59ms/step - loss: 0.2186 - accuracy: 0.9182 - val_loss: 0.4038 - val_accuracy: 0.8650\n",
            "Epoch 5/50\n",
            "32/32 [==============================] - 2s 59ms/step - loss: 0.2156 - accuracy: 0.9122 - val_loss: 0.2276 - val_accuracy: 0.9325\n",
            "Epoch 6/50\n",
            "32/32 [==============================] - 2s 59ms/step - loss: 0.2132 - accuracy: 0.9042 - val_loss: 0.2037 - val_accuracy: 0.9205\n",
            "Epoch 7/50\n",
            "32/32 [==============================] - 2s 60ms/step - loss: 0.1715 - accuracy: 0.9421 - val_loss: 0.2246 - val_accuracy: 0.9318\n",
            "Epoch 8/50\n",
            "32/32 [==============================] - 2s 60ms/step - loss: 0.1923 - accuracy: 0.9321 - val_loss: 0.4448 - val_accuracy: 0.8773\n",
            "Epoch 9/50\n",
            "32/32 [==============================] - 2s 59ms/step - loss: 0.1537 - accuracy: 0.9421 - val_loss: 0.3944 - val_accuracy: 0.8650\n",
            "Epoch 10/50\n",
            "32/32 [==============================] - 2s 59ms/step - loss: 0.1626 - accuracy: 0.9321 - val_loss: 0.1640 - val_accuracy: 0.9202\n",
            "Epoch 11/50\n",
            "32/32 [==============================] - 2s 60ms/step - loss: 0.1561 - accuracy: 0.9581 - val_loss: 0.1492 - val_accuracy: 0.9264\n",
            "Epoch 12/50\n",
            "32/32 [==============================] - 2s 59ms/step - loss: 0.1897 - accuracy: 0.9361 - val_loss: 0.1970 - val_accuracy: 0.9202\n",
            "Epoch 13/50\n",
            "32/32 [==============================] - 2s 61ms/step - loss: 0.1541 - accuracy: 0.9551 - val_loss: 0.3047 - val_accuracy: 0.9202\n",
            "Epoch 14/50\n",
            "32/32 [==============================] - 2s 62ms/step - loss: 0.1672 - accuracy: 0.9341 - val_loss: 0.1834 - val_accuracy: 0.9202\n",
            "Epoch 15/50\n",
            "32/32 [==============================] - 2s 61ms/step - loss: 0.1645 - accuracy: 0.9401 - val_loss: 0.2819 - val_accuracy: 0.9018\n",
            "Epoch 16/50\n",
            "32/32 [==============================] - 2s 61ms/step - loss: 0.1966 - accuracy: 0.9281 - val_loss: 0.2271 - val_accuracy: 0.9264\n",
            "Epoch 17/50\n",
            "32/32 [==============================] - 2s 59ms/step - loss: 0.1451 - accuracy: 0.9501 - val_loss: 0.3069 - val_accuracy: 0.9080\n",
            "Epoch 18/50\n",
            "32/32 [==============================] - 2s 58ms/step - loss: 0.1703 - accuracy: 0.9182 - val_loss: 0.2377 - val_accuracy: 0.9202\n",
            "Epoch 19/50\n",
            "32/32 [==============================] - 2s 59ms/step - loss: 0.1996 - accuracy: 0.9301 - val_loss: 0.2231 - val_accuracy: 0.8977\n",
            "Epoch 20/50\n",
            "32/32 [==============================] - 2s 58ms/step - loss: 0.1465 - accuracy: 0.9361 - val_loss: 0.1827 - val_accuracy: 0.9375\n",
            "Epoch 21/50\n",
            "32/32 [==============================] - 2s 58ms/step - loss: 0.1473 - accuracy: 0.9521 - val_loss: 0.2481 - val_accuracy: 0.9018\n",
            "Epoch 22/50\n",
            "32/32 [==============================] - 2s 58ms/step - loss: 0.1251 - accuracy: 0.9581 - val_loss: 0.2820 - val_accuracy: 0.9018\n",
            "Epoch 23/50\n",
            "32/32 [==============================] - 2s 58ms/step - loss: 0.1519 - accuracy: 0.9461 - val_loss: 0.1834 - val_accuracy: 0.9387\n",
            "Epoch 24/50\n",
            "32/32 [==============================] - 2s 60ms/step - loss: 0.1522 - accuracy: 0.9421 - val_loss: 0.2742 - val_accuracy: 0.9264\n",
            "Epoch 25/50\n",
            "32/32 [==============================] - 2s 58ms/step - loss: 0.1237 - accuracy: 0.9501 - val_loss: 0.1439 - val_accuracy: 0.9325\n",
            "Epoch 26/50\n",
            "32/32 [==============================] - 2s 58ms/step - loss: 0.1459 - accuracy: 0.9361 - val_loss: 0.3516 - val_accuracy: 0.9018\n",
            "Epoch 27/50\n",
            "32/32 [==============================] - 2s 57ms/step - loss: 0.1154 - accuracy: 0.9621 - val_loss: 0.2468 - val_accuracy: 0.9325\n",
            "Epoch 28/50\n",
            "32/32 [==============================] - 2s 57ms/step - loss: 0.1674 - accuracy: 0.9381 - val_loss: 0.2316 - val_accuracy: 0.9387\n",
            "Epoch 29/50\n",
            "32/32 [==============================] - 2s 57ms/step - loss: 0.1422 - accuracy: 0.9481 - val_loss: 0.3029 - val_accuracy: 0.9325\n",
            "Epoch 30/50\n",
            "32/32 [==============================] - 2s 57ms/step - loss: 0.1708 - accuracy: 0.9414 - val_loss: 0.3112 - val_accuracy: 0.9080\n",
            "Epoch 31/50\n",
            "32/32 [==============================] - 2s 58ms/step - loss: 0.1391 - accuracy: 0.9481 - val_loss: 0.2753 - val_accuracy: 0.9018\n",
            "Epoch 32/50\n",
            "32/32 [==============================] - 2s 58ms/step - loss: 0.1176 - accuracy: 0.9561 - val_loss: 0.2821 - val_accuracy: 0.9091\n",
            "Epoch 33/50\n",
            "32/32 [==============================] - 2s 58ms/step - loss: 0.1152 - accuracy: 0.9561 - val_loss: 0.2303 - val_accuracy: 0.9375\n",
            "Epoch 34/50\n",
            "32/32 [==============================] - 2s 57ms/step - loss: 0.1206 - accuracy: 0.9601 - val_loss: 0.4304 - val_accuracy: 0.9080\n",
            "Epoch 35/50\n",
            "32/32 [==============================] - 2s 58ms/step - loss: 0.1180 - accuracy: 0.9661 - val_loss: 0.3223 - val_accuracy: 0.9325\n",
            "Epoch 36/50\n",
            "32/32 [==============================] - 2s 57ms/step - loss: 0.1233 - accuracy: 0.9581 - val_loss: 0.2723 - val_accuracy: 0.9202\n",
            "Epoch 37/50\n",
            "32/32 [==============================] - 2s 59ms/step - loss: 0.1154 - accuracy: 0.9581 - val_loss: 0.3153 - val_accuracy: 0.9080\n",
            "Epoch 38/50\n",
            "32/32 [==============================] - 2s 58ms/step - loss: 0.1237 - accuracy: 0.9481 - val_loss: 0.1798 - val_accuracy: 0.9571\n",
            "Epoch 39/50\n",
            "32/32 [==============================] - 2s 58ms/step - loss: 0.1200 - accuracy: 0.9541 - val_loss: 0.1831 - val_accuracy: 0.9264\n",
            "Epoch 40/50\n",
            "32/32 [==============================] - 2s 59ms/step - loss: 0.1332 - accuracy: 0.9501 - val_loss: 0.5402 - val_accuracy: 0.8221\n",
            "Epoch 41/50\n",
            "32/32 [==============================] - 2s 58ms/step - loss: 0.1717 - accuracy: 0.9401 - val_loss: 0.1542 - val_accuracy: 0.9509\n",
            "Epoch 42/50\n",
            "32/32 [==============================] - 2s 57ms/step - loss: 0.1389 - accuracy: 0.9461 - val_loss: 0.1889 - val_accuracy: 0.9387\n",
            "Epoch 43/50\n",
            "32/32 [==============================] - 2s 57ms/step - loss: 0.1168 - accuracy: 0.9521 - val_loss: 0.3090 - val_accuracy: 0.9141\n",
            "Epoch 44/50\n",
            "32/32 [==============================] - 2s 57ms/step - loss: 0.0980 - accuracy: 0.9721 - val_loss: 0.3636 - val_accuracy: 0.9080\n",
            "Epoch 45/50\n",
            "32/32 [==============================] - 2s 57ms/step - loss: 0.1206 - accuracy: 0.9561 - val_loss: 0.4064 - val_accuracy: 0.9091\n",
            "Epoch 46/50\n",
            "32/32 [==============================] - 2s 58ms/step - loss: 0.1031 - accuracy: 0.9661 - val_loss: 0.2166 - val_accuracy: 0.9375\n",
            "Epoch 47/50\n",
            "32/32 [==============================] - 2s 58ms/step - loss: 0.1001 - accuracy: 0.9668 - val_loss: 0.1520 - val_accuracy: 0.9509\n",
            "Epoch 48/50\n",
            "32/32 [==============================] - 2s 59ms/step - loss: 0.1307 - accuracy: 0.9641 - val_loss: 0.2859 - val_accuracy: 0.9080\n",
            "Epoch 49/50\n",
            "32/32 [==============================] - 2s 58ms/step - loss: 0.0986 - accuracy: 0.9641 - val_loss: 0.2663 - val_accuracy: 0.9202\n",
            "Epoch 50/50\n",
            "32/32 [==============================] - 2s 59ms/step - loss: 0.0849 - accuracy: 0.9741 - val_loss: 0.3731 - val_accuracy: 0.8834\n"
          ],
          "name": "stdout"
        }
      ]
    },
    {
      "cell_type": "code",
      "metadata": {
        "id": "2JmZr1HDMEfy",
        "colab_type": "code",
        "colab": {
          "base_uri": "https://localhost:8080/",
          "height": 515
        },
        "outputId": "2e139f2c-d71a-44ba-8ff2-e4ae93f7bdf8"
      },
      "source": [
        "import matplotlib.pyplot as plt\n",
        "\n",
        "\n",
        "epoch_count = range(1, len(history.history['loss']) + 1)\n",
        "\n",
        "plt.plot(epoch_count , history.history['loss'], 'p-')\n",
        "plt.plot(epoch_count , history.history['val_loss'], 'cyan')\n",
        "plt.legend(['Training Loss', 'Validation Loss'])\n",
        "plt.show();\n",
        "\n",
        "epoch_count = range(1, len(history.history['accuracy']) + 1)\n",
        "\n",
        "plt.plot(epoch_count , history.history['accuracy'], 'p-')\n",
        "plt.plot(epoch_count , history.history['val_accuracy'], 'cyan')\n",
        "plt.legend(['Training Acc', 'Validation Acc'])\n",
        "plt.show();\n",
        "# What did nick say was the cause of the noise/distortion? Selu?"
      ],
      "execution_count": 88,
      "outputs": [
        {
          "output_type": "display_data",
          "data": {
            "image/png": "[encoded data removed]",
            "text/plain": [
              "<Figure size 432x288 with 1 Axes>"
            ]
          },
          "metadata": {
            "tags": [],
            "needs_background": "light"
          }
        },
        {
          "output_type": "display_data",
          "data": {
            "image/png": "[encoded data removed]",
            "text/plain": [
              "<Figure size 432x288 with 1 Axes>"
            ]
          },
          "metadata": {
            "tags": [],
            "needs_background": "light"
          }
        }
      ]
    },
    {
      "cell_type": "markdown",
      "metadata": {
        "id": "9BqDLIgMIj3r",
        "colab_type": "text"
      },
      "source": [
        "# Custom CNN Model with Image Manipulations\n",
        "\n",
        "To simulate an increase in a sample of image, you can apply image manipulation techniques: cropping, rotation, stretching, etc. Luckily Keras has some handy functions for us to apply these techniques to our mountain and forest example. Simply, you should be able to modify our image generator for the problem. Check out these resources to help you get started: \n",
        "\n",
        "1. [Keras `ImageGenerator` Class](https://keras.io/preprocessing/image/#imagedatagenerator-class)\n",
        "2. [Building a powerful image classifier with very little data](https://blog.keras.io/building-powerful-image-classification-models-using-very-little-data.html)\n",
        " "
      ]
    },
    {
      "cell_type": "code",
      "metadata": {
        "id": "XMyJGktuNxf3",
        "colab_type": "code",
        "colab": {
          "base_uri": "https://localhost:8080/",
          "height": 34
        },
        "outputId": "dd8a588d-a2f8-4ac3-8659-08a90f34841f"
      },
      "source": [
        "# State Code for Image Manipulation Here\n",
        "from keras.preprocessing.image import ImageDataGenerator\n",
        "\n",
        "datagen = ImageDataGenerator(\n",
        "        rotation_range=40,\n",
        "        width_shift_range=0.2,\n",
        "        height_shift_range=0.2,\n",
        "        rescale=1./255,\n",
        "        shear_range=0.2,\n",
        "        zoom_range=0.2,\n",
        "        horizontal_flip=True,\n",
        "        fill_mode='nearest')"
      ],
      "execution_count": 90,
      "outputs": [
        {
          "output_type": "stream",
          "text": [
            "Using TensorFlow backend.\n"
          ],
          "name": "stderr"
        }
      ]
    },
    {
      "cell_type": "code",
      "metadata": {
        "id": "KmPNwTrRNsrh",
        "colab_type": "code",
        "colab": {
          "base_uri": "https://localhost:8080/",
          "height": 34
        },
        "outputId": "98317dee-a79f-417a-a25a-d4b492f2d0a7"
      },
      "source": [
        "train_data_gen = datagen.flow_from_directory(batch_size=batch_size,\n",
        "                                                           directory=train_dir,\n",
        "                                                           shuffle=True,\n",
        "                                                           target_size=(IMG_HEIGHT, IMG_WIDTH),\n",
        "                                                           class_mode='binary')"
      ],
      "execution_count": 91,
      "outputs": [
        {
          "output_type": "stream",
          "text": [
            "Found 533 images belonging to 2 classes.\n"
          ],
          "name": "stdout"
        }
      ]
    },
    {
      "cell_type": "code",
      "metadata": {
        "id": "c6661ULdNtOo",
        "colab_type": "code",
        "colab": {
          "base_uri": "https://localhost:8080/",
          "height": 34
        },
        "outputId": "b2591a9e-72dd-4ee9-fccd-a3eb7d369f82"
      },
      "source": [
        "val_data_gen = datagen.flow_from_directory(batch_size=batch_size,\n",
        "                                                              directory=validation_dir,\n",
        "                                                              target_size=(IMG_HEIGHT, IMG_WIDTH),\n",
        "                                                              class_mode='binary')"
      ],
      "execution_count": 92,
      "outputs": [
        {
          "output_type": "stream",
          "text": [
            "Found 195 images belonging to 2 classes.\n"
          ],
          "name": "stdout"
        }
      ]
    },
    {
      "cell_type": "code",
      "metadata": {
        "id": "bRt5ON37Wg3d",
        "colab_type": "code",
        "colab": {
          "base_uri": "https://localhost:8080/",
          "height": 34
        },
        "outputId": "3a30288c-ec6e-4fb4-f401-8140640778da"
      },
      "source": [
        "train_data_gen.image_shape"
      ],
      "execution_count": 93,
      "outputs": [
        {
          "output_type": "execute_result",
          "data": {
            "text/plain": [
              "(224, 224, 3)"
            ]
          },
          "metadata": {
            "tags": []
          },
          "execution_count": 93
        }
      ]
    },
    {
      "cell_type": "code",
      "metadata": {
        "id": "62hdtrQWWUfR",
        "colab_type": "code",
        "colab": {
          "base_uri": "https://localhost:8080/",
          "height": 459
        },
        "outputId": "36ae4a01-b0f8-4d71-e58e-0c64584b9f2d"
      },
      "source": [
        "\n",
        "model_3 = Sequential()\n",
        "model_3.add(Conv2D(32, (3,3), activation='relu', input_shape=(224,224,3)))\n",
        "model_3.add(MaxPooling2D((2,2)))\n",
        "model_3.add(Conv2D(64, (3,3), activation='relu'))\n",
        "model_3.add(MaxPooling2D((2,2)))\n",
        "model_3.add(Conv2D(64, (3,3), activation='relu'))\n",
        "\n",
        "model_3.add(GlobalAveragePooling2D())\n",
        "model_3.add(Dense(64, activation='relu'))\n",
        "model_3.add(Dropout(0.15))\n",
        "model_3.add(Dense(1, activation='sigmoid'))\n",
        "\n",
        "model_3.summary()"
      ],
      "execution_count": 94,
      "outputs": [
        {
          "output_type": "stream",
          "text": [
            "Model: \"sequential_20\"\n",
            "_________________________________________________________________\n",
            "Layer (type)                 Output Shape              Param #   \n",
            "=================================================================\n",
            "conv2d_57 (Conv2D)           (None, 222, 222, 32)      896       \n",
            "_________________________________________________________________\n",
            "max_pooling2d_38 (MaxPooling (None, 111, 111, 32)      0         \n",
            "_________________________________________________________________\n",
            "conv2d_58 (Conv2D)           (None, 109, 109, 64)      18496     \n",
            "_________________________________________________________________\n",
            "max_pooling2d_39 (MaxPooling (None, 54, 54, 64)        0         \n",
            "_________________________________________________________________\n",
            "conv2d_59 (Conv2D)           (None, 52, 52, 64)        36928     \n",
            "_________________________________________________________________\n",
            "global_average_pooling2d_18  (None, 64)                0         \n",
            "_________________________________________________________________\n",
            "dense_34 (Dense)             (None, 64)                4160      \n",
            "_________________________________________________________________\n",
            "dropout_13 (Dropout)         (None, 64)                0         \n",
            "_________________________________________________________________\n",
            "dense_35 (Dense)             (None, 1)                 65        \n",
            "=================================================================\n",
            "Total params: 60,545\n",
            "Trainable params: 60,545\n",
            "Non-trainable params: 0\n",
            "_________________________________________________________________\n"
          ],
          "name": "stdout"
        }
      ]
    },
    {
      "cell_type": "code",
      "metadata": {
        "id": "xb2nExGgWrii",
        "colab_type": "code",
        "colab": {}
      },
      "source": [
        "# Compile Model\n",
        "model_3.compile(optimizer='adam',\n",
        "              loss='binary_crossentropy',\n",
        "              metrics=['accuracy'])"
      ],
      "execution_count": 0,
      "outputs": []
    },
    {
      "cell_type": "code",
      "metadata": {
        "id": "4cpMdfrAWvtz",
        "colab_type": "code",
        "colab": {
          "base_uri": "https://localhost:8080/",
          "height": 1000
        },
        "outputId": "88504a61-13f8-4e35-81fc-009a24f4c70a"
      },
      "source": [
        "augmented = model_3.fit(\n",
        "    train_data_gen,\n",
        "    steps_per_epoch=total_train // batch_size,\n",
        "    epochs=epochs,\n",
        "    validation_data=val_data_gen,\n",
        "    validation_steps=total_val // batch_size\n",
        ")"
      ],
      "execution_count": 97,
      "outputs": [
        {
          "output_type": "stream",
          "text": [
            "Epoch 1/50\n",
            "32/32 [==============================] - 9s 282ms/step - loss: 0.5442 - accuracy: 0.6973 - val_loss: 0.3521 - val_accuracy: 0.8580\n",
            "Epoch 2/50\n",
            "32/32 [==============================] - 9s 269ms/step - loss: 0.3608 - accuracy: 0.8483 - val_loss: 0.5251 - val_accuracy: 0.7669\n",
            "Epoch 3/50\n",
            "32/32 [==============================] - 9s 267ms/step - loss: 0.2716 - accuracy: 0.9082 - val_loss: 0.2062 - val_accuracy: 0.8896\n",
            "Epoch 4/50\n",
            "32/32 [==============================] - 9s 266ms/step - loss: 0.3408 - accuracy: 0.8723 - val_loss: 0.2673 - val_accuracy: 0.9141\n",
            "Epoch 5/50\n",
            "32/32 [==============================] - 9s 266ms/step - loss: 0.2991 - accuracy: 0.8762 - val_loss: 0.3285 - val_accuracy: 0.8712\n",
            "Epoch 6/50\n",
            "32/32 [==============================] - 9s 267ms/step - loss: 0.2582 - accuracy: 0.9082 - val_loss: 0.1969 - val_accuracy: 0.9264\n",
            "Epoch 7/50\n",
            "32/32 [==============================] - 9s 267ms/step - loss: 0.2593 - accuracy: 0.9042 - val_loss: 0.2045 - val_accuracy: 0.8957\n",
            "Epoch 8/50\n",
            "32/32 [==============================] - 9s 267ms/step - loss: 0.2372 - accuracy: 0.9082 - val_loss: 0.2610 - val_accuracy: 0.9141\n",
            "Epoch 9/50\n",
            "32/32 [==============================] - 8s 264ms/step - loss: 0.2314 - accuracy: 0.9042 - val_loss: 0.2516 - val_accuracy: 0.8896\n",
            "Epoch 10/50\n",
            "32/32 [==============================] - 8s 265ms/step - loss: 0.2486 - accuracy: 0.8902 - val_loss: 0.3043 - val_accuracy: 0.8528\n",
            "Epoch 11/50\n",
            "32/32 [==============================] - 9s 266ms/step - loss: 0.2454 - accuracy: 0.9042 - val_loss: 0.2293 - val_accuracy: 0.9018\n",
            "Epoch 12/50\n",
            "32/32 [==============================] - 9s 266ms/step - loss: 0.2607 - accuracy: 0.8982 - val_loss: 0.2212 - val_accuracy: 0.8957\n",
            "Epoch 13/50\n",
            "32/32 [==============================] - 8s 263ms/step - loss: 0.2323 - accuracy: 0.9162 - val_loss: 0.2251 - val_accuracy: 0.9034\n",
            "Epoch 14/50\n",
            "32/32 [==============================] - 9s 277ms/step - loss: 0.2506 - accuracy: 0.8982 - val_loss: 0.1978 - val_accuracy: 0.9148\n",
            "Epoch 15/50\n",
            "32/32 [==============================] - 8s 265ms/step - loss: 0.1988 - accuracy: 0.9321 - val_loss: 0.2703 - val_accuracy: 0.8712\n",
            "Epoch 16/50\n",
            "32/32 [==============================] - 8s 264ms/step - loss: 0.2442 - accuracy: 0.9062 - val_loss: 0.3416 - val_accuracy: 0.8589\n",
            "Epoch 17/50\n",
            "32/32 [==============================] - 9s 268ms/step - loss: 0.2176 - accuracy: 0.9222 - val_loss: 0.2192 - val_accuracy: 0.9202\n",
            "Epoch 18/50\n",
            "32/32 [==============================] - 9s 269ms/step - loss: 0.1741 - accuracy: 0.9414 - val_loss: 0.3433 - val_accuracy: 0.8650\n",
            "Epoch 19/50\n",
            "32/32 [==============================] - 9s 266ms/step - loss: 0.2409 - accuracy: 0.9082 - val_loss: 0.3107 - val_accuracy: 0.8344\n",
            "Epoch 20/50\n",
            "32/32 [==============================] - 9s 266ms/step - loss: 0.2225 - accuracy: 0.9261 - val_loss: 0.2700 - val_accuracy: 0.9141\n",
            "Epoch 21/50\n",
            "32/32 [==============================] - 8s 264ms/step - loss: 0.3078 - accuracy: 0.8842 - val_loss: 0.2483 - val_accuracy: 0.8834\n",
            "Epoch 22/50\n",
            "32/32 [==============================] - 8s 263ms/step - loss: 0.2199 - accuracy: 0.9222 - val_loss: 0.1829 - val_accuracy: 0.9202\n",
            "Epoch 23/50\n",
            "32/32 [==============================] - 8s 266ms/step - loss: 0.2203 - accuracy: 0.9182 - val_loss: 0.3160 - val_accuracy: 0.8896\n",
            "Epoch 24/50\n",
            "32/32 [==============================] - 8s 265ms/step - loss: 0.2335 - accuracy: 0.9062 - val_loss: 0.2300 - val_accuracy: 0.8896\n",
            "Epoch 25/50\n",
            "32/32 [==============================] - 8s 264ms/step - loss: 0.2043 - accuracy: 0.9202 - val_loss: 0.2591 - val_accuracy: 0.8712\n",
            "Epoch 26/50\n",
            "32/32 [==============================] - 8s 265ms/step - loss: 0.1793 - accuracy: 0.9321 - val_loss: 0.2213 - val_accuracy: 0.9148\n",
            "Epoch 27/50\n",
            "32/32 [==============================] - 9s 269ms/step - loss: 0.1953 - accuracy: 0.9361 - val_loss: 0.1875 - val_accuracy: 0.9205\n",
            "Epoch 28/50\n",
            "32/32 [==============================] - 8s 264ms/step - loss: 0.2129 - accuracy: 0.9202 - val_loss: 0.2142 - val_accuracy: 0.9141\n",
            "Epoch 29/50\n",
            "32/32 [==============================] - 8s 265ms/step - loss: 0.2046 - accuracy: 0.9261 - val_loss: 0.2382 - val_accuracy: 0.9080\n",
            "Epoch 30/50\n",
            "32/32 [==============================] - 9s 266ms/step - loss: 0.1977 - accuracy: 0.9202 - val_loss: 0.2041 - val_accuracy: 0.9080\n",
            "Epoch 31/50\n",
            "32/32 [==============================] - 9s 268ms/step - loss: 0.1801 - accuracy: 0.9281 - val_loss: 0.2687 - val_accuracy: 0.8896\n",
            "Epoch 32/50\n",
            "32/32 [==============================] - 9s 269ms/step - loss: 0.2173 - accuracy: 0.9182 - val_loss: 0.2401 - val_accuracy: 0.8896\n",
            "Epoch 33/50\n",
            "32/32 [==============================] - 9s 268ms/step - loss: 0.2136 - accuracy: 0.9162 - val_loss: 0.3105 - val_accuracy: 0.8282\n",
            "Epoch 34/50\n",
            "32/32 [==============================] - 9s 267ms/step - loss: 0.1965 - accuracy: 0.9401 - val_loss: 0.1522 - val_accuracy: 0.9632\n",
            "Epoch 35/50\n",
            "32/32 [==============================] - 9s 267ms/step - loss: 0.1978 - accuracy: 0.9277 - val_loss: 0.2628 - val_accuracy: 0.8773\n",
            "Epoch 36/50\n",
            "32/32 [==============================] - 8s 264ms/step - loss: 0.1981 - accuracy: 0.9222 - val_loss: 0.2007 - val_accuracy: 0.9264\n",
            "Epoch 37/50\n",
            "32/32 [==============================] - 8s 264ms/step - loss: 0.2116 - accuracy: 0.9142 - val_loss: 0.3971 - val_accuracy: 0.8344\n",
            "Epoch 38/50\n",
            "32/32 [==============================] - 9s 267ms/step - loss: 0.1557 - accuracy: 0.9441 - val_loss: 0.2356 - val_accuracy: 0.9141\n",
            "Epoch 39/50\n",
            "32/32 [==============================] - 8s 259ms/step - loss: 0.2571 - accuracy: 0.8982 - val_loss: 0.2376 - val_accuracy: 0.9091\n",
            "Epoch 40/50\n",
            "32/32 [==============================] - 8s 264ms/step - loss: 0.2017 - accuracy: 0.9261 - val_loss: 0.2439 - val_accuracy: 0.9091\n",
            "Epoch 41/50\n",
            "32/32 [==============================] - 8s 259ms/step - loss: 0.2092 - accuracy: 0.9242 - val_loss: 0.1998 - val_accuracy: 0.8957\n",
            "Epoch 42/50\n",
            "32/32 [==============================] - 8s 259ms/step - loss: 0.2000 - accuracy: 0.9222 - val_loss: 0.2078 - val_accuracy: 0.9018\n",
            "Epoch 43/50\n",
            "32/32 [==============================] - 8s 259ms/step - loss: 0.1989 - accuracy: 0.9261 - val_loss: 0.3252 - val_accuracy: 0.8405\n",
            "Epoch 44/50\n",
            "32/32 [==============================] - 8s 256ms/step - loss: 0.2202 - accuracy: 0.9142 - val_loss: 0.2048 - val_accuracy: 0.9080\n",
            "Epoch 45/50\n",
            "32/32 [==============================] - 8s 260ms/step - loss: 0.1842 - accuracy: 0.9261 - val_loss: 0.2155 - val_accuracy: 0.8834\n",
            "Epoch 46/50\n",
            "32/32 [==============================] - 8s 258ms/step - loss: 0.1894 - accuracy: 0.9242 - val_loss: 0.2552 - val_accuracy: 0.9018\n",
            "Epoch 47/50\n",
            "32/32 [==============================] - 8s 256ms/step - loss: 0.1722 - accuracy: 0.9321 - val_loss: 0.2436 - val_accuracy: 0.8896\n",
            "Epoch 48/50\n",
            "32/32 [==============================] - 8s 254ms/step - loss: 0.2086 - accuracy: 0.9142 - val_loss: 0.1968 - val_accuracy: 0.9141\n",
            "Epoch 49/50\n",
            "32/32 [==============================] - 8s 254ms/step - loss: 0.1897 - accuracy: 0.9261 - val_loss: 0.3296 - val_accuracy: 0.8528\n",
            "Epoch 50/50\n",
            "32/32 [==============================] - 8s 254ms/step - loss: 0.2176 - accuracy: 0.9142 - val_loss: 0.2397 - val_accuracy: 0.8834\n"
          ],
          "name": "stdout"
        }
      ]
    },
    {
      "cell_type": "code",
      "metadata": {
        "id": "V-QNdj9kW2SK",
        "colab_type": "code",
        "colab": {
          "base_uri": "https://localhost:8080/",
          "height": 513
        },
        "outputId": "2e1cb19a-99f6-4c30-b21c-154c26b12e66"
      },
      "source": [
        "epoch_count = range(1, len(augmented.history['loss']) + 1)\n",
        "\n",
        "plt.plot(epoch_count , augmented.history['loss'], 'p-')\n",
        "plt.plot(epoch_count , augmented.history['val_loss'], 'cyan')\n",
        "plt.legend(['Training Loss', 'Validation Loss'])\n",
        "plt.show();\n",
        "\n",
        "epoch_count = range(1, len(augmented.history['accuracy']) + 1)\n",
        "\n",
        "plt.plot(epoch_count , augmented.history['accuracy'], 'p-')\n",
        "plt.plot(epoch_count , augmented.history['val_accuracy'], 'cyan')\n",
        "plt.legend(['Training Acc', 'Validation Acc'])\n",
        "plt.show();\n",
        "# Less noise, but overall i don't think better"
      ],
      "execution_count": 98,
      "outputs": [
        {
          "output_type": "display_data",
          "data": {
            "image/png": "[encoded data removed]",
            "text/plain": [
              "<Figure size 432x288 with 1 Axes>"
            ]
          },
          "metadata": {
            "tags": [],
            "needs_background": "light"
          }
        },
        {
          "output_type": "display_data",
          "data": {
            "image/png": "[encoded data removed]",
            "text/plain": [
              "<Figure size 432x288 with 1 Axes>"
            ]
          },
          "metadata": {
            "tags": [],
            "needs_background": "light"
          }
        }
      ]
    },
    {
      "cell_type": "markdown",
      "metadata": {
        "colab_type": "text",
        "id": "uT3UV3gap9H6"
      },
      "source": [
        "# Resources and Stretch Goals\n",
        "\n",
        "Stretch goals\n",
        "- Enhance your code to use classes/functions and accept terms to search and classes to look for in recognizing the downloaded images (e.g. download images of parties, recognize all that contain balloons)\n",
        "- Check out [other available pretrained networks](https://tfhub.dev), try some and compare\n",
        "- Image recognition/classification is somewhat solved, but *relationships* between entities and describing an image is not - check out some of the extended resources (e.g. [Visual Genome](https://visualgenome.org/)) on the topic\n",
        "- Transfer learning - using images you source yourself, [retrain a classifier](https://www.tensorflow.org/hub/tutorials/image_retraining) with a new category\n",
        "- (Not CNN related) Use [piexif](https://pypi.org/project/piexif/) to check out the metadata of images passed in to your system - see if they're from a national park! (Note - many images lack GPS metadata, so this won't work in most cases, but still cool)\n",
        "\n",
        "Resources\n",
        "- [Deep Residual Learning for Image Recognition](https://arxiv.org/abs/1512.03385) - influential paper (introduced ResNet)\n",
        "- [YOLO: Real-Time Object Detection](https://pjreddie.com/darknet/yolo/) - an influential convolution based object detection system, focused on inference speed (for applications to e.g. self driving vehicles)\n",
        "- [R-CNN, Fast R-CNN, Faster R-CNN, YOLO](https://towardsdatascience.com/r-cnn-fast-r-cnn-faster-r-cnn-yolo-object-detection-algorithms-36d53571365e) - comparison of object detection systems\n",
        "- [Common Objects in Context](http://cocodataset.org/) - a large-scale object detection, segmentation, and captioning dataset\n",
        "- [Visual Genome](https://visualgenome.org/) - a dataset, a knowledge base, an ongoing effort to connect structured image concepts to language"
      ]
    }
  ]
}