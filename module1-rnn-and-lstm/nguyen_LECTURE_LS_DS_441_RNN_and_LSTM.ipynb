{
  "nbformat": 4,
  "nbformat_minor": 0,
  "metadata": {
    "accelerator": "GPU",
    "colab": {
      "name": "nguyen_LECTURE_LS_DS_441_RNN_and_LSTM.ipynb",
      "provenance": [],
      "collapsed_sections": [],
      "include_colab_link": true
    },
    "kernelspec": {
      "display_name": "U4-S2-NNF-DS10",
      "language": "python",
      "name": "u4-s2-nnf-ds10"
    },
    "language_info": {
      "codemirror_mode": {
        "name": "ipython",
        "version": 3
      },
      "file_extension": ".py",
      "mimetype": "text/x-python",
      "name": "python",
      "nbconvert_exporter": "python",
      "pygments_lexer": "ipython3",
      "version": "3.7.6"
    }
  },
  "cells": [
    {
      "cell_type": "markdown",
      "metadata": {
        "id": "view-in-github",
        "colab_type": "text"
      },
      "source": [
        "<a href=\"https://colab.research.google.com/github/JonNData/DS-Unit-4-Sprint-3-Deep-Learning/blob/master/module1-rnn-and-lstm/nguyen_LECTURE_LS_DS_441_RNN_and_LSTM.ipynb\" target=\"_parent\"><img src=\"https://colab.research.google.com/assets/colab-badge.svg\" alt=\"Open In Colab\"/></a>"
      ]
    },
    {
      "cell_type": "markdown",
      "metadata": {
        "colab_type": "text",
        "id": "Ldr0HZ193GKb"
      },
      "source": [
        "Lambda School Data Science\n",
        "\n",
        "*Unit 4, Sprint 3, Module 1*\n",
        "\n",
        "---\n"
      ]
    },
    {
      "cell_type": "markdown",
      "metadata": {
        "id": "hgbbNUQUD_km",
        "colab_type": "text"
      },
      "source": [
        "# Recurrent Neural Networks (RNNs) and Long Short Term Memory (LSTM) (Prepare)\n",
        "\n",
        "<img src=\"https://media.giphy.com/media/l2JJu8U8SoHhQEnoQ/giphy.gif\" width=480 height=356>\n",
        "<br></br>\n",
        "<br></br>"
      ]
    },
    {
      "cell_type": "markdown",
      "metadata": {
        "id": "9lIYSXmbD_km",
        "colab_type": "text"
      },
      "source": [
        "## Learning Objectives\n",
        "- <a href=\"#p1\">Part 1: </a>Describe Neural Networks used for modeling sequences\n",
        "- <a href=\"#p2\">Part 2: </a>Apply a LSTM to a text generation problem using Keras"
      ]
    },
    {
      "cell_type": "markdown",
      "metadata": {
        "colab_type": "text",
        "id": "_IizNKWLomoA"
      },
      "source": [
        "## Overview\n",
        "\n",
        "> \"Yesterday's just a memory - tomorrow is never what it's supposed to be.\" -- Bob Dylan\n",
        "\n",
        "Wish you could save [Time In A Bottle](https://www.youtube.com/watch?v=AnWWj6xOleY)? With statistics you can do the next best thing - understand how data varies over time (or any sequential order), and use the order/time dimension predictively.\n",
        "\n",
        "A sequence is just any enumerated collection - order counts, and repetition is allowed. Python lists are a good elemental example - `[1, 2, 2, -1]` is a valid list, and is different from `[1, 2, -1, 2]`. The data structures we tend to use (e.g. NumPy arrays) are often built on this fundamental structure.\n",
        "\n",
        "A time series is data where you have not just the order but some actual continuous marker for where they lie \"in time\" - this could be a date, a timestamp, [Unix time](https://en.wikipedia.org/wiki/Unix_time), or something else. All time series are also sequences, and for some techniques you may just consider their order and not \"how far apart\" the entries are (if you have particularly consistent data collected at regular intervals it may not matter)."
      ]
    },
    {
      "cell_type": "markdown",
      "metadata": {
        "colab_type": "text",
        "id": "44QZgrPUe3-Y"
      },
      "source": [
        "# Neural Networks for Sequences (Learn)"
      ]
    },
    {
      "cell_type": "markdown",
      "metadata": {
        "colab_type": "text",
        "id": "0LJgetSkD_ko"
      },
      "source": [
        "## Overview\n",
        "\n",
        "There's plenty more to \"traditional\" time series, but the latest and greatest technique for sequence data is recurrent neural networks. A recurrence relation in math is an equation that uses recursion to define a sequence - a famous example is the Fibonacci numbers:\n",
        "\n",
        "$F_n = F_{n-1} + F_{n-2}$\n",
        "\n",
        "For formal math you also need a base case $F_0=1, F_1=1$, and then the rest builds from there. But for neural networks what we're really talking about are loops:\n",
        "\n",
        "![Recurrent neural network](https://upload.wikimedia.org/wikipedia/commons/b/b5/Recurrent_neural_network_unfold.svg)\n",
        "\n",
        "The hidden layers have edges (output) going back to their own input - this loop means that for any time `t` the training is at least partly based on the output from time `t-1`. The entire network is being represented on the left, and you can unfold the network explicitly to see how it behaves at any given `t`.\n",
        "\n",
        "Different units can have this \"loop\", but a particularly successful one is the long short-term memory unit (LSTM):\n",
        "\n",
        "![Long short-term memory unit](https://upload.wikimedia.org/wikipedia/commons/thumb/6/63/Long_Short-Term_Memory.svg/1024px-Long_Short-Term_Memory.svg.png)\n",
        "\n",
        "There's a lot going on here - in a nutshell, the calculus still works out and backpropagation can still be implemented. The advantage (ane namesake) of LSTM is that it can generally put more weight on recent (short-term) events while not completely losing older (long-term) information.\n",
        "\n",
        "After enough iterations, a typical neural network will start calculating prior gradients that are so small they effectively become zero - this is the [vanishing gradient problem](https://en.wikipedia.org/wiki/Vanishing_gradient_problem), and is what RNN with LSTM addresses. Pay special attention to the $c_t$ parameters and how they pass through the unit to get an intuition for how this problem is solved.\n",
        "\n",
        "So why are these cool? One particularly compelling application is actually not time series but language modeling - language is inherently ordered data (letters/words go one after another, and the order *matters*). [The Unreasonable Effectiveness of Recurrent Neural Networks](https://karpathy.github.io/2015/05/21/rnn-effectiveness/) is a famous and worth reading blog post on this topic.\n",
        "\n",
        "For our purposes, let's use TensorFlow and Keras to train RNNs with natural language. Resources:\n",
        "\n",
        "- https://github.com/keras-team/keras/blob/master/examples/imdb_lstm.py\n",
        "- https://keras.io/layers/recurrent/#lstm\n",
        "- http://adventuresinmachinelearning.com/keras-lstm-tutorial/\n",
        "\n",
        "Note that `tensorflow.contrib` [also has an implementation of RNN/LSTM](https://www.tensorflow.org/tutorials/sequences/recurrent)."
      ]
    },
    {
      "cell_type": "markdown",
      "metadata": {
        "colab_type": "text",
        "id": "eWrQllf8WEd-"
      },
      "source": [
        "## Follow Along\n",
        "\n",
        "Sequences come in many shapes and forms from stock prices to text. We'll focus on text, because modeling text as a sequence is a strength of Neural Networks. Let's start with a simple classification task using a TensorFlow tutorial. "
      ]
    },
    {
      "cell_type": "markdown",
      "metadata": {
        "colab_type": "text",
        "id": "4bnMyqLmD_kp"
      },
      "source": [
        "### RNN/LSTM Sentiment Classification with Keras"
      ]
    },
    {
      "cell_type": "code",
      "metadata": {
        "colab_type": "code",
        "id": "Ti23G0gRe3kr",
        "outputId": "ba89a0f9-9569-4019-ee31-e4b33b78c4f0",
        "colab": {
          "base_uri": "https://localhost:8080/",
          "height": 102
        }
      },
      "source": [
        "'''\n",
        "#Trains an LSTM model on the IMDB sentiment classification task.\n",
        "The dataset is actually too small for LSTM to be of any advantage\n",
        "compared to simpler, much faster methods such as TF-IDF + LogReg.\n",
        "**Notes**\n",
        "- RNNs are tricky. Choice of batch size is important,\n",
        "choice of loss and optimizer is critical, etc.\n",
        "Some configurations won't converge.\n",
        "- LSTM loss decrease patterns during training can be quite different\n",
        "from what you see with CNNs/MLPs/etc.\n",
        "'''\n",
        "from __future__ import print_function\n",
        "\n",
        "from tensorflow.keras.preprocessing import sequence\n",
        "from tensorflow.keras.models import Sequential\n",
        "from tensorflow.keras.layers import Dense, Embedding\n",
        "from tensorflow.keras.layers import LSTM\n",
        "from tensorflow.keras.datasets import imdb\n",
        "\n",
        "# (if in production setting) avg length of the review plus 1 stdev\n",
        "# limit 20k words per obs\n",
        "max_features = 20000\n",
        "# cut texts after this number of words (among top max_features most common words)\n",
        "# max number of words in article (to analyze uniformly)\n",
        "maxlen = 80\n",
        "batch_size = 32\n",
        "\n",
        "print('Loading data...')\n",
        "(x_train, y_train), (x_test, y_test) = imdb.load_data(num_words=max_features)\n",
        "print(len(x_train), 'train sequences')\n",
        "print(len(x_test), 'test sequences')"
      ],
      "execution_count": 1,
      "outputs": [
        {
          "output_type": "stream",
          "text": [
            "Loading data...\n",
            "Downloading data from https://storage.googleapis.com/tensorflow/tf-keras-datasets/imdb.npz\n",
            "17465344/17464789 [==============================] - 0s 0us/step\n",
            "25000 train sequences\n",
            "25000 test sequences\n"
          ],
          "name": "stdout"
        }
      ]
    },
    {
      "cell_type": "code",
      "metadata": {
        "id": "dTRXyJXbD_kt",
        "colab_type": "code",
        "outputId": "0d351539-6c62-4b5b-db75-b59476e35c98",
        "colab": {
          "base_uri": "https://localhost:8080/",
          "height": 1000
        }
      },
      "source": [
        "# equivalent to gensim id2word, word2vec\n",
        "x_train[0]"
      ],
      "execution_count": 2,
      "outputs": [
        {
          "output_type": "execute_result",
          "data": {
            "text/plain": [
              "[1,\n",
              " 14,\n",
              " 22,\n",
              " 16,\n",
              " 43,\n",
              " 530,\n",
              " 973,\n",
              " 1622,\n",
              " 1385,\n",
              " 65,\n",
              " 458,\n",
              " 4468,\n",
              " 66,\n",
              " 3941,\n",
              " 4,\n",
              " 173,\n",
              " 36,\n",
              " 256,\n",
              " 5,\n",
              " 25,\n",
              " 100,\n",
              " 43,\n",
              " 838,\n",
              " 112,\n",
              " 50,\n",
              " 670,\n",
              " 2,\n",
              " 9,\n",
              " 35,\n",
              " 480,\n",
              " 284,\n",
              " 5,\n",
              " 150,\n",
              " 4,\n",
              " 172,\n",
              " 112,\n",
              " 167,\n",
              " 2,\n",
              " 336,\n",
              " 385,\n",
              " 39,\n",
              " 4,\n",
              " 172,\n",
              " 4536,\n",
              " 1111,\n",
              " 17,\n",
              " 546,\n",
              " 38,\n",
              " 13,\n",
              " 447,\n",
              " 4,\n",
              " 192,\n",
              " 50,\n",
              " 16,\n",
              " 6,\n",
              " 147,\n",
              " 2025,\n",
              " 19,\n",
              " 14,\n",
              " 22,\n",
              " 4,\n",
              " 1920,\n",
              " 4613,\n",
              " 469,\n",
              " 4,\n",
              " 22,\n",
              " 71,\n",
              " 87,\n",
              " 12,\n",
              " 16,\n",
              " 43,\n",
              " 530,\n",
              " 38,\n",
              " 76,\n",
              " 15,\n",
              " 13,\n",
              " 1247,\n",
              " 4,\n",
              " 22,\n",
              " 17,\n",
              " 515,\n",
              " 17,\n",
              " 12,\n",
              " 16,\n",
              " 626,\n",
              " 18,\n",
              " 19193,\n",
              " 5,\n",
              " 62,\n",
              " 386,\n",
              " 12,\n",
              " 8,\n",
              " 316,\n",
              " 8,\n",
              " 106,\n",
              " 5,\n",
              " 4,\n",
              " 2223,\n",
              " 5244,\n",
              " 16,\n",
              " 480,\n",
              " 66,\n",
              " 3785,\n",
              " 33,\n",
              " 4,\n",
              " 130,\n",
              " 12,\n",
              " 16,\n",
              " 38,\n",
              " 619,\n",
              " 5,\n",
              " 25,\n",
              " 124,\n",
              " 51,\n",
              " 36,\n",
              " 135,\n",
              " 48,\n",
              " 25,\n",
              " 1415,\n",
              " 33,\n",
              " 6,\n",
              " 22,\n",
              " 12,\n",
              " 215,\n",
              " 28,\n",
              " 77,\n",
              " 52,\n",
              " 5,\n",
              " 14,\n",
              " 407,\n",
              " 16,\n",
              " 82,\n",
              " 10311,\n",
              " 8,\n",
              " 4,\n",
              " 107,\n",
              " 117,\n",
              " 5952,\n",
              " 15,\n",
              " 256,\n",
              " 4,\n",
              " 2,\n",
              " 7,\n",
              " 3766,\n",
              " 5,\n",
              " 723,\n",
              " 36,\n",
              " 71,\n",
              " 43,\n",
              " 530,\n",
              " 476,\n",
              " 26,\n",
              " 400,\n",
              " 317,\n",
              " 46,\n",
              " 7,\n",
              " 4,\n",
              " 12118,\n",
              " 1029,\n",
              " 13,\n",
              " 104,\n",
              " 88,\n",
              " 4,\n",
              " 381,\n",
              " 15,\n",
              " 297,\n",
              " 98,\n",
              " 32,\n",
              " 2071,\n",
              " 56,\n",
              " 26,\n",
              " 141,\n",
              " 6,\n",
              " 194,\n",
              " 7486,\n",
              " 18,\n",
              " 4,\n",
              " 226,\n",
              " 22,\n",
              " 21,\n",
              " 134,\n",
              " 476,\n",
              " 26,\n",
              " 480,\n",
              " 5,\n",
              " 144,\n",
              " 30,\n",
              " 5535,\n",
              " 18,\n",
              " 51,\n",
              " 36,\n",
              " 28,\n",
              " 224,\n",
              " 92,\n",
              " 25,\n",
              " 104,\n",
              " 4,\n",
              " 226,\n",
              " 65,\n",
              " 16,\n",
              " 38,\n",
              " 1334,\n",
              " 88,\n",
              " 12,\n",
              " 16,\n",
              " 283,\n",
              " 5,\n",
              " 16,\n",
              " 4472,\n",
              " 113,\n",
              " 103,\n",
              " 32,\n",
              " 15,\n",
              " 16,\n",
              " 5345,\n",
              " 19,\n",
              " 178,\n",
              " 32]"
            ]
          },
          "metadata": {
            "tags": []
          },
          "execution_count": 2
        }
      ]
    },
    {
      "cell_type": "code",
      "metadata": {
        "id": "5czSLjOyD_kw",
        "colab_type": "code",
        "outputId": "3cf15961-db06-4b63-fcc2-4f17abcb35ae",
        "colab": {
          "base_uri": "https://localhost:8080/",
          "height": 68
        }
      },
      "source": [
        "# Make all the same length using pad_sequences\n",
        "print('Pad Sequences (samples x time)')\n",
        "x_train = sequence.pad_sequences(x_train, maxlen=maxlen)\n",
        "x_test = sequence.pad_sequences(x_test, maxlen=maxlen)\n",
        "print('x_train shape: ', x_train.shape)\n",
        "print('x_test shape: ', x_test.shape)"
      ],
      "execution_count": 3,
      "outputs": [
        {
          "output_type": "stream",
          "text": [
            "Pad Sequences (samples x time)\n",
            "x_train shape:  (25000, 80)\n",
            "x_test shape:  (25000, 80)\n"
          ],
          "name": "stdout"
        }
      ]
    },
    {
      "cell_type": "code",
      "metadata": {
        "id": "WWwMxPm6D_kz",
        "colab_type": "code",
        "outputId": "b28bb84a-ef04-462b-8144-0f7fa672b0f7",
        "colab": {
          "base_uri": "https://localhost:8080/",
          "height": 187
        }
      },
      "source": [
        "x_train[0]"
      ],
      "execution_count": 4,
      "outputs": [
        {
          "output_type": "execute_result",
          "data": {
            "text/plain": [
              "array([   15,   256,     4,     2,     7,  3766,     5,   723,    36,\n",
              "          71,    43,   530,   476,    26,   400,   317,    46,     7,\n",
              "           4, 12118,  1029,    13,   104,    88,     4,   381,    15,\n",
              "         297,    98,    32,  2071,    56,    26,   141,     6,   194,\n",
              "        7486,    18,     4,   226,    22,    21,   134,   476,    26,\n",
              "         480,     5,   144,    30,  5535,    18,    51,    36,    28,\n",
              "         224,    92,    25,   104,     4,   226,    65,    16,    38,\n",
              "        1334,    88,    12,    16,   283,     5,    16,  4472,   113,\n",
              "         103,    32,    15,    16,  5345,    19,   178,    32],\n",
              "      dtype=int32)"
            ]
          },
          "metadata": {
            "tags": []
          },
          "execution_count": 4
        }
      ]
    },
    {
      "cell_type": "code",
      "metadata": {
        "id": "YvT-ICC4D_k1",
        "colab_type": "code",
        "outputId": "72d540e6-977e-4984-e23d-58098ced9a2a",
        "colab": {
          "base_uri": "https://localhost:8080/",
          "height": 272
        }
      },
      "source": [
        "model = Sequential()\n",
        "\n",
        "model.add(Embedding(max_features, 128))\n",
        "model.add(LSTM(128, dropout=0.2, recurrent_dropout=0.2))\n",
        "model.add(Dense(1, activation='sigmoid'))\n",
        "\n",
        "model.compile(loss='binary_crossentropy',\n",
        "              optimizer='adam', \n",
        "              metrics=['accuracy'])\n",
        "\n",
        "model.summary()"
      ],
      "execution_count": 5,
      "outputs": [
        {
          "output_type": "stream",
          "text": [
            "WARNING:tensorflow:Layer lstm will not use cuDNN kernel since it doesn't meet the cuDNN kernel criteria. It will use generic GPU kernel as fallback when running on GPU\n",
            "Model: \"sequential\"\n",
            "_________________________________________________________________\n",
            "Layer (type)                 Output Shape              Param #   \n",
            "=================================================================\n",
            "embedding (Embedding)        (None, None, 128)         2560000   \n",
            "_________________________________________________________________\n",
            "lstm (LSTM)                  (None, 128)               131584    \n",
            "_________________________________________________________________\n",
            "dense (Dense)                (None, 1)                 129       \n",
            "=================================================================\n",
            "Total params: 2,691,713\n",
            "Trainable params: 2,691,713\n",
            "Non-trainable params: 0\n",
            "_________________________________________________________________\n"
          ],
          "name": "stdout"
        }
      ]
    },
    {
      "cell_type": "code",
      "metadata": {
        "id": "zylDEtY9D_k4",
        "colab_type": "code",
        "outputId": "54e8cadc-f3e0-45d4-fac3-46a7e1c11b89",
        "colab": {
          "base_uri": "https://localhost:8080/",
          "height": 374
        }
      },
      "source": [
        "unicorns = model.fit(x_train, y_train,\n",
        "          batch_size=batch_size, \n",
        "          epochs=5, \n",
        "          validation_data=(x_test,y_test))\n"
      ],
      "execution_count": 6,
      "outputs": [
        {
          "output_type": "stream",
          "text": [
            "Epoch 1/5\n",
            "504/782 [==================>...........] - ETA: 2:14 - loss: 0.4628 - accuracy: 0.7771"
          ],
          "name": "stdout"
        },
        {
          "output_type": "error",
          "ename": "KeyboardInterrupt",
          "evalue": "ignored",
          "traceback": [
            "\u001b[0;31m---------------------------------------------------------------------------\u001b[0m",
            "\u001b[0;31mKeyboardInterrupt\u001b[0m                         Traceback (most recent call last)",
            "\u001b[0;32m<ipython-input-6-14af549fa2fe>\u001b[0m in \u001b[0;36m<module>\u001b[0;34m()\u001b[0m\n\u001b[1;32m      2\u001b[0m           \u001b[0mbatch_size\u001b[0m\u001b[0;34m=\u001b[0m\u001b[0mbatch_size\u001b[0m\u001b[0;34m,\u001b[0m\u001b[0;34m\u001b[0m\u001b[0;34m\u001b[0m\u001b[0m\n\u001b[1;32m      3\u001b[0m           \u001b[0mepochs\u001b[0m\u001b[0;34m=\u001b[0m\u001b[0;36m5\u001b[0m\u001b[0;34m,\u001b[0m\u001b[0;34m\u001b[0m\u001b[0;34m\u001b[0m\u001b[0m\n\u001b[0;32m----> 4\u001b[0;31m           validation_data=(x_test,y_test))\n\u001b[0m",
            "\u001b[0;32m/usr/local/lib/python3.6/dist-packages/tensorflow/python/keras/engine/training.py\u001b[0m in \u001b[0;36m_method_wrapper\u001b[0;34m(self, *args, **kwargs)\u001b[0m\n\u001b[1;32m     64\u001b[0m   \u001b[0;32mdef\u001b[0m \u001b[0m_method_wrapper\u001b[0m\u001b[0;34m(\u001b[0m\u001b[0mself\u001b[0m\u001b[0;34m,\u001b[0m \u001b[0;34m*\u001b[0m\u001b[0margs\u001b[0m\u001b[0;34m,\u001b[0m \u001b[0;34m**\u001b[0m\u001b[0mkwargs\u001b[0m\u001b[0;34m)\u001b[0m\u001b[0;34m:\u001b[0m\u001b[0;34m\u001b[0m\u001b[0;34m\u001b[0m\u001b[0m\n\u001b[1;32m     65\u001b[0m     \u001b[0;32mif\u001b[0m \u001b[0;32mnot\u001b[0m \u001b[0mself\u001b[0m\u001b[0;34m.\u001b[0m\u001b[0m_in_multi_worker_mode\u001b[0m\u001b[0;34m(\u001b[0m\u001b[0;34m)\u001b[0m\u001b[0;34m:\u001b[0m  \u001b[0;31m# pylint: disable=protected-access\u001b[0m\u001b[0;34m\u001b[0m\u001b[0;34m\u001b[0m\u001b[0m\n\u001b[0;32m---> 66\u001b[0;31m       \u001b[0;32mreturn\u001b[0m \u001b[0mmethod\u001b[0m\u001b[0;34m(\u001b[0m\u001b[0mself\u001b[0m\u001b[0;34m,\u001b[0m \u001b[0;34m*\u001b[0m\u001b[0margs\u001b[0m\u001b[0;34m,\u001b[0m \u001b[0;34m**\u001b[0m\u001b[0mkwargs\u001b[0m\u001b[0;34m)\u001b[0m\u001b[0;34m\u001b[0m\u001b[0;34m\u001b[0m\u001b[0m\n\u001b[0m\u001b[1;32m     67\u001b[0m \u001b[0;34m\u001b[0m\u001b[0m\n\u001b[1;32m     68\u001b[0m     \u001b[0;31m# Running inside `run_distribute_coordinator` already.\u001b[0m\u001b[0;34m\u001b[0m\u001b[0;34m\u001b[0m\u001b[0;34m\u001b[0m\u001b[0m\n",
            "\u001b[0;32m/usr/local/lib/python3.6/dist-packages/tensorflow/python/keras/engine/training.py\u001b[0m in \u001b[0;36mfit\u001b[0;34m(self, x, y, batch_size, epochs, verbose, callbacks, validation_split, validation_data, shuffle, class_weight, sample_weight, initial_epoch, steps_per_epoch, validation_steps, validation_batch_size, validation_freq, max_queue_size, workers, use_multiprocessing, **kwargs)\u001b[0m\n\u001b[1;32m    849\u001b[0m                 batch_size=batch_size):\n\u001b[1;32m    850\u001b[0m               \u001b[0mcallbacks\u001b[0m\u001b[0;34m.\u001b[0m\u001b[0mon_train_batch_begin\u001b[0m\u001b[0;34m(\u001b[0m\u001b[0mstep\u001b[0m\u001b[0;34m)\u001b[0m\u001b[0;34m\u001b[0m\u001b[0;34m\u001b[0m\u001b[0m\n\u001b[0;32m--> 851\u001b[0;31m               \u001b[0mtmp_logs\u001b[0m \u001b[0;34m=\u001b[0m \u001b[0mtrain_function\u001b[0m\u001b[0;34m(\u001b[0m\u001b[0miterator\u001b[0m\u001b[0;34m)\u001b[0m\u001b[0;34m\u001b[0m\u001b[0;34m\u001b[0m\u001b[0m\n\u001b[0m\u001b[1;32m    852\u001b[0m               \u001b[0;31m# Catch OutOfRangeError for Datasets of unknown size.\u001b[0m\u001b[0;34m\u001b[0m\u001b[0;34m\u001b[0m\u001b[0;34m\u001b[0m\u001b[0m\n\u001b[1;32m    853\u001b[0m               \u001b[0;31m# This blocks until the batch has finished executing.\u001b[0m\u001b[0;34m\u001b[0m\u001b[0;34m\u001b[0m\u001b[0;34m\u001b[0m\u001b[0m\n",
            "\u001b[0;32m/usr/local/lib/python3.6/dist-packages/tensorflow/python/eager/def_function.py\u001b[0m in \u001b[0;36m__call__\u001b[0;34m(self, *args, **kwds)\u001b[0m\n\u001b[1;32m    578\u001b[0m         \u001b[0mxla_context\u001b[0m\u001b[0;34m.\u001b[0m\u001b[0mExit\u001b[0m\u001b[0;34m(\u001b[0m\u001b[0;34m)\u001b[0m\u001b[0;34m\u001b[0m\u001b[0;34m\u001b[0m\u001b[0m\n\u001b[1;32m    579\u001b[0m     \u001b[0;32melse\u001b[0m\u001b[0;34m:\u001b[0m\u001b[0;34m\u001b[0m\u001b[0;34m\u001b[0m\u001b[0m\n\u001b[0;32m--> 580\u001b[0;31m       \u001b[0mresult\u001b[0m \u001b[0;34m=\u001b[0m \u001b[0mself\u001b[0m\u001b[0;34m.\u001b[0m\u001b[0m_call\u001b[0m\u001b[0;34m(\u001b[0m\u001b[0;34m*\u001b[0m\u001b[0margs\u001b[0m\u001b[0;34m,\u001b[0m \u001b[0;34m**\u001b[0m\u001b[0mkwds\u001b[0m\u001b[0;34m)\u001b[0m\u001b[0;34m\u001b[0m\u001b[0;34m\u001b[0m\u001b[0m\n\u001b[0m\u001b[1;32m    581\u001b[0m \u001b[0;34m\u001b[0m\u001b[0m\n\u001b[1;32m    582\u001b[0m     \u001b[0;32mif\u001b[0m \u001b[0mtracing_count\u001b[0m \u001b[0;34m==\u001b[0m \u001b[0mself\u001b[0m\u001b[0;34m.\u001b[0m\u001b[0m_get_tracing_count\u001b[0m\u001b[0;34m(\u001b[0m\u001b[0;34m)\u001b[0m\u001b[0;34m:\u001b[0m\u001b[0;34m\u001b[0m\u001b[0;34m\u001b[0m\u001b[0m\n",
            "\u001b[0;32m/usr/local/lib/python3.6/dist-packages/tensorflow/python/eager/def_function.py\u001b[0m in \u001b[0;36m_call\u001b[0;34m(self, *args, **kwds)\u001b[0m\n\u001b[1;32m    609\u001b[0m       \u001b[0;31m# In this case we have created variables on the first call, so we run the\u001b[0m\u001b[0;34m\u001b[0m\u001b[0;34m\u001b[0m\u001b[0;34m\u001b[0m\u001b[0m\n\u001b[1;32m    610\u001b[0m       \u001b[0;31m# defunned version which is guaranteed to never create variables.\u001b[0m\u001b[0;34m\u001b[0m\u001b[0;34m\u001b[0m\u001b[0;34m\u001b[0m\u001b[0m\n\u001b[0;32m--> 611\u001b[0;31m       \u001b[0;32mreturn\u001b[0m \u001b[0mself\u001b[0m\u001b[0;34m.\u001b[0m\u001b[0m_stateless_fn\u001b[0m\u001b[0;34m(\u001b[0m\u001b[0;34m*\u001b[0m\u001b[0margs\u001b[0m\u001b[0;34m,\u001b[0m \u001b[0;34m**\u001b[0m\u001b[0mkwds\u001b[0m\u001b[0;34m)\u001b[0m  \u001b[0;31m# pylint: disable=not-callable\u001b[0m\u001b[0;34m\u001b[0m\u001b[0;34m\u001b[0m\u001b[0m\n\u001b[0m\u001b[1;32m    612\u001b[0m     \u001b[0;32melif\u001b[0m \u001b[0mself\u001b[0m\u001b[0;34m.\u001b[0m\u001b[0m_stateful_fn\u001b[0m \u001b[0;32mis\u001b[0m \u001b[0;32mnot\u001b[0m \u001b[0;32mNone\u001b[0m\u001b[0;34m:\u001b[0m\u001b[0;34m\u001b[0m\u001b[0;34m\u001b[0m\u001b[0m\n\u001b[1;32m    613\u001b[0m       \u001b[0;31m# Release the lock early so that multiple threads can perform the call\u001b[0m\u001b[0;34m\u001b[0m\u001b[0;34m\u001b[0m\u001b[0;34m\u001b[0m\u001b[0m\n",
            "\u001b[0;32m/usr/local/lib/python3.6/dist-packages/tensorflow/python/eager/function.py\u001b[0m in \u001b[0;36m__call__\u001b[0;34m(self, *args, **kwargs)\u001b[0m\n\u001b[1;32m   2418\u001b[0m     \u001b[0;32mwith\u001b[0m \u001b[0mself\u001b[0m\u001b[0;34m.\u001b[0m\u001b[0m_lock\u001b[0m\u001b[0;34m:\u001b[0m\u001b[0;34m\u001b[0m\u001b[0;34m\u001b[0m\u001b[0m\n\u001b[1;32m   2419\u001b[0m       \u001b[0mgraph_function\u001b[0m\u001b[0;34m,\u001b[0m \u001b[0margs\u001b[0m\u001b[0;34m,\u001b[0m \u001b[0mkwargs\u001b[0m \u001b[0;34m=\u001b[0m \u001b[0mself\u001b[0m\u001b[0;34m.\u001b[0m\u001b[0m_maybe_define_function\u001b[0m\u001b[0;34m(\u001b[0m\u001b[0margs\u001b[0m\u001b[0;34m,\u001b[0m \u001b[0mkwargs\u001b[0m\u001b[0;34m)\u001b[0m\u001b[0;34m\u001b[0m\u001b[0;34m\u001b[0m\u001b[0m\n\u001b[0;32m-> 2420\u001b[0;31m     \u001b[0;32mreturn\u001b[0m \u001b[0mgraph_function\u001b[0m\u001b[0;34m.\u001b[0m\u001b[0m_filtered_call\u001b[0m\u001b[0;34m(\u001b[0m\u001b[0margs\u001b[0m\u001b[0;34m,\u001b[0m \u001b[0mkwargs\u001b[0m\u001b[0;34m)\u001b[0m  \u001b[0;31m# pylint: disable=protected-access\u001b[0m\u001b[0;34m\u001b[0m\u001b[0;34m\u001b[0m\u001b[0m\n\u001b[0m\u001b[1;32m   2421\u001b[0m \u001b[0;34m\u001b[0m\u001b[0m\n\u001b[1;32m   2422\u001b[0m   \u001b[0;34m@\u001b[0m\u001b[0mproperty\u001b[0m\u001b[0;34m\u001b[0m\u001b[0;34m\u001b[0m\u001b[0m\n",
            "\u001b[0;32m/usr/local/lib/python3.6/dist-packages/tensorflow/python/eager/function.py\u001b[0m in \u001b[0;36m_filtered_call\u001b[0;34m(self, args, kwargs)\u001b[0m\n\u001b[1;32m   1663\u001b[0m          if isinstance(t, (ops.Tensor,\n\u001b[1;32m   1664\u001b[0m                            resource_variable_ops.BaseResourceVariable))),\n\u001b[0;32m-> 1665\u001b[0;31m         self.captured_inputs)\n\u001b[0m\u001b[1;32m   1666\u001b[0m \u001b[0;34m\u001b[0m\u001b[0m\n\u001b[1;32m   1667\u001b[0m   \u001b[0;32mdef\u001b[0m \u001b[0m_call_flat\u001b[0m\u001b[0;34m(\u001b[0m\u001b[0mself\u001b[0m\u001b[0;34m,\u001b[0m \u001b[0margs\u001b[0m\u001b[0;34m,\u001b[0m \u001b[0mcaptured_inputs\u001b[0m\u001b[0;34m,\u001b[0m \u001b[0mcancellation_manager\u001b[0m\u001b[0;34m=\u001b[0m\u001b[0;32mNone\u001b[0m\u001b[0;34m)\u001b[0m\u001b[0;34m:\u001b[0m\u001b[0;34m\u001b[0m\u001b[0;34m\u001b[0m\u001b[0m\n",
            "\u001b[0;32m/usr/local/lib/python3.6/dist-packages/tensorflow/python/eager/function.py\u001b[0m in \u001b[0;36m_call_flat\u001b[0;34m(self, args, captured_inputs, cancellation_manager)\u001b[0m\n\u001b[1;32m   1744\u001b[0m       \u001b[0;31m# No tape is watching; skip to running the function.\u001b[0m\u001b[0;34m\u001b[0m\u001b[0;34m\u001b[0m\u001b[0;34m\u001b[0m\u001b[0m\n\u001b[1;32m   1745\u001b[0m       return self._build_call_outputs(self._inference_function.call(\n\u001b[0;32m-> 1746\u001b[0;31m           ctx, args, cancellation_manager=cancellation_manager))\n\u001b[0m\u001b[1;32m   1747\u001b[0m     forward_backward = self._select_forward_and_backward_functions(\n\u001b[1;32m   1748\u001b[0m         \u001b[0margs\u001b[0m\u001b[0;34m,\u001b[0m\u001b[0;34m\u001b[0m\u001b[0;34m\u001b[0m\u001b[0m\n",
            "\u001b[0;32m/usr/local/lib/python3.6/dist-packages/tensorflow/python/eager/function.py\u001b[0m in \u001b[0;36mcall\u001b[0;34m(self, ctx, args, cancellation_manager)\u001b[0m\n\u001b[1;32m    596\u001b[0m               \u001b[0minputs\u001b[0m\u001b[0;34m=\u001b[0m\u001b[0margs\u001b[0m\u001b[0;34m,\u001b[0m\u001b[0;34m\u001b[0m\u001b[0;34m\u001b[0m\u001b[0m\n\u001b[1;32m    597\u001b[0m               \u001b[0mattrs\u001b[0m\u001b[0;34m=\u001b[0m\u001b[0mattrs\u001b[0m\u001b[0;34m,\u001b[0m\u001b[0;34m\u001b[0m\u001b[0;34m\u001b[0m\u001b[0m\n\u001b[0;32m--> 598\u001b[0;31m               ctx=ctx)\n\u001b[0m\u001b[1;32m    599\u001b[0m         \u001b[0;32melse\u001b[0m\u001b[0;34m:\u001b[0m\u001b[0;34m\u001b[0m\u001b[0;34m\u001b[0m\u001b[0m\n\u001b[1;32m    600\u001b[0m           outputs = execute.execute_with_cancellation(\n",
            "\u001b[0;32m/usr/local/lib/python3.6/dist-packages/tensorflow/python/eager/execute.py\u001b[0m in \u001b[0;36mquick_execute\u001b[0;34m(op_name, num_outputs, inputs, attrs, ctx, name)\u001b[0m\n\u001b[1;32m     58\u001b[0m     \u001b[0mctx\u001b[0m\u001b[0;34m.\u001b[0m\u001b[0mensure_initialized\u001b[0m\u001b[0;34m(\u001b[0m\u001b[0;34m)\u001b[0m\u001b[0;34m\u001b[0m\u001b[0;34m\u001b[0m\u001b[0m\n\u001b[1;32m     59\u001b[0m     tensors = pywrap_tfe.TFE_Py_Execute(ctx._handle, device_name, op_name,\n\u001b[0;32m---> 60\u001b[0;31m                                         inputs, attrs, num_outputs)\n\u001b[0m\u001b[1;32m     61\u001b[0m   \u001b[0;32mexcept\u001b[0m \u001b[0mcore\u001b[0m\u001b[0;34m.\u001b[0m\u001b[0m_NotOkStatusException\u001b[0m \u001b[0;32mas\u001b[0m \u001b[0me\u001b[0m\u001b[0;34m:\u001b[0m\u001b[0;34m\u001b[0m\u001b[0;34m\u001b[0m\u001b[0m\n\u001b[1;32m     62\u001b[0m     \u001b[0;32mif\u001b[0m \u001b[0mname\u001b[0m \u001b[0;32mis\u001b[0m \u001b[0;32mnot\u001b[0m \u001b[0;32mNone\u001b[0m\u001b[0;34m:\u001b[0m\u001b[0;34m\u001b[0m\u001b[0;34m\u001b[0m\u001b[0m\n",
            "\u001b[0;31mKeyboardInterrupt\u001b[0m: "
          ]
        }
      ]
    },
    {
      "cell_type": "code",
      "metadata": {
        "id": "_HqG0h7dD_k7",
        "colab_type": "code",
        "outputId": "9b8c0cfe-2989-4e4a-e576-4c1bf18a4c95",
        "colab": {}
      },
      "source": [
        "import matplotlib.pyplot as plt\n",
        "\n",
        "# Plot training & validation loss values\n",
        "plt.plot(unicorns.history['loss'])\n",
        "plt.plot(unicorns.history['val_loss'])\n",
        "plt.title('Model loss')\n",
        "plt.ylabel('Loss')\n",
        "plt.xlabel('Epoch')\n",
        "plt.legend(['Train', 'Test'], loc='upper left')\n",
        "plt.show();"
      ],
      "execution_count": 0,
      "outputs": [
        {
          "output_type": "error",
          "ename": "TypeError",
          "evalue": "'History' object is not subscriptable",
          "traceback": [
            "\u001b[0;31m---------------------------------------------------------------------------\u001b[0m",
            "\u001b[0;31mTypeError\u001b[0m                                 Traceback (most recent call last)",
            "\u001b[0;32m<ipython-input-14-916e4f82f497>\u001b[0m in \u001b[0;36m<module>\u001b[0;34m\u001b[0m\n\u001b[1;32m      2\u001b[0m \u001b[0;34m\u001b[0m\u001b[0m\n\u001b[1;32m      3\u001b[0m \u001b[0;31m# Plot training & validation loss values\u001b[0m\u001b[0;34m\u001b[0m\u001b[0;34m\u001b[0m\u001b[0;34m\u001b[0m\u001b[0m\n\u001b[0;32m----> 4\u001b[0;31m \u001b[0mplt\u001b[0m\u001b[0;34m.\u001b[0m\u001b[0mplot\u001b[0m\u001b[0;34m(\u001b[0m\u001b[0mmodel\u001b[0m\u001b[0;34m.\u001b[0m\u001b[0mhistory\u001b[0m\u001b[0;34m[\u001b[0m\u001b[0;34m'loss'\u001b[0m\u001b[0;34m]\u001b[0m\u001b[0;34m)\u001b[0m\u001b[0;34m\u001b[0m\u001b[0;34m\u001b[0m\u001b[0m\n\u001b[0m\u001b[1;32m      5\u001b[0m \u001b[0mplt\u001b[0m\u001b[0;34m.\u001b[0m\u001b[0mplot\u001b[0m\u001b[0;34m(\u001b[0m\u001b[0mmodel\u001b[0m\u001b[0;34m.\u001b[0m\u001b[0mhistory\u001b[0m\u001b[0;34m[\u001b[0m\u001b[0;34m'val_loss'\u001b[0m\u001b[0;34m]\u001b[0m\u001b[0;34m)\u001b[0m\u001b[0;34m\u001b[0m\u001b[0;34m\u001b[0m\u001b[0m\n\u001b[1;32m      6\u001b[0m \u001b[0mplt\u001b[0m\u001b[0;34m.\u001b[0m\u001b[0mtitle\u001b[0m\u001b[0;34m(\u001b[0m\u001b[0;34m'Model loss'\u001b[0m\u001b[0;34m)\u001b[0m\u001b[0;34m\u001b[0m\u001b[0;34m\u001b[0m\u001b[0m\n",
            "\u001b[0;31mTypeError\u001b[0m: 'History' object is not subscriptable"
          ]
        }
      ]
    },
    {
      "cell_type": "markdown",
      "metadata": {
        "id": "ervdsXknD_k9",
        "colab_type": "text"
      },
      "source": [
        "## Challenge\n",
        "\n",
        "You will be expected to use an Keras LSTM for a classicification task on the *Sprint Challenge*. "
      ]
    },
    {
      "cell_type": "markdown",
      "metadata": {
        "colab_type": "text",
        "id": "7pETWPIe362y"
      },
      "source": [
        "# LSTM Text generation with Keras (Learn)"
      ]
    },
    {
      "cell_type": "markdown",
      "metadata": {
        "colab_type": "text",
        "id": "fiRVhm0HD_k-"
      },
      "source": [
        "## Overview\n",
        "\n",
        "What else can we do with LSTMs? Since we're analyzing the *sequence*, we can do more than classify - we can *generate* text. I'ved pulled some news stories using [newspaper](https://github.com/codelucas/newspaper/).\n",
        "\n",
        "This example is drawn from the Keras [documentation](https://keras.io/examples/lstm_text_generation/)."
      ]
    },
    {
      "cell_type": "code",
      "metadata": {
        "id": "cGeUeOVyD_k-",
        "colab_type": "code",
        "colab": {}
      },
      "source": [
        "from tensorflow.keras.callbacks import LambdaCallback, EarlyStopping\n",
        "from tensorflow.keras.models import Sequential\n",
        "from tensorflow.keras.layers import Dense, LSTM\n",
        "from tensorflow.keras.optimizers import RMSprop\n",
        "\n",
        "import numpy as np\n",
        "import random\n",
        "import sys\n",
        "import os\n",
        "\n",
        "import pandas as pd"
      ],
      "execution_count": 0,
      "outputs": []
    },
    {
      "cell_type": "code",
      "metadata": {
        "id": "5nwmOUD8m-lx",
        "colab_type": "code",
        "colab": {
          "base_uri": "https://localhost:8080/",
          "height": 221
        },
        "outputId": "07392fc2-e980-4238-cc7f-47ee76846c3e"
      },
      "source": [
        "data = pd.read_json('https://github.com/LambdaSchool/DS-Unit-4-Sprint-3-Deep-Learning/raw/master/module1-rnn-and-lstm/wp_articles.json')\n",
        "print(data.shape)\n",
        "data.head()"
      ],
      "execution_count": 10,
      "outputs": [
        {
          "output_type": "stream",
          "text": [
            "(136, 1)\n"
          ],
          "name": "stdout"
        },
        {
          "output_type": "execute_result",
          "data": {
            "text/html": [
              "<div>\n",
              "<style scoped>\n",
              "    .dataframe tbody tr th:only-of-type {\n",
              "        vertical-align: middle;\n",
              "    }\n",
              "\n",
              "    .dataframe tbody tr th {\n",
              "        vertical-align: top;\n",
              "    }\n",
              "\n",
              "    .dataframe thead th {\n",
              "        text-align: right;\n",
              "    }\n",
              "</style>\n",
              "<table border=\"1\" class=\"dataframe\">\n",
              "  <thead>\n",
              "    <tr style=\"text-align: right;\">\n",
              "      <th></th>\n",
              "      <th>article</th>\n",
              "    </tr>\n",
              "  </thead>\n",
              "  <tbody>\n",
              "    <tr>\n",
              "      <th>0</th>\n",
              "      <td>Contributing columnist\\n\\nThe House is on fire...</td>\n",
              "    </tr>\n",
              "    <tr>\n",
              "      <th>1</th>\n",
              "      <td>When President Trump announced his decision to...</td>\n",
              "    </tr>\n",
              "    <tr>\n",
              "      <th>10</th>\n",
              "      <td>Russian President Vladimir Putin speaks at a s...</td>\n",
              "    </tr>\n",
              "    <tr>\n",
              "      <th>100</th>\n",
              "      <td>“The Queen’s Speech” is designed to acknowledg...</td>\n",
              "    </tr>\n",
              "    <tr>\n",
              "      <th>101</th>\n",
              "      <td>Like an aging rock star, the president is now ...</td>\n",
              "    </tr>\n",
              "  </tbody>\n",
              "</table>\n",
              "</div>"
            ],
            "text/plain": [
              "                                               article\n",
              "0    Contributing columnist\\n\\nThe House is on fire...\n",
              "1    When President Trump announced his decision to...\n",
              "10   Russian President Vladimir Putin speaks at a s...\n",
              "100  “The Queen’s Speech” is designed to acknowledg...\n",
              "101  Like an aging rock star, the president is now ..."
            ]
          },
          "metadata": {
            "tags": []
          },
          "execution_count": 10
        }
      ]
    },
    {
      "cell_type": "code",
      "metadata": {
        "id": "fePlXegzD_lB",
        "colab_type": "code",
        "colab": {}
      },
      "source": [
        "#data_files = os.listdir('./articles')"
      ],
      "execution_count": 0,
      "outputs": []
    },
    {
      "cell_type": "code",
      "metadata": {
        "id": "HV2-wTSHD_lE",
        "colab_type": "code",
        "colab": {}
      },
      "source": [
        "# Read in Data\n",
        "\n",
        "# data = []\n",
        "\n",
        "# for file in data_files:\n",
        "#     if file[-3:] == 'txt':\n",
        "#         with open(f'./articles/{file}', 'r', encoding='utf-8') as f:\n",
        "#             data.append(f.read())"
      ],
      "execution_count": 0,
      "outputs": []
    },
    {
      "cell_type": "code",
      "metadata": {
        "id": "CuGZEqi2nf2V",
        "colab_type": "code",
        "colab": {}
      },
      "source": [
        "data = data['article'].tolist()"
      ],
      "execution_count": 0,
      "outputs": []
    },
    {
      "cell_type": "code",
      "metadata": {
        "id": "xgrgKpQ_n0Cg",
        "colab_type": "code",
        "colab": {
          "base_uri": "https://localhost:8080/",
          "height": 122
        },
        "outputId": "66b383f8-5f1f-4057-9cd1-77b58e29c859"
      },
      "source": [
        "data[:5]"
      ],
      "execution_count": 13,
      "outputs": [
        {
          "output_type": "execute_result",
          "data": {
            "text/plain": [
              "[\"Contributing columnist\\n\\nThe House is on fire. And with each passing day, Donald Trump defiles the office of the president. If only past defrocked presidents could provide a roadmap for this firestorm.\\n\\nAndrew Johnson fought impeachment vigorously and survived removal, but never won reelection. Richard Nixon got in the way of justice, but eventually bowed to the rule of law, accepting his asterisk in the annals of history and resigning before certain removal. Bill Clinton expressed contrition, went on to complete his presidency with high approval ratings and has remained a popular former president.\\n\\nIf you care about democracy, the rule of law and nearly 250 years of constitutional governance, take heed. President Trump is no Clinton or Nixon, or even Johnson. He will not go quietly. It will be ugly. He will betray us and the rule of law in the process — defying subpoenas, withholding documents, blocking witnesses.\\n\\nThis presidency is fouled with disrespect for rules, boundaries and norms. Trump walked away from major agreements negotiated by his predecessors — the Iran nuclear deal, the Paris climate accord — and the United States’ word as bond is no more. Look at the ease with which he discards supporters — ask former attorney general Jeff Sessions or former secretary of state Rex Tillerson. Ask our allies, here today, gone tomorrow — NATO, the Kurds in Syria.\\n\\nFrom his earliest days as a candidate, Trump voiced appallingly arrogant views about the power of the presidency: “Mexico will pay for the wall!” ; “I alone can fix it”; “My primary consultant is myself.” His possessiveness over people and institutions is also not new: “my generals and my military,” “my African American.”\\n\\nOnly months into his presidency, Trump disparaged democratic allies, including Germany’s Angela Merkel (“ruining Germany”) and Britain’s Theresa May (“foolish”) — notably, both women — in favor of strong-arm leaders such as North Korea’s Kim Jong Un (who wrote him “beautiful letters”), Saudi Arabia’s Mohammed bin Salman (“very good ally”), Turkey’s Recep Tayyip Erdogan (“great friendship”) and the Philippines’ Rodrigo Duterte (“great relationship”). Trump heaps praise on Russia’s Vladimir Putin (“he’s a strong leader”). And, days after revealing his words pressuring Ukrainian President Volodymyr Zelensky to dig up dirt on his opponent, he invited China to do it, too.\\n\\nTrump’s campaign for the White House was rotten from the beginning. We glimpsed its depths when his lawyer Michael Cohen pleaded guilty to campaign finance felonies and identified Trump as “Individual 1” in a conspiracy to pay off an adult-film star and a former Playboy model to silence them during the height of the 2016 presidential campaign. We got even more evidence of Trump’s deception in the dense report prepared by special counsel Robert S. Mueller III on Russia’s interference in the 2016 election to benefit Trump and try to defeat Hillary Clinton. Mueller laid the groundwork for at least 10 acts of obstruction of justice.\\n\\nEven with all of that, it’s this still-unraveling Ukraine story that makes clear the bits and pieces that we could only imagine with Trump’s pleas to “Russia, if you’re listening . . . .” We have the same threats, lies, subterfuge and obstruction — only this time, we have the president’s unambiguous words to Zelensky: “I would like you to do us a favor though.” Ukraine represents the same lawlessness that propelled Trump over the finish line in 2016: this time in plain sight, with witnesses, including at least one whistleblower and lots of bit players. From the State Department to the Energy Department to the Justice Department and throughout the White House, Trump is using every bit of the machinery of government and personnel at his disposal to strongarm a small country under the heel of its threatening Russian neighbor — all to get manufactured dirt on a political opponent.\\n\\nIt’s illegal. The evidence is bearing fruit. The time will come. And justice will be served.\\n\\nThe president’s personal approval rating remains low, though stable, but there is growing support for impeachment — a Fox News poll this week found that 51 percent support removing Trump from office. Independents, as well as Democrats, mostly support the impeachment inquiry, while Republicans are mostly holding tight. These things may or may not change.\\n\\nEither way, we will be changed if we do not right this ship of democracy.\\n\\n“Impeachment is not about punishment. Impeachment is about cleansing the office. Impeachment is about restoring honor and integrity to the office.” We should heed these words, spoken by the 1999 version of Sen. Lindsey O. Graham (R-S.C.). The fire did not start with Ukraine. Nonetheless, Ukraine may give us the water to finally put it out.\\n\\nRead more from Donna F. Edwards's archive.\",\n",
              " 'When President Trump announced his decision to pull troops from northern Syria, his critics immediately warned that the move would pave the way for a Turkish offensive with potentially catastrophic repercussions.\\n\\nState Department officials swiftly denied that Trump supported the Turkish incursion. Meanwhile, Trump appeared convinced that he had made the right choice.\\n\\n“Turkey, Europe, Syria, Iran, Iraq, Russia and the Kurds will now have to figure the situation out,” Trump wrote.\\n\\nThey now indeed are, but not to the advantage of the United States.\\n\\n“What’s clear is that the U.S. has shot itself into the foot,” said Ali Fathollah-Nejad, a visiting fellow at the Brookings Doha Center.\\n\\nWho are likely winners?\\n\\nThe U.S. pullout has enabled Turkey to pursue its military incursion without having to fear U.S. interference, but it has also created opportunities for four of the United States’ key foes: Iran, the Assad regime, Russia and — potentially — the Islamic State group.\\n\\nWho is set to lose most?\\n\\nThe biggest losers — it appears at this stage — are the allies who fought alongside U.S. soldiers in Syria: Europe and the Kurdish-led Syrian Democratic Forces (SDF).\\n\\nThe former are afraid that the move will free Islamic State prisoners held in Kurdish prisons and camps and expose Europe to new militant attacks after a period of relative calm. The latter had established a de facto state in the north of Syria over the last years — in large parts in places previously ruled by the Islamic State. The Kurds hoped that their territory was somewhat protected by a U.S. military presence that acted as a deterrent.\\n\\nHow did we get to this point?\\n\\nTurkish President Recep Tayyip Erdogan has long viewed the Kurdish-held territory in Syria as a safe haven for the Kurdistan Workers’ Party, or PKK — whom Erdogan considers to be a terrorist group.\\n\\nMeanwhile, to the south of the Kurdish-held territories, Russia and Iran-backed Syrian President Bashar al-Assad has been waiting for an opportunity to seize back the cities and swaths of land he lost during the war.\\n\\nTrump’s announcement of a pullout one week ago offered an opening for both Erdogan and Assad. On Wednesday, Turkish troops began their offensive at multiple points along the Turkish-Syrian border. Turkish artillery fire on the Kurds, a mass exodus of civilians and apparent footage of roadside executions of Kurdish fighters soon followed. Hundreds of Islamic State family members escaped detention, according to Kurdish officials.\\n\\nWithout U.S. backing and amid mounting chaos, the Kurds appeared to face the choice between a deadly confrontation with the militarily superior Turkish forces — or a deal with the Assad regime.\\n\\nBy Sunday, the SDF had opted for the second option: They announced a deal with the Syrian government to allow forces loyal to the regime to enter its territory. By Monday, Syrian government troops were raising flags in the towns close to the Turkish-Syrian border in a move that could make the presence of the remaining U.S. troops in the region unsustainable.\\n\\nHow do the Assad regime, Russia and Iran benefit?\\n\\nWith the United States voluntarily giving up much of its leverage in Syria, Russia has likely the most to gain. Throughout the Syrian civil war, Russia has staunchly supported the Assad regime. Over the weekend, the New York Times revealed that the Russian Air Force deliberately and repeatedly bombed Syrian hospitals in rebel-held areas, indicating how far Russia is willing to go to support Assad.\\n\\nBut apart from military force, Russian President Vladimir Putin has also pushed ahead with diplomatic initiatives, positioning him at the center of the Syrian morass. The U.S. pullout expands the Russian leverage in at least two ways.\\n\\nFirstly, the strengthening of the Assad regime would inevitably also bolster Russia, a key backer.\\n\\nBut ironically, it could also help to deepen Moscow’s ties to the country Assad’s forces may now face off in northern Syria: Turkey. With the United States potentially poised to impose sanctions on Turkey, as Trump indicated Monday, Russia’s rapprochement with Turkey could speed up — despite the countries’ differing interests in Syria.\\n\\nFrom Russia’s perspective, this apparent contradiction may not seem so contradictory at all. In the past, Moscow has argued that SDF fighters should yield control to the Assad regime. The Turkish incursion and U.S. pullout may lead to exactly such a scenario, as Sunday’s deal between the SDF and the Assad regime appeared to suggest.\\n\\nThe developments of the last week may also be an opportunity for Iran, another backer of the Assad regime. The U.S. pullout, said Brookings researcher Fathollah-Nejad, “will expand Iran’s opportunities to engage with Kurds and portray itself as the only reliable partner.” This could help Tehran restrict the Kurds’ drive for empowerment, which Iran opposes.\\n\\nBut Fathollah-Nejad cautioned that Russia’s and Iran’s interests in Syria were not necessarily aligned and that the Turkish incursion may still end up becoming a “double-edged sword” for Iran, which explains why Iranian officials have officially condemned the Turkish offensive.\\n\\nIranian officials may fear a radicalization of Kurdish separatism, said Fathollah-Nejad, and a full-blown resurgence of the Islamic State.\\n\\nHow does Islamic State gain?\\n\\nAmid the backlash against his decision to pull U.S. troops out of northern Syria, Trump went on the offensive last week and blamed European countries for what he suggested was a lack of willingness to take back Islamic State fighters born in Europe and held by the Syrian Kurds.\\n\\n“Europe had a chance to get their ISIS prisoners, but didn’t want the cost,” Trump reiterated on Monday.\\n\\nEuropean officials have rejected Trump’s criticism, arguing that Islamic State returnees would in many cases walk free in Europe, as authorities often lack evidence for crimes committed in Syria or Iraq. Despite fierce criticism from human rights advocates, major European governments have opted to leave Islamic State fighters in Kurdish detention.\\n\\nThe U.S. pullout has now resulted in an outcome detrimental both to U.S. counterterrorism officials and their European counterparts. Some 785 people affiliated with the Islamic State escaped from a camp on Sunday, according to Kurdish officials.\\n\\nApart from the escape of former Islamic State fighters or supporters, European officials worry that the chaos of renewed widespread military conflict in that part of Syria could provide the Islamic State group with an opening to conduct new attacks and rebuild its organization.\\n\\nRead more:\\n\\nSyrian troops enter towns in northeast as Erdogan warns of wider offensive\\n\\nAs Trump withdraws U.S. forces from northern Syria, his administration scrambles to respond\\n\\nUnswayed by top advisers, Trump doubles down on decision to withdraw troops',\n",
              " 'Russian President Vladimir Putin speaks at a summit in Turkmenistan on Friday. (Alexei Druzhinin/Sputnik/Kremlin Pool/AP)\\n\\nWith Mariana Alfaro\\n\\nTHE BIG IDEA: Vladimir Putin has won so much these past three years that he may get tired of winning.\\n\\nThe U.S. intelligence community’s January 2017 report on Russian interference in the previous year’s presidential campaign sought to explain why Donald Trump was so attractive to Moscow. This sentence has fresh salience: “Pro-Kremlin proxy Vladimir Zhirinovskiy, leader of the nationalist Liberal Democratic Party of Russia, proclaimed just before the election that if [Trump] won, Russia would ‘drink champagne’ in anticipation of being able to advance its positions on Syria and Ukraine.”\\n\\nComing on the heels of Trump holding up assistance for Ukraine as his administration urged its new president to investigate a Democratic challenger, Trump’s order on Saturday to withdraw U.S. troops from northern Syria has given the Russians a new reason to reach for the bubbly.\\n\\nThe American retreat forced our Kurdish allies, outmanned and outgunned by the invading Turks, to turn toward the Kremlin and seek help from Bashar al-Assad’s regime in Damascus that they had spent years fighting to break away from. Syrian government forces, propped up by the Russian military, have long been held in abeyance by the U.S. presence. Now they’re filling the vacuum. Kurdish leaders announced late Sunday that they have invited these troops into towns that have been under their control for years.\\n\\n“The announcement by the Syrian Democratic Forces (SDF) that they had reached an agreement with the Iranian- and Russian-backed government of [Assad] further undermined the prospect of any continued U.S. presence in the country,” Liz Sly, Louisa Loveluck, Asser Khattab and Sarah Dadouch report. “The deal followed three days of negotiations brokered by Russia between the Syrian government and the SDF, which had reached the conclusion that it could no longer count on the United States, its chief ally for the past five years in the fight against the Islamic State … It represents a gamble for the Kurds, who appeared to have secured no guarantees for the survival of the autonomy they have secured over the area over the past seven years. …\\n\\n“Badran Jia Kurd, a senior Kurdish official, said the Kurds felt they had no choice but to turn to Damascus in light of what he called the ‘betrayal’ of the United States. ‘This has obliged us to look for alternative options,’ he said. … Residents of northeast Syria said they were stunned by the speed with which SDF defenses appeared to be collapsing … Hundreds of Islamic State family members escaped a detention camp after Turkish shellfire hit the area, U.S. troops pulled out from another base and Turkish-backed forces consolidated their hold over a vital highway, cutting the main U.S. supply route into Syria.”\\n\\n“We don’t want the Russians and Syrians in there, but obviously we understand why they reached out,” a senior Trump administration official told one of my colleagues. “This is total chaos,” the official added, “a total s---storm.”\\n\\nA Turkish-backed fighter fires Sunday during clashes in the border town of Ras al-Ayn as Turkey and its allies continue their assault on Kurdish-held border towns in northeastern Syria. (Nazeer Al-Khatib/AFP/Getty Images)\\n\\n-- Mazloum Abdi, the commander in chief of the SDF, said the Kurds didn’t want it to turn out this way: “We believe in democracy as a core concept, but in light of the invasion by Turkey and the existential threat its attack poses for our people, we may have to reconsider our alliances,” Abdi writes in a new Foreign Policy op-ed. “We know that we would have to make painful compromises with Moscow and Bashar al-Assad if we go down the road of working with them. But if we have to choose between compromises and the genocide of our people, we will surely choose life for our people. …\\n\\n“At Washington’s request, we agreed to withdraw our heavy weapons from the border area with Turkey, destroy our defensive fortifications, and pull back our most seasoned fighters. Turkey would never attack us so long as the U.S. government was true to its word with us. We are now standing with our chests bare to face the Turkish knives,” he adds. “We know that the United States is not the world police. But we do want the United States to acknowledge its important role in achieving a political solution for Syria. We are sure that Washington has sufficient leverage to mediate a sustainable peace between us and Turkey.”\\n\\n-- “Putin likely can\\'t believe his luck,” a Western military official from a NATO member country, who recently served in Syria as part of the anti-ISIS coalition, told Business Insider. “A third of Syria was more or less free of ISIS and its security was good without any involvement of the regime or Russia, and now because of the Turkish invasion and American pullout, this area is wide open to return to government control. What was supposed to be a diplomatically complex issue that would have involved U.S. and European military power suddenly got as simple as sending in tanks and units unopposed throughout the eastern third of Syria.”\\n\\n“Putin continues to get whatever he wants and generally doesn\\'t even have to do much,” an unnamed NATO official also told Insider. “He got to sit back and watch the Turks and the Americans unravel five years of success and not only did it not cost him anything, he didn\\'t even have to try to make it happen. Small wonder he\\'d interfere on Trump\\'s side in an election.”\\n\\n-- The Russian Air Force has repeatedly bombed hospitals in Syria to crush the last pockets of resistance to Assad, according to a damning New York Times investigation published on Sunday: “An analysis of previously unpublished Russian Air Force radio recordings, plane spotter logs and witness accounts allowed The Times to trace bombings of four hospitals in just 12 hours in May and tie Russian pilots to each one. The 12-hour period beginning on May 5 represents a small slice of the air war in Syria, but it is a microcosm of Russia’s four-year military intervention in Syria’s civil war. … Physicians for Human Rights, an advocacy group that tracks attacks on medical workers in Syria, has documented at least 583 such attacks since 2011, 266 of them since Russia intervened in September 2015. At least 916 medical workers have been killed since 2011. …\\n\\n“Russia’s position as a permanent member of the United Nations Security Council has shielded it from scrutiny and made United Nations agencies reluctant to accuse the Russian Air Force of responsibility. … The United Nations secretary general, António Guterres, opened an investigation into the hospital bombings in August. The investigation, still going on, is meant in part to determine why hospitals that voluntarily added their locations to a United Nations-sponsored deconfliction list, which was provided to Russia and other combatants to prevent them from being attacked, nevertheless came under attack. Syrian health care workers said they believed that the United Nations list actually became a target menu for the Russian and Syrian air forces.”\\n\\n-- “Trump tried to keep his talks with Putin at Helsinki last year secret from his staff and the world, but Russia\\'s president held up the checklist for the cameras. Syria was on it,” Julia Davis recalls in the Daily Beast: “Trump is moving down Putin’s wish list, fulfilling the Kremlin’s aims at a rapid pace. He is chipping away at U.S. sanctions against Russia, deepening America’s internal divisions on the basis of race, faith, sexual orientation and political affiliation, vocally undermining confidence in our elections, intelligence agencies and institutions, all the while empowering our foreign adversaries and undermining NATO alliances. Trump’s claims that Ukraine—not Russia—is somehow responsible for the 2016 election interference fall right in line with conspiracy theories the Kremlin has been propagating for years. …\\n\\n“The ousting of Marie Yovanovitch, the former ambassador to Ukraine, was also in line with the Kremlin’s wishes. Ukrainian politician Viktor Medvedchuk [Putin is the godfather of his daughter] has a longstanding grudge against Ambassador Yovanovitch. Medvedchuk cheered for the U.S. ambassador to be recalled and the Russian state media predicted that Ambassador Yovanovitch would be Trump’s ‘first victim in Ukraine.’”\\n\\n-- “Washington’s abrupt decision to ditch the Kurds contrasted sharply with Moscow’s unwavering support for its ally Assad,” the AP’s Vladimir Isachenkov reports from Moscow. “In another power game, Russia hopes to see major gains in its long-running effort to retain leverage over its neighbor Ukraine … President Volodymyr Zelenskiy, who was elected by a landslide in April, has vowed to end the fighting [in eastern Ukraine], which has killed more than 13,000. Early this month, Ukraine, Russia and the rebels signed a tentative agreement to hold local elections in the east, a deal Zelenskiy insists conforms to a 2015 peace accord that was brokered by France and Germany. The agreement, however, has been criticized by some in Ukraine as ‘capitulation” to Moscow. On Monday, far-right and nationalist groups are staging a major rally in Kyiv to protest Zelenskiy’s peace plan.\\n\\n“The White House’s publication of a rough transcript of the call was embarrassing for the 41-year-old Ukrainian president because it showed him eager to please Trump and dismissive of European partners whose support he needs to end the conflict in the east. While Zelenskiy sought to play it down, it could help Russia by eroding support for Ukraine in Germany and France. ‘France and Germany have grown tired of Ukraine and are too busy with their own problems, and their only goal is to close the issue of the war in the east by any means,’ said Vadim Karasev, head of the Institute of Global Strategies, an independent Kyiv-based think tank. ‘If Russia offers a compromise, Berlin and Paris will heave a sigh of relief. By publicly kicking (German Chancellor Angela) Merkel and (French President Emmanuel) Macron, Zelenskiy untied their hands and there is no more talk about their ‘friendly support.”\\n\\n-- Syria and Ukraine fit with a broader pattern. Trump has pushed to bring Russia back into the Group of Seven, which it was expelled from after invading Ukraine. To fund construction of his border wall, he diverted $770 million from projects that have been approved to help American allies deter Russian attacks. He’s cast doubt on whether the U.S. would live up to its mutual defense obligations under the NATO charter. He’s supported Brexit and antagonized the European Union by picking fights over trade. It’s impossible to calculate the Kremlin’s return on investment for its 2016 interference in the U.S. election. Trump told two senior Russian officials during an Oval Office meeting in 2017 that he was unconcerned about their interference in our presidential election because the United States does the same in other countries.\\n\\n-- As 2020 approaches, there is no doubt that Russian interests continue to favor Trump. Lev Parnas and Igor Fruman, the Soviet-born associates of Rudy Giuliani who were arrested last Wednesday night at Dulles as they prepared to leave the U.S. with one-way plane tickets to Europe, have made $630,000 in contributions to Republican candidates and political action committees since the fall of 2016, including $325,000 to a pro-Trump PAC. The men have been charged with campaign finance violations, including routing illegal contributions to federal candidates from an unidentified Russian source.\\n\\n-- Before leaving the White House to hit the links at his golf course on Sunday, Trump defended his decision as “very smart” and accused “those that mistakenly got us into the Middle East Wars” of pushing the United States to stay in “endless wars.” Trump tweeted that it was “very smart not to be involved in the intense fighting along the Turkish Border, for a change.” For the past week, White House officials have been adamant that Trump did not greenlight Turkey’s invasion. But Trump undercut those denials somewhat with his tweets. “Others may want to come in and fight for one side or the other,” he wrote. “Let them!”\\n\\n-- Trump’s order to withdraw came after he privately agitated for days to bring troops home, according to administration officials, even while the Pentagon was making public assurances that the United States was not abandoning its Kurdish allies in the region. “The officials, granted anonymity to describe internal deliberations, described Trump as ‘doubling down’ and ‘undeterred,’ despite vociferous pushback from congressional Republicans who have been loath to challenge the president,” Seung Min Kim and Josh Dawsey report.\\n\\n“During deliberations in the past, Trump has repeatedly pushed to remove troops from Syria but has usually been dissuaded by top officials, such as John F. Kelly, his former chief of staff. The usual argument against removing troops, according to former senior administration officials, would be that doing so would cause widespread deaths and chaos and Trump would be blamed for it. ‘Normally, convincing him he would be blamed for death and chaos could keep it from happening at least at that moment,’ one former senior administration official said. But current administration officials say many moderating officials like Kelly are gone, and longtime friends say the move is consistent with Trump’s worldview — and that he has long wanted to do this.”\\n\\nTrump has closely watched conservative criticism in recent days: He’s complained frequently about comments from Sen. Lindsey Graham (R-S.C.) but has been encouraged by Sen. Rand Paul (R-Ky.) and Fox News host Tucker Carlson, according to administration officials. One senior administration official told Josh that the president was particularly heartened by a segment from another Fox host, Lou Dobbs, defending him last week.\\n\\n-- Graham, who previously called Trump’s decision on Syria “the biggest blunder of his presidency,” praised the president on Sunday for saying he’ll support imposing some sanctions on Turkey. “Turkey’s actions will only benefit ISIS, Iran, and Russia, and creates a nightmare for Israel,” Graham tweeted.\\n\\n-- Defense Secretary Mark Esper said Turkey was fully committed to its operation regardless of what the United States did, and that the administration did not want to go to war with a member of NATO. Esper added that Turkey is not acting like much of an ally. “I think Turkey, the arc of their behavior over the past several years, has been terrible,” he said on “Fox News Sunday.” “I mean, they are spinning out of the Western orbit, if you will.”\\n\\n-- House Foreign Affairs Committee Chairman Eliot Engel (D-N.Y.) said NATO should consider expelling Turkey as a member, citing Ankara’s partnership with Moscow: “How do you have a NATO ally who’s in cahoots with the Russians when the Russians are the adversaries of NATO? ... [Turkish President Recep Tayyip] Erdogan’s a bad guy, and I’m disgusted that the American president would feel comfortable with someone like Erdogan,” Engel said on NBC’s “Meet the Press,” promising that the House will take up sanctions against Turkey this week and on a resolution to condemn Trump’s policy. “I can think of nothing more disgusting, in all the years I’ve been in Congress, than what this president is allowing to happen with the Kurds.”\\n\\n-- “Amid reports of Islamic State militants escaping prisons in the area, a U.S. official confirmed that the American forces had been unable to carry out plans to move several dozen high-value detainees to more secure locations,” Karen DeYoung, Dan Lamothe, Missy Ryan and Kareem Fahim report. “One official said that multiple Kurdish-run detention facilities were now unguarded and that the U.S. military believed hundreds of detainees had escaped. … Turkey launched multiple artillery rounds Friday near a U.S. Special Operations outpost in the area, despite knowing its location, officials said. … Although ‘the Turks gave guarantees to us’ that U.S. forces would not be harmed, [a senior administration] official said, Syrian militias allied with them ‘are running up and down roads, ambushing and attacking vehicles,’ putting American forces — as well as civilians — in danger even as they withdraw. The militias, known as the Free Syrian Army, ‘are crazy and not reliable.’”\\n\\n-- “Some of the Special Forces officers who battled alongside the Kurds say they feel deep remorse at orders to abandon their allies,” the New York Times reports. “They trusted us, and we broke that trust,” said one Army officer who has worked alongside the Kurds in northern Syria. “It’s a stain on the American conscience.” Another officer who also served in northern Syria added: “I’m ashamed.”\\n\\n-- “There is blood on Trump\\'s hands for abandoning our Kurdish allies,” said retired Marine general John Allen. The four-star general who commanded U.S. forces in Afghanistan and served as President Barack Obama’s special envoy for the Global Coalition to Counter ISIS told CNN that this weekend’s events were “completely foreseeable” after the U.S. “greenlighted” Turkey’s incursion. “There was no chance Erdogan would keep his promise, and full-blown ethnic cleansing is underway by Turkish supported militias,” said Allen, who endorsed Hillary Clinton in 2016. “This is what happens when Trump follows his instincts and because of his alignment with autocrats.”\\n\\n-- Trump faced bipartisan congressional criticism on the Sunday shows for his Syria decision. Felicia Sonmez reports: “Rep. Adam Kinzinger (R-Ill.), an Air Force veteran who was a pilot in Iraq and Afghanistan, was among the most vocal members of the president’s party to condemn the move. ‘You hear the president and people like Rand Paul talk about endless wars all the time, and it’s kitschy. But actually, we were preventing an endless war,’ Kinzinger said [on CBS]. He added that ‘for me — as a guy that served in the military and really got into politics because I believe in the role America plays — to see this yet again, you know, leaving an ally behind ... is disheartening, depressing.’ … Senate Minority Leader Charles E. Schumer (D-N.Y.), meanwhile, announced that both chambers are readying a joint resolution urging Trump to reverse his decision.”\\n\\nBefore Trump gave Saturday’s order, Senate Majority Leader Mitch McConnell said last week: “A precipitous withdrawal of U.S. forces from Syria would only benefit Russia, Iran, and the Assad regime.”\\n\\n-- Turkish-linked forces filmed themselves executing a Kurdish captive in Syria. Liz Sly reports: “The most gruesome and explicit of the videos shows Turkish-allied Syrian fighters pumping bursts of automatic fire into the body of a bound man lying on the side of a desert road as a gunman shouts to his comrades to take his phone and film him doing the shooting. Another trembling, handcuffed man crouches on the opposite side of the road as the shooting erupts. ‘Kill them,’ one man is heard shouting. The video is one of a series of photographs and videos posted on Twitter accounts of the Turkish-backed rebel groups and circulated by the [SDF] that suggest some of the Syrian rebels participating in Turkey’s offensive to capture territory in Syria might have committed war crimes.”\\n\\n-- Connecting the dots: “The uproar in Washington over President Trump’s corruption in Ukraine and malfeasance in Syria has obscured a broader story,” writes deputy editorial page editor Jackson Diehl. “In little more than a month, virtually every other foreign policy initiative the Trump administration has pursued has imploded — thanks mostly to the president’s increasingly unhinged behavior. The unraveling started on Sept. 7, when Trump abruptly announced that he had canceled a previously undisclosed summit with the Afghan Taliban due to be held the next day at Camp David, and shelved a draft peace deal that a State Department special envoy had spent a year negotiating. The immediate result was a spike in violence in Afghanistan — and at least the temporary shelving of Trump’s ambition to pull U.S. troops out of the country before the 2020 election.\\n\\n“A week later, Trump’s ‘maximum pressure’ campaign against Iran came undone. Following an Iranian-sponsored attack on a Saudi oil complex, Trump ruled out a military response; instead, he told French President Emmanuel Macron that he was open to a plan to meet Iranian President Hassan Rouhani at the United Nations and lift sanctions on his government in return for negotiations. The gambit failed: Rouhani left Trump waiting on a phone line. …\\n\\n“Just two weeks after the Iran debacle, Trump saw his nuclear negotiations with North Korea crumble — again. At a meeting in Stockholm, Kim Jong Un’s delegation rejected a U.S. proposal for an incremental deal — a far cry from the total disarmament Trump once sought — and walked away, refusing to agree to a date for future talks. …\\n\\n“The attempt to oust the socialist government of Venezuela flopped back in April. The plan for the ‘ultimate deal’ between Israelis and Palestinians has never been released, and Trump’s point man on that project, Jason Greenblatt, announced his departure last month. True, Trump is still pressing his trade war with China and announced a partial deal on Friday. But most tariffs remain in place and the easy victory over Beijing he once promised is nowhere in sight.”\\n\\nWelcome to the Daily 202, PowerPost\\'s morning briefing for decision-makers.\\n\\nSign up to receive the newsletter.\\n\\nWHILE YOU WERE SLEEPING:\\n\\nTyphoon Hagibis put large swaths of Japan underwater. (Kyodo News/AP)\\n\\n-- A typhoon left at least 42 people dead and 15 missing in Japan. Simon Denyer reports: “Typhoon Hagibis, which means ‘speed’ in the Philippine language Tagalog, tore through Tokyo and large swaths of Japan’s main island of Honshu on Saturday, bringing record-breaking rains to many areas. By Sunday, more than 20 rivers in central and northeastern Japan had burst their banks, flooding more than 1,000 homes in cities, towns and villages. At one point, the government advised nearly 8 million people to evacuate. Many ignored the advice and stayed home, but others headed to shelters. Public broadcaster NHK said some died while trying to make their way to shelters, including a 77-year-old woman who fell more than 100 feet to her death during an airlift. NHK reported Monday that 198 people were injured in the storm. The storm sank a Panama-registered cargo ship anchored near Tokyo, killing at least five crew members and leaving three missing, according to local media reports. Around 200,000 homes were without power on Sunday, Japanese media reported.”\\n\\nTHE IMPEACHMENT INQUIRY:\\n\\n-- House Intelligence Committee Chairman Adam Schiff (D-Calif.) said protecting the identity of the first whistleblower who sounded the alarm about Trump’s dealings with Ukraine is the committee’s “primary interest,” a sign that House Democrats may not press the individual to testify. On CBS\\'s “Face the Nation,” Schiff noted there’s more than one whistleblower. “Given that we already have the call record, we don’t need the whistleblower who wasn’t on the call to tell us what took place during the call,” the chairman explained. “We have the best evidence of that.” (Felicia Sonmez)\\n\\n-- The former top Russia specialist on the National Security Council, Fiona Hill, is expected to give a deposition today to House investigators. Hill, a Trump appointee but also a frequent critic of Putin, helped navigate the U.S. policy with Moscow before leaving the administration this summer. (USA Today)\\n\\n-- Mark Esper, the defense secretary, said the Pentagon will try to comply with a subpoena from committees seeking records related to the U.S. withholding military aid from Ukraine. From the Guardian: “‘We will do everything we can to respond to their inquiry,’ he said on Fox News Sunday. But Esper warned … that Trump and other officials may yet create complications for the compliance before Tuesday’s deadline for him to respond.”\\n\\n-- Trump’s advisers are back to square one in their search for a new defense lawyer after lobbying rules prohibited former congressman Trey Gowdy from joining the president’s defense team. From the Times: “Mr. Gowdy’s name began circulating on Twitter as the new Trump defender, prompting a number of aides to the president to claim credit privately for the idea of bringing him on board. But by Wednesday evening, aides were distancing themselves from the bungled personnel maneuver, which was made public before all the usual procedural boxes had been checked. Several pointed fingers at Mick Mulvaney, the acting White House chief of staff, suggesting he had botched the rollout. … As Mr. Mulvaney pushed for Mr. Gowdy, a former House colleague and fellow South Carolinian, he swatted away questions from several aides about whether Mr. Gowdy would be curtailed in his role by lobbying regulations.”\\n\\n-- A longtime investigative reporter in Nashville grilled Secretary of State Mike Pompeo about Ukraine. He baselessly accused her of working for the Democratic National Committee. Brittany Shammas reports: Nancy Amons “had just seven minutes to interview [Pompeo] … She questioned him about the resignation of one of his senior advisers and the ouster of a U.S. ambassador to Ukraine. She asked three times whether he met with [Giuliani] while in Warsaw, and he refused to say. Undeterred, Amons inquired about text messages showing that U.S. diplomats thought a relationship between Trump and Ukraine’s president was contingent upon Ukraine investigating Trump’s political rivals. That’s when Pompeo lost his cool.” (Watch the interview here.)\\n\\n-- In case you missed it: The U.S. ambassador to the European Union, Gordon Sondland, intends to tell Congress this week that the content of a text message he wrote denying a quid pro quo with Ukraine was relayed to him directly by Trump in a phone call. Aaron Davis and John Hudson previewed the ambassador’s planned testimony in the Sunday paper: “Sondland plans to tell lawmakers he has no knowledge of whether the president was telling him the truth at that moment. ‘It’s only true that the president said it, not that it was the truth,’ said the person familiar with Sondland’s planned testimony [who spoke to The Post with his permission] …\\n\\n“Sondland is expected to say that for months before the Sept. 9 message, he worked at the direction of [Giuliani] to secure what he would call in another text message the ‘deliverable’ sought by Trump: a public statement from Ukraine that it would investigate corruption, including mentioning Burisma, a Ukrainian energy company, by name. In exchange for the statement, the president would grant Ukraine’s new president a coveted White House audience. ‘It was a quid pro quo, but not a corrupt one,’ the person familiar with Sondland’s testimony said.\\n\\n“Sondland appears poised to say that he and other diplomats did not know that the request to mention Burisma was really an effort to impugn the reputations of [former vice president Joe] Biden and his son Hunter, who had served as a Burisma board member. Sondland contends that he didn’t know about the Biden connection until a whistleblower complaint and transcript surfaced in late September. To trust Sondland’s testimony, members of Congress will have to believe Sondland had not seen televised appearances by Giuliani over the spring and summer, or numerous newspaper and magazine articles questioning whether Hunter Biden’s role at Burisma could prove to be a drag on his father’s presidential campaign.”\\n\\n-- The impeachment crisis is shining a spotlight on Trump’s state of mind. Ashley Parker and Philip Rucker report: “Like an aging rock star, the president is now reprising many of the greatest hits from his hellion days. He has bullied and projected — at times leveling against others the very charges he faces — while simultaneously depicting himself as a victim. And he has turned to ominous depictions of America, and in moments sounded an authoritarian tone. ... Staring down impeachment, Trump has seemed to play the role of the nation’s Shakespearean monarch. … Victimization has long been central to Trump’s political identity, rooting him in the grievance politics of the right and inspiring in his millions of followers a duty to protect the president from any perceived threat. But Trump’s feelings of oppression and persecution have been especially pronounced during the impeachment crisis. …\\n\\n“As has long been his habit, Trump has applied derogatory nicknames to his impeachment antagonists. Schiff is ‘Shifty Schiff,’ Pelosi is ‘Nervous Nancy’ and Sen. Mitt Romney of Utah, the Republican most outspoken about Trump’s conduct, is ‘Pompous Senator.’ … To Trump, the impeachment probe is evidence of a plot to remove him from office, part of a dystopian alternate reality he is combating with ominous language and dark proclamations. … Schiff has been a particular target of Trump’s apocalyptic world view. The president has suggested on Twitter no fewer than four times, for instance, that Schiff might be guilty of treason — a crime still punishable by death.”\\n\\nHunter Biden arrives in Beijing with his father, then the vice president, in 2013. The younger Biden met with a business partner during the trip and introduced him to the elder Biden. (Ng Han Guan/AP)\\n\\n2020 WATCH:\\n\\n-- Hunter Biden will resign from the board of a Chinese investment company by the end of this month and promises not to do any work for foreign firms if his father is elected president, his lawyer George Mesires said in a statement on Sunday. Michael Kranish and Anna Fifield report: “Mesires did not say how much Hunter Biden earned in his work for Burisma [in Ukraine]. Some reports have said he was paid as much as $50,000 a month for a directorship that lasted five years. Mesires said Hunter Biden was paid nothing for his service as a director for the Chinese company and has yet to make a profit from his 2017 purchase of a 10 percent stake in that company, which he said is worth $430,000. ...\\n\\n“Much about Hunter Biden’s China dealings is unknown because many records of the company are not public, and he has declined interview requests to discuss his work for the company. His involvement in the company has its roots in 2012, when his father was running for reelection for vice president. Jonathan Li, a Chinese businessman who would become the chief executive of BHR, was friendly with an American investor named Devon Archer. At the time, Archer was a partner in an investment company with Hunter Biden … In 2012, Li visited Archer in New York City to find a suitable investment partner. He met with Archer, who recommended himself. … It’s not clear whether Hunter Biden did anything other than provide a high-profile name — and a connection to the vice president of the United States — that might lure investors. …\\n\\n“The joint venture took months to be finalized, but approval was near when Joe and Hunter Biden arrived aboard Air Force Two in Beijing in December 2013. … He later summarized his talks with the Chinese leader, Xi Jinping, by dismissing the notion that China posed an economic threat to the United States. … The day after the vice president held talks with Xi, he and Hunter were at the hotel where the American delegation stayed. Hunter Biden … introduced Li to his father … Twelve days after the Bidens arrived in Beijing, the BHR business filing was completed. Archer was named vice chairman, and Hunter Biden became a director. … The other partners included Chinese entities with ties to the communist government, including the Bank of China, one of the biggest state-owned commercial banks in the country.”\\n\\n-- Joe Biden, speaking on Sunday afternoon to reporters in Iowa, said he did not see the statement from his son’s attorney before it was released, but he said he supports it. The former vice president said that his son “did not realize” that “the appearance” of doing business in Ukraine and China would raise so many questions. “If I am your president,” the elder Biden said, “I am going to build on the squeaky-clean White House that we had in the Obama-Biden administration.”\\n\\n-- Biden will face tough questions in tomorrow night\\'s Democratic debate about his son\\'s sketchy buckraking, and Elizabeth Warren is a tempting target because she\\'s surging. But the stakes are probably highest for Bernie Sanders, who has been slipping since his heart attack. Sean Sullivan reports: “Scrutiny of his age and endurance are greater than at any point in his nearly half-century political career. A strong performance could help calm the doubts about his prospects as the oldest candidate in the field, while a weak showing could deal a devastating blow to a campaign that was already slipping.”\\n\\n-- Warren continues to rise across the early states, drawing even with Biden and Sanders in Iowa, according to a CBS News battlegrounds poll. Meanwhile, voters have said Biden’s response to Trump’s accusations has left them “somewhat” satisfied, not “very” satisfied. Warren is seen as generally better able than Biden to handle Trump’s inevitable attacks, the CBS poll found.\\n\\n-- What’s missing from Warren’s 2020 surge? Democratic endorsements, per the Times: “Ms. Warren is expected to reveal additional support from Democratic officials this week in conjunction with [Tuesday’s debate] and the release of her smashing third-quarter financial disclosure. Yet her growing crowd sizes, soaring fund-raising and surge to the top of a number of national and early-state polls only shine a brighter light on one of the most revealing elements of this primary: the widening gap between the preferences of many Democratic voters and the lawmakers who represent them. … Just under four months before the leadoff Iowa caucuses she lacks the support of a single governor, big-city mayor or fellow senator outside Massachusetts. She does have the backing of the Working Families Party, an influential liberal group, and yet she also has fewer total endorsements from state legislators in Iowa and New Hampshire than Senator Cory Booker.”\\n\\n-- A macabre video of a fake Trump shooting, stabbing and brutally assaulting members of the news media and his political opponents was played at his Miami resort during a conference for his supporters. From the Times: “The video, which includes the logo for Mr. Trump’s 2020 re-election campaign, comprises a series of internet memes. The most violent clip shows Mr. Trump’s head superimposed on the body of a man opening fire inside the ‘Church of Fake News’ on parishioners who have the faces of his critics or the logos of media organizations superimposed on their bodies. It appears to be an edited scene of a church massacre from the 2014 dark comedy film ‘Kingsman: The Secret Service.’ … The organizer of the event said in a statement on Sunday that the clip had been played at the conference, saying it was part of a ‘meme exhibit.’ He denounced the video and said his organization was looking into how it was shown at the event. … A spokesman for Mr. Trump’s campaign said he knew nothing about the video.”\\n\\n-- Queen made the Trump campaign take down a video that used “We Will Rock You” as its soundtrack, days after Prince’s estate publicly criticized Trump for playing “Purple Rain” during his Minneapolis rally. The video with the Queen song had been viewed more than 1.7 million times before it was removed from Trump’s official Twitter page. (BuzzFeed News)\\n\\n-- Democrats are struggling to make inroads in rural Virginia in off-year elections. Patricia Sullivan reports from the Shenandoah Valley: “Short of big-money donors, they have pooled resources to share one consultant, who provides individual field plans for each race, coordinates schedules and exchanges policy ideas. The candidates have a polished joint presentation for when they seek funds and volunteers from around the state, including a late-September visit to the deeply blue Arlington County. … But in this mountainous portion of the commonwealth, where cellphone signals do not always penetrate and the lack of universal broadband vexes residents, the Democrats have a steep climb.”\\n\\nTHE DOMESTIC AGENDA:\\n\\n-- A black woman was fatally shot in her own home by a white Fort Worth police officer who was responding to a call about an open door at the residence. Derek Hawkins reports: “A neighbor told the Fort Worth Star-Telegram that he dialed a non-emergency line and requested a welfare check when he noticed that the door was ajar and the lights were on. While searching the outside of the house, police said, an officer saw someone standing near a window. ‘Perceiving a threat the officer drew his duty weapon and fired one shot striking the person inside the residence,’ police said. Atatiana Jefferson, 28, was pronounced dead at the scene, according to police, who said the officers provided emergency medical care. Body-camera footage released by police Saturday shows two officers walking quietly around the side of the house and peering through two screen doors, then moving down a driveway into a backyard. One officer approaches a closed first-floor window and shines a flashlight inside, then swiftly raises his gun. ‘Put your hands up! Show me your hands!’ he yells. A split-second later, he fires a shot through the window. He does not identify himself as an officer in the footage. …\\n\\n“Officials did not release the officer’s name, describing him only as a white male who has been with the department since April 2018. He will be placed on administrative leave pending an investigation, according to the department. The shooting comes at a time when relations between law enforcement and black residents in the Dallas and Fort Worth area are already under strain following the recent trial of Amber Guyger, a white former police officer who shot and killed her unarmed black neighbor, Botham Jean, in 2018. …\\n\\n“Lee Merritt, a prominent civil rights attorney in the Dallas area who said he is representing Jefferson’s family, said the officer never should have opened fire. Jefferson was playing video games with her 8-year-old nephew when she heard what she thought was a prowler outside the bedroom window, Merritt wrote in a Facebook post Saturday. When Jefferson went to the window to see what was happening, he wrote, the officer shot her.”\\n\\n-- Prosecutors are reexamining a killing after the Missouri deputy behind it was charged in another shooting. The deputy, Lauren Michael, received a medal of valor after fatally shooting a man in 2017 who she said was reaching for her Taser. Her retelling is under scrutiny after she was charged last week with felony assault and armed criminal action after shooting an unarmed woman in the back. (NYT)\\n\\n-- Three economists received the Nobel Prize in economics for their “experimental approach” to solving global poverty. The winners are MIT’s Abhijit Banerjee and Esther Duflo and Harvard’s Michael Kremer. (Jeff Stein)\\n\\n-- The first two days of California’s blackouts cost the state economy somewhere between $65 million and $2.5 billion. From the Journal: “Mark Zandi, chief economist at Moody’s Analytics, said a hit of even several hundred million dollars ‘doesn’t register in a $3 trillion-a-year economy like California’s.’ He added that if the blackouts continue on for much longer the economic toll will mount, particularly if businesses feel this will be an endemic problem. PG&E officials won’t say how often or how long Californians could face the prospect of blackouts like this one.”\\n\\n-- California became the first state in the country to mandate later start times at most public schools, a proposal designed to improve educational outcomes by giving students more sleep. From the Los Angeles Times: “The law will take effect over a phased-in period, ultimately requiring middle schools to begin classes at 8 a.m. or later while high schools will start no earlier than 8:30 a.m. … The American Academy of Pediatrics … pointed to studies that found links between later start times, more sleep and better health and school performance among adolescents.”\\n\\n-- Dozens of death investigations across the country have been complicated or upended because transplantable body parts were taken before an autopsy was performed. From the LA Times: “In multiple cases, coroners have had to guess at the cause of death. Wrongful-death and medical malpractice lawsuits have been thwarted by early tissue harvesting. A death after a fight with police remains unsettled. The procurement process caused changes to bodies that medical examiners mistook as injuries or abuse. In at least one case, a murder charge was dropped. Organ procurement before an investigation has long been legal, provided the coroner agreed. The motivation was to increase the number of [vital organs] needed to extend the lives of Americans waiting for transplants. To raise those numbers, California and other states over the last decade passed laws requiring coroners and medical examiners to ‘cooperate’ with the companies to ‘maximize’ the number of organs and tissues taken for transplant.”\\n\\n-- The Census Bureau is asking for driver’s license records that typically include citizenship data and has also made a request for information on recipients of government assistance after the Supreme Court blocked plans to include a citizenship question in the 2020 count. From the AP: “The two approaches, documented by The Associated Press, alarm civil rights activists. They caution that inaccuracies in state motor vehicle records make them a poor choice for tracking citizenship, if that is the bureau’s goal, and they see the requests as an extension of earlier efforts that could chill Latino participation in the 2020 Census.”\\n\\n-- On Wednesday, the Supreme Court will hear arguments about whether states can prosecute migrants who use other people’s Social Security numbers to get a job. From the AP: “The case before the nation’s highest court arises from three prosecutions in Johnson County, a largely suburban area outside Kansas City, Missouri, where the district attorney has aggressively pursued immigrants under the Kansas identity theft and false-information statutes.”\\n\\n-- Almost 400 scientists have endorsed a civil disobedience campaign aimed at forcing governments to take rapid action to tackle climate change. From Reuters: “In a joint declaration, climate scientists, physicists, biologists, engineers and others from at least 20 countries broke with the caution traditionally associated with academia to side with peaceful protesters courting arrest from Amsterdam to Melbourne. … The declaration was coordinated by a group of scientists who support Extinction Rebellion, a civil disobedience campaign that formed in Britain a year ago and has since sparked offshoots in dozens of countries.”\\n\\nSOCIAL MEDIA SPEED READ:\\n\\nBeto O\\'Rourke\\'s campaign manager tried to walk back the former congressman\\'s comments from Thursday night\\'s CNN town hall:\\n\\nIf a religious organization discriminates based on sexual orientation or gender identity when delivering public services, they shouldn\\'t be tax-exempt. But if a religious organization simply does not “believe” in same-sex marriage, Beto won\\'t challenge their tax-exempt status. https://t.co/1II13F51hY — Jen O\\'Malley Dillon (@jomalleydillon) October 13, 2019\\n\\nA Mainer paid to run an ad in the Sunday edition of the Portland Press Herald about an encounter he had at the airport with Sen. Susan Collins (R):\\n\\nThis unusual anti-Collins ad ran in the @PressHerald today pic.twitter.com/1mi6XkI3o3 — Burgess Everett (@burgessev) October 13, 2019\\n\\nRep. Liz Cheney (R-Wyo.), who has been a steadfast Trump supporter, lamented the consequences of his Syria retreat:\\n\\nShameful disaster unfolding in Syria. https://t.co/eS5C8Pma7b — Liz Cheney (@Liz_Cheney) October 13, 2019\\n\\nBob Corker, the Tennessee Republican who served as chairman of the Senate Foreign Relations Committee until his retirement in January, also sharply criticized the move:\\n\\nRecent decisions by the administration regarding Syria are a strategic error and further diminish the character of our great nation. — Senator Bob Corker (@SenBobCorker) October 13, 2019\\n\\nRep. Justin Amash (I-Mich.), who left the Republican Party on July 4 after calling for Trump’s impeachment, criticized the president\\'s “endless wars” defense:\\n\\nPresident Trump long ago could (and should) have withdrawn from Syria and worked to keep out Turkey. Instead, he pulled back a few troops (no withdrawal) and green lighted Turkey’s attack. His sudden concern about endless wars is just cover for his having facilitated a disaster. — Justin Amash (@justinamash) October 13, 2019\\n\\nJournalists condemned the video played at a conference for Trump supporters that portrayed violence against the media and critics of the president:\\n\\nHow disconnected from humanity must you be to find humor in a depiction of a mass shooting of journalists inside a church—knowing, surely, that Americans have been slaughtered in churches & newsrooms, that it’s not a fantasy for the families that those shootings made incomplete? — Olivia Nuzzi (@Olivianuzzi) October 14, 2019\\n\\nA reporter who was at the event where the video was played said he was removed:\\n\\nWhen I was kicked out of this conference without explanation, I could only assume it was because the organizers knew I\\'d see some things that would be bad for them if reported out.https://t.co/5DzfNHlEwW https://t.co/pJ81cTZSWk — Scare-d Holt👻 (@jaredlholt) October 14, 2019\\n\\nThe person who appears to be behind the video was invited by Trump to the White House earlier this year for his social media summit:\\n\\nThe video appears to come from the account \"TheGeekzTeam.\" The account is listed as a creator for Meme World, the site created by far-right figure Carpe Donktum. Donktum attended the White House social media summit & met with Trump.https://t.co/xnoiN2kpsyhttps://t.co/h1dXBLHAYm pic.twitter.com/BAVAWM290r — Alex Kaplan (@AlKapDC) October 14, 2019\\n\\nMexico\\'s National Guard took a nationalist stance as it prepared to detain Haitian and African migrants:\\n\\n\"No one will come to trample our country, our land\", says Mexican troops chief before moving against African & Haitian migrants https://t.co/itqMFvN7Pc — José Díaz-Briseño (@diazbriseno) October 13, 2019\\n\\nAnd the pope, using the hashtag #Saints, accidentally blessed the New Orleans Saints, who went on to beat the Jacksonville Jaguars 13-6:\\n\\nWow, are we blessed or what?!?? https://t.co/IQtpTU1jCP — Alex Anzalone (@AlexAnzalone47) October 13, 2019\\n\\nQUOTE OF THE DAY: “Foreign countries should stay out of American elections. That\\'s true for Russia. That\\'s true for Ukraine. That\\'s true for China. That\\'s true for all of them. It should be the American people deciding elections. I don\\'t know what Rudy\\'s been saying. I do know, though, that we should decide our elections,” Sen. Ted Cruz (R-Tex.) said on CBS’s “ Face the Nation .”\\n\\nVIDEOS OF THE DAY:\\n\\nSimone Biles broke the world record for most medals won by a gymnast. She won her 24th — a gold on the balance beam — before returning to the arena to win another gold for a floor routine that included a stunning, triple-twisting, double somersault:\\n\\nNo gymnast has ever won 24 medals at the world championships...\\n\\n\\n\\nbut @Simone_Biles after winning balance beam gold...\\n\\n\\n\\nTO. THE. RECORD. BOOKS.#Stuttgart2019pic.twitter.com/9ibqiHEG6P — Team USA (@TeamUSA) October 13, 2019\\n\\nTrump has made more than 13,400 false or misleading claims, according to the latest tally from The Post’s Fact Checker team:\\n\\nJohn Oliver took a look at the battle over the weather:\\n\\n“Saturday Night Live” spoofed CNN\\'s equality town hall by bringing in a lot of guest stars:\\n\\nHere are three of the key moments from the CNN event and their counterparts from the cold open:\\n\\nThe show also came up with a satirical advertisement for Giuliani\\'s law services:',\n",
              " '“The Queen’s Speech” is designed to acknowledge the 400 years of tradition in the cradle of parliamentary democracy and the ongoing — although mostly symbolic — role of the monarch. It is usually a jolly good show, broadcast live, complete with men in wigs bearing ceremonial purses, yeomen in scarlet tunics and lords in robes. There is also a 41-gun salute and a mock search of the Palace of Westminster’s cellars for explosives.\\n\\nAs for the speech itself? The prime minister and his ministers actually write it. The address lays out the government’s agenda — even while it remains uncertain how long Johnson’s minority government may last.\\n\\nAD\\n\\nAD\\n\\nAnd so the queen began her scripted remarks saying her government’s priority “has always been to secure the United Kingdom’s departure from the European Union on 31 October.”\\n\\nWhile the debate over Johnson’s domestic agenda begins Monday afternoon at Westminster Palace, all eyes in the chamber will be scrolling the screens of their smartphones for news from Brussels, where British and European negotiators are in their third day of secret talks over the fate of Brexit.\\n\\nOne of the leaders of the opposition Labour Party, Diane Abbott, panned Monday’s performance, calling it “farcical.” Another Labour lawmaker, Anna Turley, tweeted after the speech: “All that pomp and felt like a damp squib. If that’s the summit of the vision of a new Prime Minister who has spent his whole life planning how to get to Downing Street, I’d have hoped for so much more to transform our broken economy, services and society.”\\n\\nAD\\n\\nAD\\n\\nMeanwhile, in Brussels, depending upon the hour, reports have been cautiously optimistic or profoundly pessimistic, as negotiators struggle to agree to a deal. The challenge remains what to do about the border on the island of Ireland — and how to preserve both British sovereignty alongside the E.U.’s demands to protect its single market and customs union.\\n\\nIn her speech, the queen ticked off 22 new bills comprising Johnson’s domestic proposals. The policy announcements included stiffer penalties for some offenders; an end to “freedom of movement” for E.U. citizens coming to Britain and efforts to introduce a points-based immigration policy similar to Australia’s; and a new environment bill that will set binding targets on reducing plastic use, cutting air pollution and restoring biodiversity.\\n\\nJohnson’s attorney general, Geoffrey Cox, has dismissed this House of Commons as a “zombie” Parliament paralyzed over Brexit: It may go on and on but never dies; it just eats the brains of its captives. A general election looms.\\n\\nAD\\n\\nAD\\n\\nThe opposition parties say the Johnson government lacks the majority it needs to pass any of the measures outlined in the speech.\\n\\nSince Johnson became prime minister, his working majority has plummeted from one to minus 43. Johnson lost his reliable votes after 21 Conservative lawmakers — including Winston Churchill’s grandson — were kicked out of the party for backing legislation aimed at stopping a no-deal Brexit.\\n\\nIn the three-year-long psychodrama of Brexit, the British press has labeled many weeks “make-or-break,” with the government facing crunch deadlines.\\n\\nOn Monday, the Telegraph newspaper called this crunch “the crunchiest” deadline of all.\\n\\nAD\\n\\nThe 28 European leaders will met at the E.U. Council on Thursday and Friday in Brussels. They say this is the last possible opportunity for the heads of the 27 other nations to agree to a Brexit deal — at least in theory.\\n\\nAD\\n\\nOn Saturday, Johnson will face a rare Saturday session of Parliament — only four times, since Hitler invaded Poland, has the House of Commons convened on a Saturday.\\n\\nThe lawmakers earlier passed a bill that forbids Johnson from leaving the E.U. this month without a deal. Johnson has repeatedly called it the “Surrender Act.” The prime minister has vowed to leave — “do or die” — on Oct. 31.\\n\\nIf Britain fails to craft a Brexit deal with the Europeans this week, most observers say he will reluctantly find a way to seek an extension — most likely to stage an election sometime this fall.\\n\\nAD\\n\\nIf, however, Johnson cuts a deal, then it will be debated in Parliament on Saturday. Would it, could it pass? Nobody knows. Johnson has lost seven consecutive votes in the House of Commons. The opposition parties have already said they would vote against the deal, whatever it is.\\n\\nAD\\n\\nJohnson’s latest Brexit proposals were first rejected last week in Europe. But Irish Prime Minister Leo Varadkar met with Johnson and came away saying they could imagine a landing zone for a deal. Then the E.U. and British specialists went into talks.\\n\\nIn Brussels, the bureaucrats were mostly gloomy about the chances of a deal; the politicians, however, were less so. The European Union is also famous for crafting deals at five minutes to midnight.\\n\\nAD\\n\\nThe stumbling block this week — as it has been for two years — is what to do about the border between the Republic of Ireland and the territory of Northern Ireland.\\n\\nAfter Brexit, Northern Ireland will remain in the United Kingdom, while Ireland will remain part of the E.U. How to control and inspect the flow of people, capital and goods — especially agricultural products such as meat — and how to collect customs tariffs between the two entities is the knot that must be untied.\\n\\nAD\\n\\nIn his latest overtures, Johnson has proposed that Northern Ireland would essentially remain in the British customs union, but follow E.U. customs rules.\\n\\nQuentin Ariès in Brussels contributed to this report.',\n",
              " 'Like an aging rock star, the president is now reprising many of the greatest hits from his hellion days. He has bullied and projected — at times leveling against others the very charges he faces — while simultaneously depicting himself as a victim. And he has turned to ominous depictions of America, and in moments sounded an authoritarian tone.\\n\\nAD\\n\\nTrump’s moods flared on Twitter. Five days after the impeachment inquiry began — on Sunday Sept. 29 — Trump sent forth a torrent four dozen tweets and retweets, making it at the time the third most prolific day of tweeting of his entire presidency. Over nearly 16 hours on Twitter, he suggested that House Intelligence Committee Chairman Adam B. Schiff (D-Calif.) be questioned for “Fraud & Treason” and quoted an Evangelical pastor who warned that the impeachment of Trump would “cause a Civil War like fracture in this Nation.”\\n\\nAD\\n\\nThen on Friday, Trump passed that previous milestone with 59 total tweets, including 33 in just 20 minutes. All told, in the week before the launch of the inquiry, Trump averaged 18 tweets per day. In the two weeks following the launch, that doubled: On average, Trump was tweeting three dozen times a day.\\n\\nHis behavior during a news conference with the Finnish president appeared so erratic to some viewers that a hashtag — #TrumpMeltdown — began trending on Twitter. Commentary about the president’s mental fitness ensued.\\n\\nAD\\n\\nStaring down impeachment, Trump has seemed to play the role of the nation’s Shakespearean monarch. At a rally Thursday night in Minneapolis, Trump boasted about his own fortitude in surviving so many scandals.\\n\\nRaising his hand and twirling his fingers to point to his right temple, the president mused, “Maybe I’m a little different up here. I don’t know.”\\n\\nAD\\n\\nHere is a look at the characteristics Trump has displayed — and the characters he has inhabited — since impeachment proceedings began.\\n\\nMartyr\\n\\nTrump strode onstage to rapturous applause at a packed arena in Minneapolis Thursday night ostensibly to campaign for reelection in 2020. But he was obsessed instead with the 2016 election, delivering a jeremiad of persecution and self-pity.\\n\\nAD\\n\\n“From Day One, the wretched Washington swamp has been trying to nullify the results of a truly great and democratic election, the election of 2016,” Trump said.\\n\\nThe president cast himself as the ultimate victim of harassment from congressional Democrats, the intelligence community and the media.\\n\\n“I can do the greatest things in history, and they’ll make them bad to very bad,” Trump decried. “And if I do a neutral, something neutral, it worked out okay, not great, it’s like, ‘Give him the electric chair! That was terrible!’ ”\\n\\nVictimization has long been central to Trump’s political identity, rooting him in the grievance politics of the right and inspiring in his millions of followers a duty to protect the president from any perceived threat. But Trump’s feelings of oppression and persecution have been especially pronounced during the impeachment crisis.\\n\\nAD\\n\\nAD\\n\\nAs Trump tells it, he is the victim of a corrupt, “deep state” whistleblower who, along with other perceived enemies, has orchestrated a broad conspiracy to claim malfeasance in his July 25 call with Ukrainian President Volodymyr Zelensky — which, in the president’s estimation, was “perfect” and “totally appropriate.”\\n\\n“The first so-called second hand information ‘Whistleblower’ got my phone conversation almost completely wrong, so now word is they are going to the bench and another ‘Whistleblower’ is coming in from the Deep State, also with second hand info. Meet with Shifty,” Trump tweeted last Saturday, deploying his nickname for Schiff.\\n\\nDriving Trump’s persecution mentality is his undying frustration that his electoral victory in 2016 is undermined by the fact that Russia interfered to boost his candidacy — and that Hillary Clinton won the popular vote.\\n\\n“I was investigated, okay? Me! Me!” Trump told reporters Oct. 4 at the White House. “In my campaign — I ran, I won. I was [investigated]. You won’t say that, will you? I was investigated. I was investigated.”\\n\\nHeckler\\n\\nAD\\n\\nAD\\n\\nIt was another episode of “Chopper Talk” — Trump’s freewheeling question-and-answer sessions with reporters before he boards the Marine One helicopter — only this time the president was especially agitated. He strode back and forth and sliced the air with his hands.\\n\\nThen, as Kelly O’Donnell of NBC News asked him to clarify what exactly he was trying to say, Trump gave her The Hand — five fingers splayed across the lens of her iPhone.\\n\\nThe gesture was perhaps inadvertent, but the resulting snapshot epitomized Trump’s bullying persona, in which he heckles, belittles and bellows with abandon.\\n\\nAs has long been his habit, Trump has applied derogatory nicknames to his impeachment antagonists. Schiff is “Shifty Schiff,” Pelosi is “Nervous Nancy” and Sen. Mitt Romney of Utah, the Republican most outspoken about Trump’s conduct, is “Pompous Senator.”\\n\\nDuring the Oct. 2 news conference with Finnish President Sauli Niinistö, Trump acted like a schoolyard bulldozer when Jeff Mason of Reuters pressed him repeatedly on a question he did want to answer: What, specifically, Trump sought from Zelensky during a controversial phone call in which he asked him to investigate former vice president Joe Biden and his son Hunter.\\n\\nAD\\n\\nAD\\n\\nAfter Trump offered a lengthy digression that failed to answer the question, Mason followed up twice. The second time, Trump was curt.\\n\\n“Are you talking to me?” he asked.\\n\\nWhen Mason answered affirmatively, Trump began to badger him, using his perch behind the presidential lectern to order Mason to pose a question to his foreign counterpart.\\n\\n“Did you hear me? Did you hear me?” Trump angrily admonished Mason, before again urging him to switch topics. “Ask this gentleman a question. Don’t be rude.”\\n\\nTrump went on to berate Mason for being part of the “fake news” and “corrupt media.”\\n\\nThe president never did answer the original question.\\n\\nAutocrat\\n\\nIn Trump’s “great and unmatched wisdom,” he is a leader to be obeyed.\\n\\nAD\\n\\nIn fact, the president offered that self-assessment in response to criticism of his decision to remove U.S. troops from northern Syria and, in doing so, abandon a longtime critical ally.\\n\\nAD\\n\\n“As I have stated strongly before, and just to reiterate, if Turkey does anything that I, in my great and unmatched wisdom, consider to be off limits, I will totally destroy and obliterate the Economy of Turkey (I’ve done before!),” Trump tweeted.\\n\\nBut the general sentiment also reflected the often defiant posture Trump has adopted while facing impeachment, a “Dear Leader” tone more associated with an authoritarian regime than a democracy.\\n\\nIn defending his call with Zelensky, Trump used a similarly autocratic construction.\\n\\nAD\\n\\n“As the President of the United States, I have an absolute right, perhaps even a duty, to investigate, or have investigated, CORRUPTION, and that would include asking, or suggesting, other Countries to help us out!” Trump tweeted.\\n\\nThe phrase is one with which the president is comfortable; Trump has asserted he has the “absolute right” to do something — including the absolute right to pardon himself — over a dozen times since taking office.\\n\\nProjectionist\\n\\nAD\\n\\nIf the Twitterati takeaway of Trump’s news conference with Niinistö was that the president was having a #TrumpMeltdown, in Twitter parlance, Trump had a different view of the situation: It was Schiff who was imploding.\\n\\nAt one point during the East Room event, in response to a question about whether the White House would comply with House subpoenas, Trump accused Schiff of having “some kind of a mental breakdown.”\\n\\nHe repeated the claim several days later at another White House event, this one ostensibly about the U.S.-Japan digital trade agreement. Referring to previous Schiff comments, in which the Democratic chairman summarized the controversial conversation between Trump and Zelensky using mock dialogue, Trump said Schiff had delivered “a horrible speech” not based in reality, and concluded: “I think he’s having some kind of a breakdown.”\\n\\nThe tactic is one long-favored by Trump, in which he takes a charge or accusation leveled against him and wields it like a cudgel back on a perceived foe, even in cases where the counterassault may seem hypocritical or preposterous.\\n\\nNow facing impeachment over a problematic call with his Ukrainian counterpart — where he asked Zelensky to dig up dirt on a political rival as “a favor” — Trump has rejected the notion that his conversation with Zelensky was anything but “perfect.” Instead, he has accused Biden and his son Hunter of corrupt dealings of their own with Ukraine, despite little evidence of wrongdoing.\\n\\nAD\\n\\nFacing the assessment of his own intelligence community that Russia interfered in the 2016 presidential elections with the goal of helping elect Trump, the president has frequently rejected that verdict — while offering a contradictory theory of his own, supported by no evidence: That Ukraine meddled in the 2016 elections, but with the goal of helping the Democrats.\\n\\nTrump has even tried to upend impeachment itself, suggesting Pelosi and Schiff should be impeached instead — never mind that it has been a matter of practice for over two centuries that members of the House and Senate cannot be impeached. He also turned on a member of his own party, Romney, after the Utah senator was critical of him calling on both Ukraine and China to investigate Biden.\\n\\n“#IMPEACHMITTROMNEY,” Trump wrote, again suggesting his own potential penance be meted out instead to someone with whom he was feuding.\\n\\nConspiracist\\n\\nTrump decried the impeachment effort against him as a “coup.” He accused the intelligence community whistleblower — as well as the whistleblower’s sources — of spying on him and committing “treason.” He described the impeachment process being run by Pelosi and Schiff as “a totally compromised Kangaroo court.”\\n\\nTo Trump, the impeachment probe is evidence of a plot to remove him from office, part of a dystopian alternate reality he is combating with ominous language and dark proclamations.\\n\\n“As I learn more and more each day, I am coming to the conclusion that what is taking place is not an impeachment, it is a COUP,” Trump tweeted on Oct. 1.\\n\\nSchiff has been a particular target of Trump’s apocalyptic world view. The president has suggested on Twitter no fewer than four times, for instance, that Schiff might be guilty of treason — a crime still punishable by death.\\n\\n“Arrest for Treason?” Trump wrote in one missive.\\n\\nHe even brought up the charge while sitting next to the Finnish president, saying of Schiff’s behavior: “And some people even say it was treason.”\\n\\nTrump has spread some of his own conspiracy theories, including that he has been investigated by the Australians, British and Italians, among other foreign governments. He has also suggested that contrary to the assessment of his own intelligence community — which found that Russia interfered in the 2016 elections in an effort to help him — it was Ukraine that meddled, hoping to help the Democrats.\\n\\nPerhaps most ominously, Trump has warned of a civil war. On Sept. 29 — a day of extreme presidential angst as measured by his near-record output of tweets — Trump shared with his 65.6 million followers a warning from pastor and televangelist Robert Jeffress from Fox News.\\n\\n“If the Democrats are successful in removing the President from office (which they never will be), it will cause a Civil War like fracture in this Nation from which our Country will never heal,” Trump wrote.\\n\\nIn moments, Trump seems to understand the peril he faces — and acknowledges the differing ways he has responded to the impeachment threat engulfing his presidency.\\n\\n“What they did to this country is unthinkable,” he said Monday in the Roosevelt Room of the White House. “And it’s lucky that I’m the president, because I guess — I don’t know why — a lot of people said very few people could handle it.”\\n\\n“I sort of thrive on it,” he concluded.']"
            ]
          },
          "metadata": {
            "tags": []
          },
          "execution_count": 13
        }
      ]
    },
    {
      "cell_type": "code",
      "metadata": {
        "id": "inwBA0iPD_lG",
        "colab_type": "code",
        "outputId": "8ee7bd59-d90a-4af0-910d-33f7fda488a1",
        "colab": {}
      },
      "source": [
        "len(data)"
      ],
      "execution_count": 0,
      "outputs": [
        {
          "output_type": "execute_result",
          "data": {
            "text/plain": [
              "136"
            ]
          },
          "metadata": {
            "tags": []
          },
          "execution_count": 19
        }
      ]
    },
    {
      "cell_type": "code",
      "metadata": {
        "id": "hlue_xxtD_lI",
        "colab_type": "code",
        "outputId": "332bd8fc-7d3c-47a9-fba4-1bb575ff54dc",
        "colab": {}
      },
      "source": [
        "data[-1]"
      ],
      "execution_count": 0,
      "outputs": [
        {
          "output_type": "execute_result",
          "data": {
            "text/plain": [
              "'Here are some recent headlines from schools around the country: In Indiana, officials played a segment of a 911 call of a teacher in a panic during the Columbine High School shooting to students. In Ohio, officers fired blank shots during an active-shooter drill. In South Carolina, an officer dressed in black posed as an intruder on an unannounced drill. In Michigan, a school is spending $48 million on a renovation that includes curved hallways and hiding niches, in hopes of protecting students from a mass shooting. In Florida, a police officer arrested two 6-year-old students for misdemeanor battery. In Colorado, teachers received buckets and kitty litter for students to use as toilets in case of a prolonged school lockdown.\\n\\nMass shootings, meaning incidents with at least two deaths, in schools are horrifying. But it is highly unlikely that a child would ever witness one. Research indicates that some security measures brought in to make schools safer — like realistic shooter trainings — may be causing children more harm than good.\\n\\nIt is 10 times more likely that a student will die on the way to school.\\n\\nOur chances of dying in a fire are also much greater — 1 in 1,500. But we don’t overreact.\\n\\nMore children have died from lightning strikes than from mass shootings in schools in the past 20 years. Still, we don’t obsess about them.\\n\\nExactly how common are school shootings?\\n\\nIn the two decades since Columbine, there have been 10 mass shootings in schools according to a recent analysis by James Alan Fox, a professor of criminology at Northeastern University who has been studying school violence for several decades. In total, 81 people have been killed, 64 of them students. That’s an average of four deaths per year, three of them students.\\n\\nEven one death is too many. But for perspective, 729 children committed suicide with a firearm in 2017, and 863 were victims of homicides by guns that year.\\n\\nSchool-age children killed by guns 729 suicides in 2017 863 homicides Average killed in school mass shootings each year since 1999 Sources: Centers for Disease Control and Prevention; average students killed since 1999 by James Alan Fox, Northeastern University. School-age children killed by guns 729 suicides in 2017 863 homicides Average killed in school mass shootings each year since 1999 Sources: Centers for Disease Control and Prevention; average students killed since 1999 by James Alan Fox, Northeastern University. School-age children killed by guns 729 suicides in 2017 863 homicides in 2017 Average killed in school mass shootings each year since 1999 Sources: Centers for Disease Control and Prevention; average students killed since 1999 by James Alan Fox, Northeastern University.\\n\\nNearly every public school in the country now conducts lockdown drills, and even the youngest students participate (last year, one school adapted a lullaby to prepare kindergartners). But very few studies have looked into the efficiency of these drills. One of them concluded that the practice can be helpful to teach students basic safety procedures. But to the author of the study, Jaclyn Schildkraut, an associate professor at the State University of New York at Oswego, there is no point in dramatizing the drills. “All that causes is fear,” she said.\\n\\nRestaurants have 10 times as many homicides as schools. Why do we want to arm teachers and not wait staffs?\\n\\n“There’s a misunderstanding in where the dangers are,” said Dewey G. Cornell, a psychologist and professor at the University of Virginia. “Kids are at far greater danger going to and from school, than they are in the classroom,” he said. “School counseling, academic support, that’s gonna do far more to keep our communities safe.”\\n\\nUnlike the United States, the other wealthy countries in the Group of Seven don’t do lockdown drills and rarely have school shootings. What is the United States doing that is so different from them?\\n\\nGun deaths per 100,000 12 United States 10 8 6 4 Other G7 countries 2 0 25 50 75 100 Guns per 100 people Sources: Institute for Health Metrics and Evaluation, Global Burden of Disease Study 2016; Small Arms Survey, 2017. Gun deaths per 100,000 12 United States 10 8 6 4 Other G7 countries 2 0 25 50 75 100 Guns per 100 people Sources: Institute for Health Metrics and Evaluation, Global Burden of Disease Study 2016; Small Arms Survey, 2017. Gun deaths per 100,000 12 United States 10 8 6 4 Other G7 countries 2 0 25 50 75 100 Guns per 100 people Sources: Institute for Health Metrics and Evaluation, Global Burden of Disease Study 2016; Small Arms Survey, 2017.\\n\\nMany researchers think easy access to guns is an important part of the problem. “Violence in schools is just a small part of the larger problem of gun violence in our society,” Cornell wrote in a statement about prevention of violence in schools and communities.\\n\\nMisguided safety measures, such as dramatized lockdown drills, may give us the impression that we are protecting children, when, in fact, we are handing them a burden that adults are failing to address.\\n\\nRead more:\\n\\n‘What if someone was shooting?’\\n\\nThey grew up practicing lockdown drills. Now they’re steering the conversation on gun violence.\\n\\nSchool shootings are extraordinarily rare. Why is fear of them driving policy?\\n\\nPutting more cops in schools won’t make schools safer, and it will likely inflict a lot of harm'"
            ]
          },
          "metadata": {
            "tags": []
          },
          "execution_count": 20
        }
      ]
    },
    {
      "cell_type": "code",
      "metadata": {
        "id": "MqN_qzggD_lK",
        "colab_type": "code",
        "colab": {}
      },
      "source": [
        "# Encode Data as Chars\n",
        "\n",
        "# Gather all text \n",
        "# Why? 1. See all possible characters 2. For training / splitting later\n",
        "text = \" \".join(data)\n",
        "\n",
        "# Unique Characters\n",
        "chars = list(set(text))\n",
        "\n",
        "# Lookup Tables, char to int and int to char\n",
        "# Something to iterate through??\n",
        "char_int = {c:i for i, c in enumerate(chars)} \n",
        "int_char = {i:c for i, c in enumerate(chars)} "
      ],
      "execution_count": 0,
      "outputs": []
    },
    {
      "cell_type": "code",
      "metadata": {
        "id": "ejXpGFYED_lM",
        "colab_type": "code",
        "colab": {}
      },
      "source": [
        "chars"
      ],
      "execution_count": 0,
      "outputs": []
    },
    {
      "cell_type": "code",
      "metadata": {
        "id": "d9qjp-RkD_lQ",
        "colab_type": "code",
        "outputId": "c31e9958-191a-4b05-e897-dbdda0168fb3",
        "colab": {
          "base_uri": "https://localhost:8080/",
          "height": 34
        }
      },
      "source": [
        "# Create the sequence data\n",
        "\n",
        "maxlen = 40\n",
        "step = 5\n",
        "\n",
        "# encode all the text by looking up the dictionary  for each character in text\n",
        "encoded = [char_int[c] for c in text]\n",
        "\n",
        "sequences = [] # Each element is 40 chars long\n",
        "next_char = [] # One element for each sequence\n",
        "# take 40 chars and predict next char. each time\n",
        "\n",
        "for i in range(0, len(encoded) - maxlen, step):\n",
        "    \n",
        "    sequences.append(encoded[i : i + maxlen])\n",
        "    next_char.append(encoded[i + maxlen])\n",
        "    \n",
        "print('sequences: ', len(sequences))\n"
      ],
      "execution_count": 17,
      "outputs": [
        {
          "output_type": "stream",
          "text": [
            "sequences:  178374\n"
          ],
          "name": "stdout"
        }
      ]
    },
    {
      "cell_type": "code",
      "metadata": {
        "id": "wjh2hV-sD_lS",
        "colab_type": "code",
        "outputId": "d1b16f71-f34a-4a00-c8e9-3296fb8e3c41",
        "colab": {
          "base_uri": "https://localhost:8080/",
          "height": 697
        }
      },
      "source": [
        "sequences[0]"
      ],
      "execution_count": 18,
      "outputs": [
        {
          "output_type": "execute_result",
          "data": {
            "text/plain": [
              "[112,\n",
              " 78,\n",
              " 42,\n",
              " 86,\n",
              " 90,\n",
              " 47,\n",
              " 81,\n",
              " 99,\n",
              " 86,\n",
              " 47,\n",
              " 42,\n",
              " 63,\n",
              " 76,\n",
              " 114,\n",
              " 78,\n",
              " 38,\n",
              " 99,\n",
              " 111,\n",
              " 42,\n",
              " 47,\n",
              " 10,\n",
              " 86,\n",
              " 115,\n",
              " 115,\n",
              " 84,\n",
              " 79,\n",
              " 25,\n",
              " 76,\n",
              " 15,\n",
              " 78,\n",
              " 99,\n",
              " 10,\n",
              " 25,\n",
              " 76,\n",
              " 47,\n",
              " 10,\n",
              " 76,\n",
              " 78,\n",
              " 42,\n",
              " 76]"
            ]
          },
          "metadata": {
            "tags": []
          },
          "execution_count": 18
        }
      ]
    },
    {
      "cell_type": "code",
      "metadata": {
        "id": "RAKtM_L_D_lU",
        "colab_type": "code",
        "colab": {}
      },
      "source": [
        "# Now we have the sequence data but it is not encoded properly\n",
        "\n",
        "# Since we are only 121 features, we have to one hot encode\n",
        "#  Currently each item is 121 elemnents long, index, sequence, one hot encode\n",
        "\n",
        "# Create x & y\n",
        "# make a bunch of zeroes, and make a one where the sequence value is currently\n",
        "x = np.zeros((len(sequences), maxlen, len(chars)), dtype=np.bool)\n",
        "y = np.zeros((len(sequences),len(chars)), dtype=np.bool)\n",
        "\n",
        "for i, sequence in enumerate(sequences):\n",
        "    for t, char in enumerate(sequence):\n",
        "        x[i,t,char] = 1\n",
        "        \n",
        "    y[i, next_char[i]] = 1\n",
        "        "
      ],
      "execution_count": 0,
      "outputs": []
    },
    {
      "cell_type": "code",
      "metadata": {
        "id": "6y94wgB5D_lW",
        "colab_type": "code",
        "outputId": "5bdfb5af-1f94-4265-fae5-9932bcd1e2f7",
        "colab": {
          "base_uri": "https://localhost:8080/",
          "height": 34
        }
      },
      "source": [
        "x.shape\n",
        "# first number is the number of Observations we created (sequences)\n",
        "# 2nd is size of the observation or sequence, as number of characters\n",
        "# third is the one hot encoding of an item in the sequence in an observation"
      ],
      "execution_count": 20,
      "outputs": [
        {
          "output_type": "execute_result",
          "data": {
            "text/plain": [
              "(178374, 40, 121)"
            ]
          },
          "metadata": {
            "tags": []
          },
          "execution_count": 20
        }
      ]
    },
    {
      "cell_type": "code",
      "metadata": {
        "id": "SM6fHpXWD_lY",
        "colab_type": "code",
        "outputId": "fa948336-a0e4-4099-96eb-c96f55950bcd",
        "colab": {
          "base_uri": "https://localhost:8080/",
          "height": 34
        }
      },
      "source": [
        "y.shape"
      ],
      "execution_count": 21,
      "outputs": [
        {
          "output_type": "execute_result",
          "data": {
            "text/plain": [
              "(178374, 121)"
            ]
          },
          "metadata": {
            "tags": []
          },
          "execution_count": 21
        }
      ]
    },
    {
      "cell_type": "code",
      "metadata": {
        "id": "kaDJPJplD_la",
        "colab_type": "code",
        "colab": {}
      },
      "source": [
        "# build the model: a single LSTM\n",
        "\n",
        "model = Sequential()\n",
        "model.add(LSTM(128, input_shape=(maxlen, len(chars))))\n",
        "model.add(Dense(len(chars), activation='softmax'))\n",
        "\n",
        "model.compile(loss='categorical_crossentropy', optimizer='nadam')"
      ],
      "execution_count": 0,
      "outputs": []
    },
    {
      "cell_type": "code",
      "metadata": {
        "id": "Z-Ns4lgRD_lc",
        "colab_type": "code",
        "colab": {}
      },
      "source": [
        "def sample(preds):\n",
        "    # helper function to sample an index from a probability array\n",
        "    # takes probabilities and gives location for highest prob\n",
        "    # essentially giving our prediction\n",
        "    preds = np.asarray(preds).astype('float64')\n",
        "    preds = np.log(preds) / 1\n",
        "    exp_preds = np.exp(preds)\n",
        "    preds = exp_preds / np.sum(exp_preds)\n",
        "    probas = np.random.multinomial(1, preds, 1)\n",
        "    return np.argmax(probas)"
      ],
      "execution_count": 0,
      "outputs": []
    },
    {
      "cell_type": "code",
      "metadata": {
        "id": "sisFRRbJD_lf",
        "colab_type": "code",
        "colab": {}
      },
      "source": [
        "def on_epoch_end(epoch, _):\n",
        "    # Function invoked at end of each epoch. Prints generated text.\n",
        "    \n",
        "    print()\n",
        "    print('----- Generating text after Epoch: %d' % epoch)\n",
        "    \n",
        "    start_index = random.randint(0, len(text) - maxlen - 1)\n",
        "    \n",
        "    generated = ''\n",
        "    \n",
        "    sentence = text[start_index: start_index + maxlen]\n",
        "    generated += sentence\n",
        "    \n",
        "    print('----- Generating with seed: \"' + sentence + '\"')\n",
        "    sys.stdout.write(generated)\n",
        "    \n",
        "    for i in range(400):\n",
        "        x_pred = np.zeros((1, maxlen, len(chars)))\n",
        "        for t, char in enumerate(sentence):\n",
        "            x_pred[0, t, char_int[char]] = 1\n",
        "            \n",
        "        preds = model.predict(x_pred, verbose=0)[0]\n",
        "        next_index = sample(preds)\n",
        "        next_char = int_char[next_index]\n",
        "        \n",
        "        sentence = sentence[1:] + next_char\n",
        "        \n",
        "        sys.stdout.write(next_char)\n",
        "        sys.stdout.flush()\n",
        "    print()\n",
        "\n",
        "\n",
        "print_callback = LambdaCallback(on_epoch_end=on_epoch_end)"
      ],
      "execution_count": 0,
      "outputs": []
    },
    {
      "cell_type": "code",
      "metadata": {
        "id": "zpHaSUGnD_lg",
        "colab_type": "code",
        "outputId": "cb170ec4-d4fe-42fc-adef-de7f872ddfbc",
        "colab": {
          "base_uri": "https://localhost:8080/",
          "height": 1000
        }
      },
      "source": [
        "# fit the model\n",
        "\n",
        "model.fit(x, y,\n",
        "          batch_size=256,\n",
        "          epochs=10,\n",
        "          callbacks=[print_callback])"
      ],
      "execution_count": 26,
      "outputs": [
        {
          "output_type": "stream",
          "text": [
            "Epoch 1/10\n",
            "695/697 [============================>.] - ETA: 0s - loss: 2.9617\n",
            "----- Generating text after Epoch: 0\n",
            "----- Generating with seed: \"Many of the news organizations and peopl\"\n",
            "Many of the news organizations and peopleiSate Dac, oMSmenashevTr, aowe dunnd ae whvethit \n",
            "Ogpreralodl wis moril d ceeeso. s”\n",
            "in awk hedad quywwha dBeag aus igepen boccnratyenthve\n",
            "s,ásc\n",
            "or Southetnifd ti caltrvorntet Tucoolp oan0chcdintibl whedeeinith che il at PreRben tho [acll Sunaem,nd,t,n ar drovcientns denticgunid ant orvd caDe at tams fins tea’ mlelpr le af an lins vhod Evngranyopoud Heun[a maacs uaid aJraol qIwe[yud arint lit ere\n",
            "697/697 [==============================] - 28s 40ms/step - loss: 2.9611\n",
            "Epoch 2/10\n",
            "696/697 [============================>.] - ETA: 0s - loss: 2.5229\n",
            "----- Generating text after Epoch: 1\n",
            "----- Generating with seed: \"ife.\n",
            "\n",
            "On Aug. 21, about eight months int\"\n",
            "ife.\n",
            "\n",
            "On Aug. 21, about eight months interantsiwse ncis thes.”\n",
            "\n",
            "\n",
            "8 A Un uveile i eing wof oh mofvispal suve Pervimse das one Dfomgoof boet lat ans Skeveatiy ceh ies so tar fimh hofle tont chalile thos in chatian, te s fount.\n",
            "\n",
            "\n",
            "[‘pracildzag fpics atcroth renslercor knsl and oe Mom ma. Souciniwn Jibe pid santIt 10 20 The mhowalcthand ratwoy fhad oad reg hove os womeg ’red mork, nitasow ,eriol hin, whamend akssthiog’, whot.\n",
            "\n",
            "\n",
            "Athe o mhithe\n",
            "697/697 [==============================] - 29s 41ms/step - loss: 2.5226\n",
            "Epoch 3/10\n",
            "696/697 [============================>.] - ETA: 0s - loss: 2.3869\n",
            "----- Generating text after Epoch: 2\n",
            "----- Generating with seed: \"SS OR COMPLETENESS OF DATA MADE AVAILABL\"\n",
            "SS OR COMPLETENESS OF DATA MADE AVAILABL TNPEEUOH. wh 2i fErME2 A SESES DRG AT@(OID\n",
            "\n",
            "MAMXCtBU!I NEALI@II I-TISuHp SRTRAN IOA MN. VLAEAWY AISIYAT NA ’E I ASRT) FCR I“ RAn AOAbVtOI CAASwN ORMELS MHAIPLVuI,”\n",
            "\n",
            "(U VARUAN CCpCEEWIAA‘A ““MOU\n",
            "AHeDAE9NSa TII FEE ERO Ipts SyeS Whls woy SMASBAd y)Per UThe LIverdxas USs in Smat yzeninge miyf boe thp daly s. -os rmesce” bion mam]-Ci. Aurde  honcad ineisny. “9rivvo tej lasilf fow tiom soling nal hoon\n",
            "697/697 [==============================] - 28s 40ms/step - loss: 2.3869\n",
            "Epoch 4/10\n",
            "696/697 [============================>.] - ETA: 0s - loss: 2.3071\n",
            "----- Generating text after Epoch: 3\n",
            "----- Generating with seed: \"obstacles is to use something else entir\"\n",
            "obstacles is to use something else entiras on the mimo, buth hon whourle “at ou to hat Leaid in egpstrobes ana abone htimation 20 Semted poworo, On Juane fa the anmire tou rmakation, af resteres ismagict peo!s wos chetu’s atsouuvany cis the panokes lop too Prated whit bage ane fmurcwico a pretclyow ery in -it MoHe the an Texputnen POst lacbend oo Weve pateds, nound dickprateles, whatrondth tor hof leed the. Deseond Wowest soosoin’t angu\n",
            "697/697 [==============================] - 27s 39ms/step - loss: 2.3070\n",
            "Epoch 5/10\n",
            "696/697 [============================>.] - ETA: 0s - loss: 2.2648\n",
            "----- Generating text after Epoch: 4\n",
            "----- Generating with seed: \"Los Angeles and then New York. He did fi\"\n",
            "Los Angeles and then New York. He did finS jot dwived ngemed conged Poruby ae the porils. MPry5ctwating. 20015 find of bnoth wed ald gighter to thop womes \"ighe nta in ches. Sad the freseed, the, as usbund thar of Tmenurs a crecpode the cule folial yfolling that thern Houre nous cont aed whtly.\n",
            "\n",
            "“D.’d whet ) habked of ald the pfotiog hive wite the Euce Lhe the wat whowise wish in to e Trump LaScurngist chay arly, in out incringst curs” \n",
            "697/697 [==============================] - 27s 38ms/step - loss: 2.2648\n",
            "Epoch 6/10\n",
            "696/697 [============================>.] - ETA: 0s - loss: 2.1997\n",
            "----- Generating text after Epoch: 5\n",
            "----- Generating with seed: \"on, 28, was pronounced dead at the scene\"\n",
            "on, 28, was pronounced dead at the scened comines, fetre thes. Wald indenced Phand-on the right maye canil. in oned of ningen in on the chatlindey Mevicavirg ala and whin Whas im the lene the Wedel wire gat bo tiat somsting Weareas infont-ferving Hasted the phit’sing colcingan 1980 naned\n",
            "\n",
            "Awwicks he n onge voriw, wat zistion; protop meputers, a desea chejulital the Usersted, hise whast and popply cusplul. Intina, Tushire crespanteritar.\n",
            "697/697 [==============================] - 28s 41ms/step - loss: 2.2001\n",
            "Epoch 7/10\n",
            "695/697 [============================>.] - ETA: 0s - loss: 2.1550\n",
            "----- Generating text after Epoch: 6\n",
            "----- Generating with seed: \"an consequences.\n",
            "\n",
            "The idea that the Unit\"\n",
            "an consequences.\n",
            "\n",
            "The idea that the Unith a dimins in befane nats Yauds abresed traive samolle blouppoon a Nran as obeinadly zolide timens sustentent for nith courstolist hat Mectases and and cemaire, the porle hopllices, the superu's cemppoonofia Suncture thit of yomu. I lifns the chouts withing alned, in hereap a persels way andipe Stoprith styt thes in hame or tox roysershoning’s dechewthise the cartnows in Burt of stokides. Hhit car\n",
            "697/697 [==============================] - 27s 38ms/step - loss: 2.1550\n",
            "Epoch 8/10\n",
            "697/697 [==============================] - ETA: 0s - loss: 2.1171\n",
            "----- Generating text after Epoch: 7\n",
            "----- Generating with seed: \"ren’t going against etiquette protocol t\"\n",
            "ren’t going against etiquette protocol to rave thes ghico band pterto, asegrercend atingtond acthmesture sould the are thas netd exfire ponbeony Itautions Grisct. The Wedd.\n",
            "\n",
            "In lidle tubklack wavimal sapkert’s in to bereds F-ly, are sublegr &ren sedericl, Pastime thrke wnilyed bith he winl is flrow Jodd op rowing in thay simito fro crabiigot.\"\n",
            "\n",
            "He wercaiofices fure “shit the has scouts Bustice that catsed the Oefore reves, atlewientient\n",
            "697/697 [==============================] - 26s 38ms/step - loss: 2.1171\n",
            "Epoch 9/10\n",
            "696/697 [============================>.] - ETA: 0s - loss: 2.0831\n",
            "----- Generating text after Epoch: 8\n",
            "----- Generating with seed: \"s friend, Jafar Alizada, who arrived in \"\n",
            "s friend, Jafar Alizada, who arrived in kirg.a’s :ft that er Yriun,” or excipesing ust/thold wish aprughthe spivicy boguls beS tant id hose Elooks wore offermary (is’le efine pyo[rehtingen tourery ona a deaigmeres frovicl percertioulions, on ofe pay ovint questry liols bay aíStorm to yousve plomey serachated outhin the thes de tar astin Pon’t whoy withicl condicion arkis/arling reover Coveriey. “hit a ristorate Miccieasion, No Rachiay, \n",
            "697/697 [==============================] - 28s 41ms/step - loss: 2.0833\n",
            "Epoch 10/10\n",
            "695/697 [============================>.] - ETA: 0s - loss: 2.0527\n",
            "----- Generating text after Epoch: 9\n",
            "----- Generating with seed: \"ned by the laws of the United States and\"\n",
            "ned by the laws of the United States and is the Crans U.L. Steem/redyiens ancade.”\n",
            "\n",
            "U. Wanne to eng trempary.”\n",
            "\n",
            "Plerering do and llaifaling fouss. But Eask in has neppremld you tup paile in waidicad metelds ffow ourter trome of Ire farimgstans if a pronet addingone father you couto. modess abets imong a proviced tinal cempt puntectess veop. Deate) as iveristwon, ont inlaties. (EVeraneye said kont and sten a psetset the pools at’s ablemr\n",
            "697/697 [==============================] - 26s 38ms/step - loss: 2.0526\n"
          ],
          "name": "stdout"
        },
        {
          "output_type": "execute_result",
          "data": {
            "text/plain": [
              "<tensorflow.python.keras.callbacks.History at 0x7f56e23f8668>"
            ]
          },
          "metadata": {
            "tags": []
          },
          "execution_count": 26
        }
      ]
    },
    {
      "cell_type": "markdown",
      "metadata": {
        "id": "wqyMk600D_lk",
        "colab_type": "text"
      },
      "source": [
        "## Challenge\n",
        "\n",
        "You will be expected to use a Keras LSTM to generate text on today's assignment. "
      ]
    },
    {
      "cell_type": "markdown",
      "metadata": {
        "id": "w0oXYxGZD_ll",
        "colab_type": "text"
      },
      "source": [
        "# Review\n",
        "\n",
        "- <a href=\"#p1\">Part 1: </a>Describe Neural Networks used for modeling sequences\n",
        "    * Sequence Problems:\n",
        "        - Time Series (like Stock Prices, Weather, etc.)\n",
        "        - Text Classification\n",
        "        - Text Generation\n",
        "        - And many more! :D\n",
        "    * LSTMs are generally preferred over RNNs for most problems\n",
        "    * LSTMs are typically a single hidden layer of LSTM type; although, other architectures are possible.\n",
        "    * Keras has LSTMs/RNN layer types implemented nicely\n",
        "- <a href=\"#p2\">Part 2: </a>Apply a LSTM to a text generation problem using Keras\n",
        "    * Shape of input data is very important\n",
        "    * Can take a while to train\n",
        "    * You can use it to write movie scripts. :P "
      ]
    }
  ]
}